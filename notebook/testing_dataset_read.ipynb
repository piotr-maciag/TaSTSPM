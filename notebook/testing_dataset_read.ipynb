{
 "cells": [
  {
   "cell_type": "raw",
   "source": [
    "Testing reading dataset from files."
   ],
   "metadata": {
    "collapsed": false
   },
   "id": "88ecc2fb2bfa46e3"
  },
  {
   "cell_type": "code",
   "source": [
    "from src.Sequence import *"
   ],
   "metadata": {
    "collapsed": false,
    "ExecuteTime": {
     "end_time": "2024-06-11T18:57:33.023127Z",
     "start_time": "2024-06-11T18:57:32.753705Z"
    }
   },
   "id": "b5644258f349774",
   "outputs": [],
   "execution_count": 1
  },
  {
   "cell_type": "code",
   "source": [
    "d1 = Dataset(\"../data/toy_dataset.csv\")\n",
    "print(d1)"
   ],
   "metadata": {
    "collapsed": false,
    "ExecuteTime": {
     "end_time": "2024-06-11T18:57:33.046286Z",
     "start_time": "2024-06-11T18:57:33.033721Z"
    }
   },
   "id": "f78a100ef93317c2",
   "outputs": [
    {
     "name": "stdout",
     "output_type": "stream",
     "text": [
      "Loading data from ../data/toy_dataset.csv\n",
      "Data read successfully: 17 rows\n",
      "Event(ID: 2, Type: A, Time: 6, Location: (101, 101))\n",
      "Event(ID: 1, Type: A, Time: 11, Location: (22, 22))\n",
      "Event(ID: 5, Type: B, Time: 25, Location: (27, 27))\n",
      "Event(ID: 7, Type: B, Time: 23, Location: (106, 106))\n",
      "Event(ID: 3, Type: B, Time: 21, Location: (20, 20))\n",
      "Event(ID: 6, Type: B, Time: 21, Location: (99, 99))\n",
      "Event(ID: 4, Type: B, Time: 18, Location: (63, 63))\n",
      "Event(ID: 9, Type: C, Time: 37, Location: (31, 31))\n",
      "Event(ID: 10, Type: C, Time: 29, Location: (58, 58))\n",
      "Event(ID: 8, Type: C, Time: 37, Location: (22, 22))\n",
      "Event(ID: 11, Type: C, Time: 29, Location: (67, 67))\n",
      "Event(ID: 12, Type: C, Time: 31, Location: (101, 101))\n",
      "Event(ID: 13, Type: D, Time: 41, Location: (21, 21))\n",
      "Event(ID: 14, Type: D, Time: 41, Location: (29, 29))\n",
      "Event(ID: 17, Type: D, Time: 38, Location: (106, 106))\n",
      "Event(ID: 15, Type: D, Time: 54, Location: (72, 72))\n",
      "Event(ID: 16, Type: D, Time: 38, Location: (98, 98))\n",
      "Event Type: A, Number of Events: 2\n",
      "Event Type: B, Number of Events: 5\n",
      "Event Type: C, Number of Events: 5\n",
      "Event Type: D, Number of Events: 5\n",
      "Event Type: A, Time Range: (6, 11)\n",
      "Event Type: B, Time Range: (18, 25)\n",
      "Event Type: C, Time Range: (29, 37)\n",
      "Event Type: D, Time Range: (38, 54)\n"
     ]
    }
   ],
   "execution_count": 2
  }
 ],
 "metadata": {
  "kernelspec": {
   "display_name": "Python 3",
   "language": "python",
   "name": "python3"
  },
  "language_info": {
   "codemirror_mode": {
    "name": "ipython",
    "version": 2
   },
   "file_extension": ".py",
   "mimetype": "text/x-python",
   "name": "python",
   "nbconvert_exporter": "python",
   "pygments_lexer": "ipython2",
   "version": "2.7.6"
  }
 },
 "nbformat": 4,
 "nbformat_minor": 5
}
