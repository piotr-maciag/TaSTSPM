{
 "cells": [
  {
   "metadata": {},
   "cell_type": "markdown",
   "source": "## Initial tests with TaSTSPM",
   "id": "707fbdf03d3b3d8"
  },
  {
   "cell_type": "code",
   "id": "initial_id",
   "metadata": {
    "collapsed": true,
    "ExecuteTime": {
     "end_time": "2024-06-19T12:40:44.685169Z",
     "start_time": "2024-06-19T12:40:44.349384Z"
    }
   },
   "source": [
    "from src.Sequence import *\n",
    "from src.TaSTSPM import *"
   ],
   "outputs": [],
   "execution_count": 1
  },
  {
   "metadata": {
    "ExecuteTime": {
     "end_time": "2024-06-19T12:40:44.692211Z",
     "start_time": "2024-06-19T12:40:44.687377Z"
    }
   },
   "cell_type": "code",
   "source": [
    "import sys\n",
    "\n",
    "# Print the current maximum recursion depth\n",
    "print(\"Current recursion limit:\", sys.getrecursionlimit())\n",
    "\n",
    "# Set the maximum recursion depth to a higher value, for example, 3000\n",
    "sys.setrecursionlimit(7000)\n",
    "\n",
    "# Print the new maximum recursion depth\n",
    "print(\"New recursion limit:\", sys.getrecursionlimit())"
   ],
   "id": "bc77685f1f2c700",
   "outputs": [
    {
     "name": "stdout",
     "output_type": "stream",
     "text": [
      "Current recursion limit: 3000\n",
      "New recursion limit: 7000\n"
     ]
    }
   ],
   "execution_count": 2
  },
  {
   "metadata": {
    "ExecuteTime": {
     "end_time": "2024-06-19T12:40:44.978728Z",
     "start_time": "2024-06-19T12:40:44.694063Z"
    }
   },
   "cell_type": "code",
   "source": [
    "stq = [Sequence(event_types=['B', 'C', 'D'])]\n",
    "stq"
   ],
   "id": "daa4dfe6fecc1f3c",
   "outputs": [
    {
     "ename": "TypeError",
     "evalue": "object of type 'NoneType' has no len()",
     "output_type": "error",
     "traceback": [
      "\u001B[0;31m---------------------------------------------------------------------------\u001B[0m",
      "\u001B[0;31mTypeError\u001B[0m                                 Traceback (most recent call last)",
      "File \u001B[0;32m~/anaconda3/lib/python3.10/site-packages/IPython/core/formatters.py:708\u001B[0m, in \u001B[0;36mPlainTextFormatter.__call__\u001B[0;34m(self, obj)\u001B[0m\n\u001B[1;32m    701\u001B[0m stream \u001B[38;5;241m=\u001B[39m StringIO()\n\u001B[1;32m    702\u001B[0m printer \u001B[38;5;241m=\u001B[39m pretty\u001B[38;5;241m.\u001B[39mRepresentationPrinter(stream, \u001B[38;5;28mself\u001B[39m\u001B[38;5;241m.\u001B[39mverbose,\n\u001B[1;32m    703\u001B[0m     \u001B[38;5;28mself\u001B[39m\u001B[38;5;241m.\u001B[39mmax_width, \u001B[38;5;28mself\u001B[39m\u001B[38;5;241m.\u001B[39mnewline,\n\u001B[1;32m    704\u001B[0m     max_seq_length\u001B[38;5;241m=\u001B[39m\u001B[38;5;28mself\u001B[39m\u001B[38;5;241m.\u001B[39mmax_seq_length,\n\u001B[1;32m    705\u001B[0m     singleton_pprinters\u001B[38;5;241m=\u001B[39m\u001B[38;5;28mself\u001B[39m\u001B[38;5;241m.\u001B[39msingleton_printers,\n\u001B[1;32m    706\u001B[0m     type_pprinters\u001B[38;5;241m=\u001B[39m\u001B[38;5;28mself\u001B[39m\u001B[38;5;241m.\u001B[39mtype_printers,\n\u001B[1;32m    707\u001B[0m     deferred_pprinters\u001B[38;5;241m=\u001B[39m\u001B[38;5;28mself\u001B[39m\u001B[38;5;241m.\u001B[39mdeferred_printers)\n\u001B[0;32m--> 708\u001B[0m \u001B[43mprinter\u001B[49m\u001B[38;5;241;43m.\u001B[39;49m\u001B[43mpretty\u001B[49m\u001B[43m(\u001B[49m\u001B[43mobj\u001B[49m\u001B[43m)\u001B[49m\n\u001B[1;32m    709\u001B[0m printer\u001B[38;5;241m.\u001B[39mflush()\n\u001B[1;32m    710\u001B[0m \u001B[38;5;28;01mreturn\u001B[39;00m stream\u001B[38;5;241m.\u001B[39mgetvalue()\n",
      "File \u001B[0;32m~/anaconda3/lib/python3.10/site-packages/IPython/lib/pretty.py:393\u001B[0m, in \u001B[0;36mRepresentationPrinter.pretty\u001B[0;34m(self, obj)\u001B[0m\n\u001B[1;32m    390\u001B[0m \u001B[38;5;28;01mfor\u001B[39;00m \u001B[38;5;28mcls\u001B[39m \u001B[38;5;129;01min\u001B[39;00m _get_mro(obj_class):\n\u001B[1;32m    391\u001B[0m     \u001B[38;5;28;01mif\u001B[39;00m \u001B[38;5;28mcls\u001B[39m \u001B[38;5;129;01min\u001B[39;00m \u001B[38;5;28mself\u001B[39m\u001B[38;5;241m.\u001B[39mtype_pprinters:\n\u001B[1;32m    392\u001B[0m         \u001B[38;5;66;03m# printer registered in self.type_pprinters\u001B[39;00m\n\u001B[0;32m--> 393\u001B[0m         \u001B[38;5;28;01mreturn\u001B[39;00m \u001B[38;5;28;43mself\u001B[39;49m\u001B[38;5;241;43m.\u001B[39;49m\u001B[43mtype_pprinters\u001B[49m\u001B[43m[\u001B[49m\u001B[38;5;28;43mcls\u001B[39;49m\u001B[43m]\u001B[49m\u001B[43m(\u001B[49m\u001B[43mobj\u001B[49m\u001B[43m,\u001B[49m\u001B[43m \u001B[49m\u001B[38;5;28;43mself\u001B[39;49m\u001B[43m,\u001B[49m\u001B[43m \u001B[49m\u001B[43mcycle\u001B[49m\u001B[43m)\u001B[49m\n\u001B[1;32m    394\u001B[0m     \u001B[38;5;28;01melse\u001B[39;00m:\n\u001B[1;32m    395\u001B[0m         \u001B[38;5;66;03m# deferred printer\u001B[39;00m\n\u001B[1;32m    396\u001B[0m         printer \u001B[38;5;241m=\u001B[39m \u001B[38;5;28mself\u001B[39m\u001B[38;5;241m.\u001B[39m_in_deferred_types(\u001B[38;5;28mcls\u001B[39m)\n",
      "File \u001B[0;32m~/anaconda3/lib/python3.10/site-packages/IPython/lib/pretty.py:640\u001B[0m, in \u001B[0;36m_seq_pprinter_factory.<locals>.inner\u001B[0;34m(obj, p, cycle)\u001B[0m\n\u001B[1;32m    638\u001B[0m         p\u001B[38;5;241m.\u001B[39mtext(\u001B[38;5;124m'\u001B[39m\u001B[38;5;124m,\u001B[39m\u001B[38;5;124m'\u001B[39m)\n\u001B[1;32m    639\u001B[0m         p\u001B[38;5;241m.\u001B[39mbreakable()\n\u001B[0;32m--> 640\u001B[0m     \u001B[43mp\u001B[49m\u001B[38;5;241;43m.\u001B[39;49m\u001B[43mpretty\u001B[49m\u001B[43m(\u001B[49m\u001B[43mx\u001B[49m\u001B[43m)\u001B[49m\n\u001B[1;32m    641\u001B[0m \u001B[38;5;28;01mif\u001B[39;00m \u001B[38;5;28mlen\u001B[39m(obj) \u001B[38;5;241m==\u001B[39m \u001B[38;5;241m1\u001B[39m \u001B[38;5;129;01mand\u001B[39;00m \u001B[38;5;28misinstance\u001B[39m(obj, \u001B[38;5;28mtuple\u001B[39m):\n\u001B[1;32m    642\u001B[0m     \u001B[38;5;66;03m# Special case for 1-item tuples.\u001B[39;00m\n\u001B[1;32m    643\u001B[0m     p\u001B[38;5;241m.\u001B[39mtext(\u001B[38;5;124m'\u001B[39m\u001B[38;5;124m,\u001B[39m\u001B[38;5;124m'\u001B[39m)\n",
      "File \u001B[0;32m~/anaconda3/lib/python3.10/site-packages/IPython/lib/pretty.py:410\u001B[0m, in \u001B[0;36mRepresentationPrinter.pretty\u001B[0;34m(self, obj)\u001B[0m\n\u001B[1;32m    407\u001B[0m                         \u001B[38;5;28;01mreturn\u001B[39;00m meth(obj, \u001B[38;5;28mself\u001B[39m, cycle)\n\u001B[1;32m    408\u001B[0m                 \u001B[38;5;28;01mif\u001B[39;00m \u001B[38;5;28mcls\u001B[39m \u001B[38;5;129;01mis\u001B[39;00m \u001B[38;5;129;01mnot\u001B[39;00m \u001B[38;5;28mobject\u001B[39m \\\n\u001B[1;32m    409\u001B[0m                         \u001B[38;5;129;01mand\u001B[39;00m \u001B[38;5;28mcallable\u001B[39m(\u001B[38;5;28mcls\u001B[39m\u001B[38;5;241m.\u001B[39m\u001B[38;5;18m__dict__\u001B[39m\u001B[38;5;241m.\u001B[39mget(\u001B[38;5;124m'\u001B[39m\u001B[38;5;124m__repr__\u001B[39m\u001B[38;5;124m'\u001B[39m)):\n\u001B[0;32m--> 410\u001B[0m                     \u001B[38;5;28;01mreturn\u001B[39;00m \u001B[43m_repr_pprint\u001B[49m\u001B[43m(\u001B[49m\u001B[43mobj\u001B[49m\u001B[43m,\u001B[49m\u001B[43m \u001B[49m\u001B[38;5;28;43mself\u001B[39;49m\u001B[43m,\u001B[49m\u001B[43m \u001B[49m\u001B[43mcycle\u001B[49m\u001B[43m)\u001B[49m\n\u001B[1;32m    412\u001B[0m     \u001B[38;5;28;01mreturn\u001B[39;00m _default_pprint(obj, \u001B[38;5;28mself\u001B[39m, cycle)\n\u001B[1;32m    413\u001B[0m \u001B[38;5;28;01mfinally\u001B[39;00m:\n",
      "File \u001B[0;32m~/anaconda3/lib/python3.10/site-packages/IPython/lib/pretty.py:778\u001B[0m, in \u001B[0;36m_repr_pprint\u001B[0;34m(obj, p, cycle)\u001B[0m\n\u001B[1;32m    776\u001B[0m \u001B[38;5;250m\u001B[39m\u001B[38;5;124;03m\"\"\"A pprint that just redirects to the normal repr function.\"\"\"\u001B[39;00m\n\u001B[1;32m    777\u001B[0m \u001B[38;5;66;03m# Find newlines and replace them with p.break_()\u001B[39;00m\n\u001B[0;32m--> 778\u001B[0m output \u001B[38;5;241m=\u001B[39m \u001B[38;5;28;43mrepr\u001B[39;49m\u001B[43m(\u001B[49m\u001B[43mobj\u001B[49m\u001B[43m)\u001B[49m\n\u001B[1;32m    779\u001B[0m lines \u001B[38;5;241m=\u001B[39m output\u001B[38;5;241m.\u001B[39msplitlines()\n\u001B[1;32m    780\u001B[0m \u001B[38;5;28;01mwith\u001B[39;00m p\u001B[38;5;241m.\u001B[39mgroup():\n",
      "File \u001B[0;32m~/Praca/Nauka/publikacje/TaSTSPM/Folder/src/Sequence.py:226\u001B[0m, in \u001B[0;36mSequence.__repr__\u001B[0;34m(self)\u001B[0m\n\u001B[1;32m    225\u001B[0m \u001B[38;5;28;01mdef\u001B[39;00m \u001B[38;5;21m__repr__\u001B[39m(\u001B[38;5;28mself\u001B[39m):\n\u001B[0;32m--> 226\u001B[0m     elements_repr \u001B[38;5;241m=\u001B[39m \u001B[38;5;124;43m\"\u001B[39;49m\u001B[38;5;124;43m, \u001B[39;49m\u001B[38;5;124;43m\"\u001B[39;49m\u001B[38;5;241;43m.\u001B[39;49m\u001B[43mjoin\u001B[49m\u001B[43m(\u001B[49m\u001B[38;5;28;43mrepr\u001B[39;49m\u001B[43m(\u001B[49m\u001B[43me\u001B[49m\u001B[43m)\u001B[49m\u001B[43m \u001B[49m\u001B[38;5;28;43;01mfor\u001B[39;49;00m\u001B[43m \u001B[49m\u001B[43me\u001B[49m\u001B[43m \u001B[49m\u001B[38;5;129;43;01min\u001B[39;49;00m\u001B[43m \u001B[49m\u001B[38;5;28;43mself\u001B[39;49m\u001B[38;5;241;43m.\u001B[39;49m\u001B[43melements\u001B[49m\u001B[43m)\u001B[49m\n\u001B[1;32m    227\u001B[0m     \u001B[38;5;28;01mreturn\u001B[39;00m \u001B[38;5;124mf\u001B[39m\u001B[38;5;124m\"\u001B[39m\u001B[38;5;124mSequence(elements=[\u001B[39m\u001B[38;5;132;01m{\u001B[39;00melements_repr\u001B[38;5;132;01m}\u001B[39;00m\u001B[38;5;124m], PI=\u001B[39m\u001B[38;5;132;01m{\u001B[39;00m\u001B[38;5;28mself\u001B[39m\u001B[38;5;241m.\u001B[39mPI\u001B[38;5;132;01m}\u001B[39;00m\u001B[38;5;124m)\u001B[39m\u001B[38;5;124m\"\u001B[39m\n",
      "File \u001B[0;32m~/Praca/Nauka/publikacje/TaSTSPM/Folder/src/Sequence.py:226\u001B[0m, in \u001B[0;36m<genexpr>\u001B[0;34m(.0)\u001B[0m\n\u001B[1;32m    225\u001B[0m \u001B[38;5;28;01mdef\u001B[39;00m \u001B[38;5;21m__repr__\u001B[39m(\u001B[38;5;28mself\u001B[39m):\n\u001B[0;32m--> 226\u001B[0m     elements_repr \u001B[38;5;241m=\u001B[39m \u001B[38;5;124m\"\u001B[39m\u001B[38;5;124m, \u001B[39m\u001B[38;5;124m\"\u001B[39m\u001B[38;5;241m.\u001B[39mjoin(\u001B[38;5;28;43mrepr\u001B[39;49m\u001B[43m(\u001B[49m\u001B[43me\u001B[49m\u001B[43m)\u001B[49m \u001B[38;5;28;01mfor\u001B[39;00m e \u001B[38;5;129;01min\u001B[39;00m \u001B[38;5;28mself\u001B[39m\u001B[38;5;241m.\u001B[39melements)\n\u001B[1;32m    227\u001B[0m     \u001B[38;5;28;01mreturn\u001B[39;00m \u001B[38;5;124mf\u001B[39m\u001B[38;5;124m\"\u001B[39m\u001B[38;5;124mSequence(elements=[\u001B[39m\u001B[38;5;132;01m{\u001B[39;00melements_repr\u001B[38;5;132;01m}\u001B[39;00m\u001B[38;5;124m], PI=\u001B[39m\u001B[38;5;132;01m{\u001B[39;00m\u001B[38;5;28mself\u001B[39m\u001B[38;5;241m.\u001B[39mPI\u001B[38;5;132;01m}\u001B[39;00m\u001B[38;5;124m)\u001B[39m\u001B[38;5;124m\"\u001B[39m\n",
      "File \u001B[0;32m~/Praca/Nauka/publikacje/TaSTSPM/Folder/src/Sequence.py:134\u001B[0m, in \u001B[0;36mElement.__repr__\u001B[0;34m(self)\u001B[0m\n\u001B[1;32m    133\u001B[0m \u001B[38;5;28;01mdef\u001B[39;00m \u001B[38;5;21m__repr__\u001B[39m(\u001B[38;5;28mself\u001B[39m):\n\u001B[0;32m--> 134\u001B[0m     \u001B[38;5;28;01mreturn\u001B[39;00m (\u001B[38;5;124mf\u001B[39m\u001B[38;5;124m\"\u001B[39m\u001B[38;5;124mElement(type=\u001B[39m\u001B[38;5;132;01m{\u001B[39;00m\u001B[38;5;28mself\u001B[39m\u001B[38;5;241m.\u001B[39mevent_type\u001B[38;5;132;01m}\u001B[39;00m\u001B[38;5;124m, len(I)=\u001B[39m\u001B[38;5;132;01m{\u001B[39;00m\u001B[38;5;28mlen\u001B[39m(\u001B[38;5;28mself\u001B[39m\u001B[38;5;241m.\u001B[39mI)\u001B[38;5;132;01m}\u001B[39;00m\u001B[38;5;124m, \u001B[39m\u001B[38;5;124m\"\u001B[39m\n\u001B[1;32m    135\u001B[0m             \u001B[38;5;66;03m#f\"I_ids={[e.instance_id for e in self.I]})\"\u001B[39;00m\n\u001B[1;32m    136\u001B[0m             )\n",
      "\u001B[0;31mTypeError\u001B[0m: object of type 'NoneType' has no len()"
     ]
    }
   ],
   "execution_count": 3
  },
  {
   "metadata": {
    "ExecuteTime": {
     "end_time": "2024-06-19T12:40:44.987981Z",
     "start_time": "2024-06-19T12:40:44.979926Z"
    }
   },
   "cell_type": "code",
   "source": "D = Dataset('../data/toy_dataset.csv')\n",
   "id": "ba45c0a32bfe1b5c",
   "outputs": [
    {
     "name": "stdout",
     "output_type": "stream",
     "text": [
      "Loading data from ../data/toy_dataset.csv\n",
      "Data read successfully: 17 rows\n"
     ]
    }
   ],
   "execution_count": 4
  },
  {
   "metadata": {
    "ExecuteTime": {
     "end_time": "2024-06-19T12:40:44.994520Z",
     "start_time": "2024-06-19T12:40:44.990858Z"
    }
   },
   "cell_type": "code",
   "source": [
    "stq[0].calculate_I(0, D, 10, 20)\n",
    "stq[0].calculate_I(0, D, 10, 20)\n",
    "len(stq[0][0].I)"
   ],
   "id": "a6b43ae76cea4790",
   "outputs": [
    {
     "data": {
      "text/plain": [
       "5"
      ]
     },
     "execution_count": 5,
     "metadata": {},
     "output_type": "execute_result"
    }
   ],
   "execution_count": 5
  },
  {
   "metadata": {
    "ExecuteTime": {
     "end_time": "2024-06-19T12:40:44.999594Z",
     "start_time": "2024-06-19T12:40:44.995506Z"
    }
   },
   "cell_type": "code",
   "source": [
    "R = 10\n",
    "T = 10\n",
    "stq[0].calculate_PI(PR, D, R, T)\n",
    "stq[0].PI"
   ],
   "id": "2ffef26c3e060b06",
   "outputs": [
    {
     "data": {
      "text/plain": [
       "0.0"
      ]
     },
     "execution_count": 6,
     "metadata": {},
     "output_type": "execute_result"
    }
   ],
   "execution_count": 6
  },
  {
   "metadata": {
    "ExecuteTime": {
     "end_time": "2024-06-19T12:40:45.005397Z",
     "start_time": "2024-06-19T12:40:45.001433Z"
    }
   },
   "cell_type": "code",
   "source": "D.dataset_dict.keys()",
   "id": "2432c73631d4d22f",
   "outputs": [
    {
     "data": {
      "text/plain": [
       "dict_keys(['A', 'B', 'C', 'D'])"
      ]
     },
     "execution_count": 7,
     "metadata": {},
     "output_type": "execute_result"
    }
   ],
   "execution_count": 7
  },
  {
   "metadata": {
    "ExecuteTime": {
     "end_time": "2024-06-19T12:40:45.010840Z",
     "start_time": "2024-06-19T12:40:45.007408Z"
    }
   },
   "cell_type": "code",
   "source": [
    "R = 10\n",
    "T = 20\n",
    "stq = [Sequence(event_types=['B', 'C'])]\n",
    "TaSTSPs= tastsp_algorithm(D, D.dataset_dict.keys(), R, T, 0.2, stq)\n",
    "for s in TaSTSPs:\n",
    "    print(s)"
   ],
   "id": "c86baccf64ed1d61",
   "outputs": [],
   "execution_count": 8
  },
  {
   "metadata": {
    "ExecuteTime": {
     "end_time": "2024-06-19T12:40:45.015887Z",
     "start_time": "2024-06-19T12:40:45.012318Z"
    }
   },
   "cell_type": "code",
   "source": "# Testing on Boston reduced dataset",
   "id": "ff96ae930d93c16b",
   "outputs": [],
   "execution_count": 9
  },
  {
   "metadata": {
    "ExecuteTime": {
     "end_time": "2024-06-19T12:40:45.788943Z",
     "start_time": "2024-06-19T12:40:45.017755Z"
    }
   },
   "cell_type": "code",
   "source": [
    "D_boston = Dataset('../data/crimes_Boston.csv')\n",
    "D_boston.dataset_dict.keys()"
   ],
   "id": "f7854c167b5c3809",
   "outputs": [
    {
     "name": "stdout",
     "output_type": "stream",
     "text": [
      "Loading data from ../data/crimes_Boston.csv\n",
      "Data read successfully: 40544 rows\n"
     ]
    },
    {
     "data": {
      "text/plain": [
       "dict_keys(['AUTO_THEFT', 'SIMPLE_ASSAULT', 'OTHER_LARCENY', 'WEAPONS_CHARGE', 'VANDALISM', 'VIOLATION_OF_LIQUOR_LAWS', 'RESIDENTIAL_BURGLARY', 'AGGRAVATED_ASSAULT', 'LARCENY_FROM_MOTOR_VEHICLE', 'DISORDERLY', 'OTHER', 'DRUG_CHARGES', 'TOWED', 'OPERATING_UNDER_INFLUENCE', 'FIRE', 'EMBEZELLMENT', 'ROBBERY', 'Harass', 'COMMERCIAL_BURGLARY', 'Bomb', 'CRIMES_AGAINST_CHILDREN', 'FORGERY', 'HOMICIDE', 'ARSON', 'GAMBLING_OFFENSE', 'Manslaug'])"
      ]
     },
     "execution_count": 10,
     "metadata": {},
     "output_type": "execute_result"
    }
   ],
   "execution_count": 10
  },
  {
   "metadata": {
    "ExecuteTime": {
     "end_time": "2024-06-19T12:43:22.340110Z",
     "start_time": "2024-06-19T12:40:45.789709Z"
    }
   },
   "cell_type": "code",
   "source": [
    "R = 500\n",
    "T = 20000\n",
    "stq = [Sequence(event_types=['VANDALISM']), Sequence(event_types=['AUTO_THEFT', 'SIMPLE_ASSAULT'])]\n",
    "TaSTSPs= tastsp_algorithm(D_boston, D_boston.dataset_dict.keys(), R, T, 0.25, stq, distance_type = 'Earth', verbose = 2)\n",
    "for s in TaSTSPs:\n",
    "    print(s)"
   ],
   "id": "1698485b58178439",
   "outputs": [
    {
     "name": "stdout",
     "output_type": "stream",
     "text": [
      "Starting TaSTSP Algorithm\n",
      "Parameters: R=500, T=20000, theta=0.25, distance_type=Earth\n",
      "Number of sequences in stq: 2\n",
      "Calculating I and PI for sequence 0\n",
      "Calculating I and PI for sequence 1\n",
      "Extending forward: Sequence=Sequence:\n",
      "Element(type=VANDALISM, len(I)=4223, \n",
      "PI: 1, Index=1\n",
      "Extending forward: Sequence=Sequence:\n",
      "Element(type=VANDALISM, len(I)=4223, \n",
      "Element(type=AUTO_THEFT, len(I)=1200, \n",
      "Element(type=SIMPLE_ASSAULT, len(I)=2624, \n",
      "PI: 0.43960462389009886, Index=2\n",
      "Extending forward: Sequence=Sequence:\n",
      "Element(type=VANDALISM, len(I)=4223, \n",
      "Element(type=AUTO_THEFT, len(I)=1200, \n",
      "Element(type=SIMPLE_ASSAULT, len(I)=2624, \n",
      "Element(type=AUTO_THEFT, len(I)=863, \n",
      "PI: 0.43960462389009886, Index=2\n",
      "Extending forward: Sequence=Sequence:\n",
      "Element(type=VANDALISM, len(I)=4223, \n",
      "Element(type=AUTO_THEFT, len(I)=1200, \n",
      "Element(type=SIMPLE_ASSAULT, len(I)=2624, \n",
      "Element(type=AUTO_THEFT, len(I)=863, \n",
      "Element(type=AUTO_THEFT, len(I)=532, \n",
      "PI: 0.3369221025965801, Index=2\n",
      "Extending forward: Sequence=Sequence:\n",
      "Element(type=VANDALISM, len(I)=4223, \n",
      "Element(type=AUTO_THEFT, len(I)=1200, \n",
      "Element(type=SIMPLE_ASSAULT, len(I)=2624, \n",
      "Element(type=AUTO_THEFT, len(I)=863, \n",
      "Element(type=AUTO_THEFT, len(I)=532, \n",
      "Element(type=VIOLATION_OF_LIQUOR_LAWS, len(I)=42, \n",
      "PI: 0.2608695652173913, Index=2\n",
      "Extending forward: Sequence=Sequence:\n",
      "Element(type=VANDALISM, len(I)=4223, \n",
      "Element(type=AUTO_THEFT, len(I)=1200, \n",
      "Element(type=SIMPLE_ASSAULT, len(I)=2624, \n",
      "Element(type=AUTO_THEFT, len(I)=863, \n",
      "Element(type=AUTO_THEFT, len(I)=532, \n",
      "Element(type=DISORDERLY, len(I)=152, \n",
      "PI: 0.26252158894645944, Index=2\n",
      "Extending forward: Sequence=Sequence:\n",
      "Element(type=VANDALISM, len(I)=4223, \n",
      "Element(type=AUTO_THEFT, len(I)=1200, \n",
      "Element(type=SIMPLE_ASSAULT, len(I)=2624, \n",
      "Element(type=AUTO_THEFT, len(I)=863, \n",
      "Element(type=AUTO_THEFT, len(I)=532, \n",
      "Element(type=FIRE, len(I)=156, \n",
      "PI: 0.25742574257425743, Index=2\n",
      "Extending forward: Sequence=Sequence:\n",
      "Element(type=VANDALISM, len(I)=4223, \n",
      "Element(type=AUTO_THEFT, len(I)=1200, \n",
      "Element(type=SIMPLE_ASSAULT, len(I)=2624, \n",
      "Element(type=AUTO_THEFT, len(I)=863, \n",
      "Element(type=AUTO_THEFT, len(I)=532, \n",
      "Element(type=CRIMES_AGAINST_CHILDREN, len(I)=51, \n",
      "PI: 0.2712765957446808, Index=2\n",
      "Extending forward: Sequence=Sequence:\n",
      "Element(type=VANDALISM, len(I)=4223, \n",
      "Element(type=AUTO_THEFT, len(I)=1200, \n",
      "Element(type=SIMPLE_ASSAULT, len(I)=2624, \n",
      "Element(type=AUTO_THEFT, len(I)=863, \n",
      "Element(type=AUTO_THEFT, len(I)=532, \n",
      "Element(type=GAMBLING_OFFENSE, len(I)=3, \n",
      "PI: 0.3369221025965801, Index=2\n",
      "Extending forward: Sequence=Sequence:\n",
      "Element(type=VANDALISM, len(I)=4223, \n",
      "Element(type=AUTO_THEFT, len(I)=1200, \n",
      "Element(type=SIMPLE_ASSAULT, len(I)=2624, \n",
      "Element(type=AUTO_THEFT, len(I)=863, \n",
      "Element(type=SIMPLE_ASSAULT, len(I)=2187, \n",
      "PI: 0.36639303065840173, Index=2\n",
      "Extending forward: Sequence=Sequence:\n",
      "Element(type=VANDALISM, len(I)=4223, \n",
      "Element(type=AUTO_THEFT, len(I)=1200, \n",
      "Element(type=SIMPLE_ASSAULT, len(I)=2624, \n",
      "Element(type=AUTO_THEFT, len(I)=863, \n",
      "Element(type=SIMPLE_ASSAULT, len(I)=2187, \n",
      "Element(type=AUTO_THEFT, len(I)=720, \n",
      "PI: 0.36639303065840173, Index=2\n",
      "Extending forward: Sequence=Sequence:\n",
      "Element(type=VANDALISM, len(I)=4223, \n",
      "Element(type=AUTO_THEFT, len(I)=1200, \n",
      "Element(type=SIMPLE_ASSAULT, len(I)=2624, \n",
      "Element(type=AUTO_THEFT, len(I)=863, \n",
      "Element(type=SIMPLE_ASSAULT, len(I)=2187, \n",
      "Element(type=AUTO_THEFT, len(I)=720, \n",
      "Element(type=AUTO_THEFT, len(I)=462, \n",
      "PI: 0.29259024699176694, Index=2\n",
      "Extending forward: Sequence=Sequence:\n",
      "Element(type=VANDALISM, len(I)=4223, \n",
      "Element(type=AUTO_THEFT, len(I)=1200, \n",
      "Element(type=SIMPLE_ASSAULT, len(I)=2624, \n",
      "Element(type=AUTO_THEFT, len(I)=863, \n",
      "Element(type=SIMPLE_ASSAULT, len(I)=2187, \n",
      "Element(type=AUTO_THEFT, len(I)=720, \n",
      "Element(type=AUTO_THEFT, len(I)=462, \n",
      "Element(type=GAMBLING_OFFENSE, len(I)=2, \n",
      "PI: 0.29259024699176694, Index=2\n",
      "Extending forward: Sequence=Sequence:\n",
      "Element(type=VANDALISM, len(I)=4223, \n",
      "Element(type=AUTO_THEFT, len(I)=1200, \n",
      "Element(type=SIMPLE_ASSAULT, len(I)=2624, \n",
      "Element(type=AUTO_THEFT, len(I)=863, \n",
      "Element(type=SIMPLE_ASSAULT, len(I)=2187, \n",
      "Element(type=AUTO_THEFT, len(I)=720, \n",
      "Element(type=SIMPLE_ASSAULT, len(I)=1884, \n",
      "PI: 0.3156307589210923, Index=2\n",
      "Extending forward: Sequence=Sequence:\n",
      "Element(type=VANDALISM, len(I)=4223, \n",
      "Element(type=AUTO_THEFT, len(I)=1200, \n",
      "Element(type=SIMPLE_ASSAULT, len(I)=2624, \n",
      "Element(type=AUTO_THEFT, len(I)=863, \n",
      "Element(type=SIMPLE_ASSAULT, len(I)=2187, \n",
      "Element(type=AUTO_THEFT, len(I)=720, \n",
      "Element(type=SIMPLE_ASSAULT, len(I)=1884, \n",
      "Element(type=AUTO_THEFT, len(I)=633, \n",
      "PI: 0.3156307589210923, Index=2\n",
      "Extending forward: Sequence=Sequence:\n",
      "Element(type=VANDALISM, len(I)=4223, \n",
      "Element(type=AUTO_THEFT, len(I)=1200, \n",
      "Element(type=SIMPLE_ASSAULT, len(I)=2624, \n",
      "Element(type=AUTO_THEFT, len(I)=863, \n",
      "Element(type=SIMPLE_ASSAULT, len(I)=2187, \n",
      "Element(type=AUTO_THEFT, len(I)=720, \n",
      "Element(type=SIMPLE_ASSAULT, len(I)=1884, \n",
      "Element(type=AUTO_THEFT, len(I)=633, \n",
      "Element(type=AUTO_THEFT, len(I)=425, \n",
      "PI: 0.26915769474350854, Index=2\n",
      "Extending forward: Sequence=Sequence:\n",
      "Element(type=VANDALISM, len(I)=4223, \n",
      "Element(type=AUTO_THEFT, len(I)=1200, \n",
      "Element(type=SIMPLE_ASSAULT, len(I)=2624, \n",
      "Element(type=AUTO_THEFT, len(I)=863, \n",
      "Element(type=SIMPLE_ASSAULT, len(I)=2187, \n",
      "Element(type=AUTO_THEFT, len(I)=720, \n",
      "Element(type=SIMPLE_ASSAULT, len(I)=1884, \n",
      "Element(type=AUTO_THEFT, len(I)=633, \n",
      "Element(type=AUTO_THEFT, len(I)=425, \n",
      "Element(type=GAMBLING_OFFENSE, len(I)=2, \n",
      "PI: 0.26915769474350854, Index=2\n",
      "Extending forward: Sequence=Sequence:\n",
      "Element(type=VANDALISM, len(I)=4223, \n",
      "Element(type=AUTO_THEFT, len(I)=1200, \n",
      "Element(type=SIMPLE_ASSAULT, len(I)=2624, \n",
      "Element(type=AUTO_THEFT, len(I)=863, \n",
      "Element(type=SIMPLE_ASSAULT, len(I)=2187, \n",
      "Element(type=AUTO_THEFT, len(I)=720, \n",
      "Element(type=SIMPLE_ASSAULT, len(I)=1884, \n",
      "Element(type=AUTO_THEFT, len(I)=633, \n",
      "Element(type=SIMPLE_ASSAULT, len(I)=1696, \n",
      "PI: 0.28413469592896634, Index=2\n",
      "Extending forward: Sequence=Sequence:\n",
      "Element(type=VANDALISM, len(I)=4223, \n",
      "Element(type=AUTO_THEFT, len(I)=1200, \n",
      "Element(type=SIMPLE_ASSAULT, len(I)=2624, \n",
      "Element(type=AUTO_THEFT, len(I)=863, \n",
      "Element(type=SIMPLE_ASSAULT, len(I)=2187, \n",
      "Element(type=AUTO_THEFT, len(I)=720, \n",
      "Element(type=SIMPLE_ASSAULT, len(I)=1884, \n",
      "Element(type=AUTO_THEFT, len(I)=633, \n",
      "Element(type=SIMPLE_ASSAULT, len(I)=1696, \n",
      "Element(type=AUTO_THEFT, len(I)=563, \n",
      "PI: 0.28413469592896634, Index=2\n",
      "Extending forward: Sequence=Sequence:\n",
      "Element(type=VANDALISM, len(I)=4223, \n",
      "Element(type=AUTO_THEFT, len(I)=1200, \n",
      "Element(type=SIMPLE_ASSAULT, len(I)=2624, \n",
      "Element(type=AUTO_THEFT, len(I)=863, \n",
      "Element(type=SIMPLE_ASSAULT, len(I)=2187, \n",
      "Element(type=AUTO_THEFT, len(I)=720, \n",
      "Element(type=SIMPLE_ASSAULT, len(I)=1884, \n",
      "Element(type=AUTO_THEFT, len(I)=633, \n",
      "Element(type=SIMPLE_ASSAULT, len(I)=1696, \n",
      "Element(type=AUTO_THEFT, len(I)=563, \n",
      "Element(type=SIMPLE_ASSAULT, len(I)=1576, \n",
      "PI: 0.2640308259339923, Index=2\n",
      "Extending forward: Sequence=Sequence:\n",
      "Element(type=VANDALISM, len(I)=4223, \n",
      "Element(type=AUTO_THEFT, len(I)=1200, \n",
      "Element(type=SIMPLE_ASSAULT, len(I)=2624, \n",
      "Element(type=AUTO_THEFT, len(I)=863, \n",
      "Element(type=SIMPLE_ASSAULT, len(I)=2187, \n",
      "Element(type=AUTO_THEFT, len(I)=720, \n",
      "Element(type=SIMPLE_ASSAULT, len(I)=1884, \n",
      "Element(type=AUTO_THEFT, len(I)=633, \n",
      "Element(type=SIMPLE_ASSAULT, len(I)=1696, \n",
      "Element(type=AUTO_THEFT, len(I)=563, \n",
      "Element(type=SIMPLE_ASSAULT, len(I)=1576, \n",
      "Element(type=AUTO_THEFT, len(I)=522, \n",
      "PI: 0.2640308259339923, Index=2\n",
      "Extending forward: Sequence=Sequence:\n",
      "Element(type=VANDALISM, len(I)=4223, \n",
      "Element(type=AUTO_THEFT, len(I)=1200, \n",
      "Element(type=SIMPLE_ASSAULT, len(I)=2624, \n",
      "Element(type=AUTO_THEFT, len(I)=863, \n",
      "Element(type=SIMPLE_ASSAULT, len(I)=2187, \n",
      "Element(type=AUTO_THEFT, len(I)=720, \n",
      "Element(type=SIMPLE_ASSAULT, len(I)=1884, \n",
      "Element(type=AUTO_THEFT, len(I)=633, \n",
      "Element(type=SIMPLE_ASSAULT, len(I)=1696, \n",
      "Element(type=AUTO_THEFT, len(I)=563, \n",
      "Element(type=SIMPLE_ASSAULT, len(I)=1576, \n",
      "Element(type=AUTO_THEFT, len(I)=522, \n",
      "Element(type=DISORDERLY, len(I)=151, \n",
      "PI: 0.2607944732297064, Index=2\n",
      "Extending forward: Sequence=Sequence:\n",
      "Element(type=VANDALISM, len(I)=4223, \n",
      "Element(type=AUTO_THEFT, len(I)=1200, \n",
      "Element(type=SIMPLE_ASSAULT, len(I)=2624, \n",
      "Element(type=AUTO_THEFT, len(I)=863, \n",
      "Element(type=SIMPLE_ASSAULT, len(I)=2187, \n",
      "Element(type=AUTO_THEFT, len(I)=720, \n",
      "Element(type=SIMPLE_ASSAULT, len(I)=1884, \n",
      "Element(type=AUTO_THEFT, len(I)=633, \n",
      "Element(type=SIMPLE_ASSAULT, len(I)=1696, \n",
      "Element(type=AUTO_THEFT, len(I)=563, \n",
      "Element(type=SIMPLE_ASSAULT, len(I)=1576, \n",
      "Element(type=AUTO_THEFT, len(I)=522, \n",
      "Element(type=CRIMES_AGAINST_CHILDREN, len(I)=51, \n",
      "PI: 0.2640308259339923, Index=2\n",
      "Extending forward: Sequence=Sequence:\n",
      "Element(type=VANDALISM, len(I)=4223, \n",
      "Element(type=AUTO_THEFT, len(I)=1200, \n",
      "Element(type=SIMPLE_ASSAULT, len(I)=2624, \n",
      "Element(type=AUTO_THEFT, len(I)=863, \n",
      "Element(type=SIMPLE_ASSAULT, len(I)=2187, \n",
      "Element(type=AUTO_THEFT, len(I)=720, \n",
      "Element(type=SIMPLE_ASSAULT, len(I)=1884, \n",
      "Element(type=AUTO_THEFT, len(I)=633, \n",
      "Element(type=SIMPLE_ASSAULT, len(I)=1696, \n",
      "Element(type=AUTO_THEFT, len(I)=563, \n",
      "Element(type=SIMPLE_ASSAULT, len(I)=1576, \n",
      "Element(type=AUTO_THEFT, len(I)=522, \n",
      "Element(type=HOMICIDE, len(I)=13, \n",
      "PI: 0.2549019607843137, Index=2\n",
      "Extending forward: Sequence=Sequence:\n",
      "Element(type=VANDALISM, len(I)=4223, \n",
      "Element(type=AUTO_THEFT, len(I)=1200, \n",
      "Element(type=SIMPLE_ASSAULT, len(I)=2624, \n",
      "Element(type=AUTO_THEFT, len(I)=863, \n",
      "Element(type=SIMPLE_ASSAULT, len(I)=2187, \n",
      "Element(type=AUTO_THEFT, len(I)=720, \n",
      "Element(type=SIMPLE_ASSAULT, len(I)=1884, \n",
      "Element(type=AUTO_THEFT, len(I)=633, \n",
      "Element(type=SIMPLE_ASSAULT, len(I)=1696, \n",
      "Element(type=AUTO_THEFT, len(I)=563, \n",
      "Element(type=SIMPLE_ASSAULT, len(I)=1576, \n",
      "Element(type=AUTO_THEFT, len(I)=522, \n",
      "Element(type=GAMBLING_OFFENSE, len(I)=2, \n",
      "PI: 0.2640308259339923, Index=2\n",
      "Extending forward: Sequence=Sequence:\n",
      "Element(type=VANDALISM, len(I)=4223, \n",
      "Element(type=AUTO_THEFT, len(I)=1200, \n",
      "Element(type=SIMPLE_ASSAULT, len(I)=2624, \n",
      "Element(type=AUTO_THEFT, len(I)=863, \n",
      "Element(type=SIMPLE_ASSAULT, len(I)=2187, \n",
      "Element(type=AUTO_THEFT, len(I)=720, \n",
      "Element(type=SIMPLE_ASSAULT, len(I)=1884, \n",
      "Element(type=AUTO_THEFT, len(I)=633, \n",
      "Element(type=SIMPLE_ASSAULT, len(I)=1696, \n",
      "Element(type=AUTO_THEFT, len(I)=563, \n",
      "Element(type=SIMPLE_ASSAULT, len(I)=1576, \n",
      "Element(type=SIMPLE_ASSAULT, len(I)=2081, \n",
      "PI: 0.2640308259339923, Index=2\n",
      "Extending forward: Sequence=Sequence:\n",
      "Element(type=VANDALISM, len(I)=4223, \n",
      "Element(type=AUTO_THEFT, len(I)=1200, \n",
      "Element(type=SIMPLE_ASSAULT, len(I)=2624, \n",
      "Element(type=AUTO_THEFT, len(I)=863, \n",
      "Element(type=SIMPLE_ASSAULT, len(I)=2187, \n",
      "Element(type=AUTO_THEFT, len(I)=720, \n",
      "Element(type=SIMPLE_ASSAULT, len(I)=1884, \n",
      "Element(type=AUTO_THEFT, len(I)=633, \n",
      "Element(type=SIMPLE_ASSAULT, len(I)=1696, \n",
      "Element(type=AUTO_THEFT, len(I)=563, \n",
      "Element(type=SIMPLE_ASSAULT, len(I)=1576, \n",
      "Element(type=SIMPLE_ASSAULT, len(I)=2081, \n",
      "Element(type=AUTO_THEFT, len(I)=578, \n",
      "PI: 0.2640308259339923, Index=2\n"
     ]
    },
    {
     "ename": "KeyboardInterrupt",
     "evalue": "",
     "output_type": "error",
     "traceback": [
      "\u001B[0;31m---------------------------------------------------------------------------\u001B[0m",
      "\u001B[0;31mKeyboardInterrupt\u001B[0m                         Traceback (most recent call last)",
      "Cell \u001B[0;32mIn[11], line 4\u001B[0m\n\u001B[1;32m      2\u001B[0m T \u001B[38;5;241m=\u001B[39m \u001B[38;5;241m20000\u001B[39m\n\u001B[1;32m      3\u001B[0m stq \u001B[38;5;241m=\u001B[39m [Sequence(event_types\u001B[38;5;241m=\u001B[39m[\u001B[38;5;124m'\u001B[39m\u001B[38;5;124mVANDALISM\u001B[39m\u001B[38;5;124m'\u001B[39m]), Sequence(event_types\u001B[38;5;241m=\u001B[39m[\u001B[38;5;124m'\u001B[39m\u001B[38;5;124mAUTO_THEFT\u001B[39m\u001B[38;5;124m'\u001B[39m, \u001B[38;5;124m'\u001B[39m\u001B[38;5;124mSIMPLE_ASSAULT\u001B[39m\u001B[38;5;124m'\u001B[39m])]\n\u001B[0;32m----> 4\u001B[0m TaSTSPs\u001B[38;5;241m=\u001B[39m \u001B[43mtastsp_algorithm\u001B[49m\u001B[43m(\u001B[49m\u001B[43mD_boston\u001B[49m\u001B[43m,\u001B[49m\u001B[43m \u001B[49m\u001B[43mD_boston\u001B[49m\u001B[38;5;241;43m.\u001B[39;49m\u001B[43mdataset_dict\u001B[49m\u001B[38;5;241;43m.\u001B[39;49m\u001B[43mkeys\u001B[49m\u001B[43m(\u001B[49m\u001B[43m)\u001B[49m\u001B[43m,\u001B[49m\u001B[43m \u001B[49m\u001B[43mR\u001B[49m\u001B[43m,\u001B[49m\u001B[43m \u001B[49m\u001B[43mT\u001B[49m\u001B[43m,\u001B[49m\u001B[43m \u001B[49m\u001B[38;5;241;43m0.25\u001B[39;49m\u001B[43m,\u001B[49m\u001B[43m \u001B[49m\u001B[43mstq\u001B[49m\u001B[43m,\u001B[49m\u001B[43m \u001B[49m\u001B[43mdistance_type\u001B[49m\u001B[43m \u001B[49m\u001B[38;5;241;43m=\u001B[39;49m\u001B[43m \u001B[49m\u001B[38;5;124;43m'\u001B[39;49m\u001B[38;5;124;43mEarth\u001B[39;49m\u001B[38;5;124;43m'\u001B[39;49m\u001B[43m,\u001B[49m\u001B[43m \u001B[49m\u001B[43mverbose\u001B[49m\u001B[43m \u001B[49m\u001B[38;5;241;43m=\u001B[39;49m\u001B[43m \u001B[49m\u001B[38;5;241;43m2\u001B[39;49m\u001B[43m)\u001B[49m\n\u001B[1;32m      5\u001B[0m \u001B[38;5;28;01mfor\u001B[39;00m s \u001B[38;5;129;01min\u001B[39;00m TaSTSPs:\n\u001B[1;32m      6\u001B[0m     \u001B[38;5;28mprint\u001B[39m(s)\n",
      "File \u001B[0;32m~/Praca/Nauka/publikacje/TaSTSPM/Folder/src/TaSTSPM.py:50\u001B[0m, in \u001B[0;36mtastsp_algorithm\u001B[0;34m(D, F, R, T, theta, stq, distance_type, verbose)\u001B[0m\n\u001B[1;32m     48\u001B[0m s1 \u001B[38;5;241m=\u001B[39m stq[\u001B[38;5;241m0\u001B[39m]\n\u001B[1;32m     49\u001B[0m S \u001B[38;5;241m=\u001B[39m \u001B[38;5;28mset\u001B[39m()\n\u001B[0;32m---> 50\u001B[0m S \u001B[38;5;241m=\u001B[39m \u001B[43mextend_forward\u001B[49m\u001B[43m(\u001B[49m\u001B[43mS\u001B[49m\u001B[43m,\u001B[49m\u001B[43m \u001B[49m\u001B[43ms1\u001B[49m\u001B[43m,\u001B[49m\u001B[43m \u001B[49m\u001B[43mD\u001B[49m\u001B[43m,\u001B[49m\u001B[43m \u001B[49m\u001B[43mF\u001B[49m\u001B[43m,\u001B[49m\u001B[43m \u001B[49m\u001B[43mR\u001B[49m\u001B[43m,\u001B[49m\u001B[43m \u001B[49m\u001B[43mT\u001B[49m\u001B[43m,\u001B[49m\u001B[43m \u001B[49m\u001B[43mtheta\u001B[49m\u001B[43m,\u001B[49m\u001B[43m \u001B[49m\u001B[38;5;241;43m1\u001B[39;49m\u001B[43m,\u001B[49m\u001B[43m \u001B[49m\u001B[43mstq\u001B[49m\u001B[43m,\u001B[49m\u001B[43m \u001B[49m\u001B[43mverbose\u001B[49m\u001B[43m)\u001B[49m\n\u001B[1;32m     52\u001B[0m \u001B[38;5;28;01mif\u001B[39;00m \u001B[38;5;129;01mnot\u001B[39;00m S:\n\u001B[1;32m     53\u001B[0m     \u001B[38;5;28;01mif\u001B[39;00m verbose \u001B[38;5;241m>\u001B[39m \u001B[38;5;241m0\u001B[39m:\n",
      "File \u001B[0;32m~/Praca/Nauka/publikacje/TaSTSPM/Folder/src/TaSTSPM.py:95\u001B[0m, in \u001B[0;36mextend_forward\u001B[0;34m(S, s, D, F, R, T, theta, index, stq, verbose)\u001B[0m\n\u001B[1;32m     92\u001B[0m                         \u001B[38;5;28mprint\u001B[39m(\u001B[38;5;124mf\u001B[39m\u001B[38;5;124m\"\u001B[39m\u001B[38;5;124mExtended sequence with stq: \u001B[39m\u001B[38;5;132;01m{\u001B[39;00ms_double_star\u001B[38;5;132;01m}\u001B[39;00m\u001B[38;5;124m, PI=\u001B[39m\u001B[38;5;132;01m{\u001B[39;00ms_double_star\u001B[38;5;241m.\u001B[39mPI\u001B[38;5;132;01m}\u001B[39;00m\u001B[38;5;124m\"\u001B[39m)\n\u001B[1;32m     94\u001B[0m                 \u001B[38;5;28;01mif\u001B[39;00m s_double_star\u001B[38;5;241m.\u001B[39mPI \u001B[38;5;241m>\u001B[39m\u001B[38;5;241m=\u001B[39m theta:\n\u001B[0;32m---> 95\u001B[0m                     S \u001B[38;5;241m=\u001B[39m \u001B[43mextend_forward\u001B[49m\u001B[43m(\u001B[49m\u001B[43mS\u001B[49m\u001B[43m,\u001B[49m\u001B[43m \u001B[49m\u001B[43ms_double_star\u001B[49m\u001B[43m,\u001B[49m\u001B[43m \u001B[49m\u001B[43mD\u001B[49m\u001B[43m,\u001B[49m\u001B[43m \u001B[49m\u001B[43mF\u001B[49m\u001B[43m,\u001B[49m\u001B[43m \u001B[49m\u001B[43mR\u001B[49m\u001B[43m,\u001B[49m\u001B[43m \u001B[49m\u001B[43mT\u001B[49m\u001B[43m,\u001B[49m\u001B[43m \u001B[49m\u001B[43mtheta\u001B[49m\u001B[43m,\u001B[49m\u001B[43m \u001B[49m\u001B[43mindex\u001B[49m\u001B[43m \u001B[49m\u001B[38;5;241;43m+\u001B[39;49m\u001B[43m \u001B[49m\u001B[38;5;241;43m1\u001B[39;49m\u001B[43m,\u001B[49m\u001B[43m \u001B[49m\u001B[43mstq\u001B[49m\u001B[43m,\u001B[49m\u001B[43m \u001B[49m\u001B[43mverbose\u001B[49m\u001B[43m)\u001B[49m\n\u001B[1;32m     96\u001B[0m         S \u001B[38;5;241m=\u001B[39m extend_forward(S, s_star, D, F, R, T, theta, index, stq, verbose)\n\u001B[1;32m     98\u001B[0m \u001B[38;5;28;01mif\u001B[39;00m index \u001B[38;5;241m>\u001B[39m\u001B[38;5;241m=\u001B[39m \u001B[38;5;28mlen\u001B[39m(stq):\n",
      "File \u001B[0;32m~/Praca/Nauka/publikacje/TaSTSPM/Folder/src/TaSTSPM.py:96\u001B[0m, in \u001B[0;36mextend_forward\u001B[0;34m(S, s, D, F, R, T, theta, index, stq, verbose)\u001B[0m\n\u001B[1;32m     94\u001B[0m                 \u001B[38;5;28;01mif\u001B[39;00m s_double_star\u001B[38;5;241m.\u001B[39mPI \u001B[38;5;241m>\u001B[39m\u001B[38;5;241m=\u001B[39m theta:\n\u001B[1;32m     95\u001B[0m                     S \u001B[38;5;241m=\u001B[39m extend_forward(S, s_double_star, D, F, R, T, theta, index \u001B[38;5;241m+\u001B[39m \u001B[38;5;241m1\u001B[39m, stq, verbose)\n\u001B[0;32m---> 96\u001B[0m         S \u001B[38;5;241m=\u001B[39m \u001B[43mextend_forward\u001B[49m\u001B[43m(\u001B[49m\u001B[43mS\u001B[49m\u001B[43m,\u001B[49m\u001B[43m \u001B[49m\u001B[43ms_star\u001B[49m\u001B[43m,\u001B[49m\u001B[43m \u001B[49m\u001B[43mD\u001B[49m\u001B[43m,\u001B[49m\u001B[43m \u001B[49m\u001B[43mF\u001B[49m\u001B[43m,\u001B[49m\u001B[43m \u001B[49m\u001B[43mR\u001B[49m\u001B[43m,\u001B[49m\u001B[43m \u001B[49m\u001B[43mT\u001B[49m\u001B[43m,\u001B[49m\u001B[43m \u001B[49m\u001B[43mtheta\u001B[49m\u001B[43m,\u001B[49m\u001B[43m \u001B[49m\u001B[43mindex\u001B[49m\u001B[43m,\u001B[49m\u001B[43m \u001B[49m\u001B[43mstq\u001B[49m\u001B[43m,\u001B[49m\u001B[43m \u001B[49m\u001B[43mverbose\u001B[49m\u001B[43m)\u001B[49m\n\u001B[1;32m     98\u001B[0m \u001B[38;5;28;01mif\u001B[39;00m index \u001B[38;5;241m>\u001B[39m\u001B[38;5;241m=\u001B[39m \u001B[38;5;28mlen\u001B[39m(stq):\n\u001B[1;32m     99\u001B[0m     S\u001B[38;5;241m.\u001B[39madd(s)\n",
      "File \u001B[0;32m~/Praca/Nauka/publikacje/TaSTSPM/Folder/src/TaSTSPM.py:96\u001B[0m, in \u001B[0;36mextend_forward\u001B[0;34m(S, s, D, F, R, T, theta, index, stq, verbose)\u001B[0m\n\u001B[1;32m     94\u001B[0m                 \u001B[38;5;28;01mif\u001B[39;00m s_double_star\u001B[38;5;241m.\u001B[39mPI \u001B[38;5;241m>\u001B[39m\u001B[38;5;241m=\u001B[39m theta:\n\u001B[1;32m     95\u001B[0m                     S \u001B[38;5;241m=\u001B[39m extend_forward(S, s_double_star, D, F, R, T, theta, index \u001B[38;5;241m+\u001B[39m \u001B[38;5;241m1\u001B[39m, stq, verbose)\n\u001B[0;32m---> 96\u001B[0m         S \u001B[38;5;241m=\u001B[39m \u001B[43mextend_forward\u001B[49m\u001B[43m(\u001B[49m\u001B[43mS\u001B[49m\u001B[43m,\u001B[49m\u001B[43m \u001B[49m\u001B[43ms_star\u001B[49m\u001B[43m,\u001B[49m\u001B[43m \u001B[49m\u001B[43mD\u001B[49m\u001B[43m,\u001B[49m\u001B[43m \u001B[49m\u001B[43mF\u001B[49m\u001B[43m,\u001B[49m\u001B[43m \u001B[49m\u001B[43mR\u001B[49m\u001B[43m,\u001B[49m\u001B[43m \u001B[49m\u001B[43mT\u001B[49m\u001B[43m,\u001B[49m\u001B[43m \u001B[49m\u001B[43mtheta\u001B[49m\u001B[43m,\u001B[49m\u001B[43m \u001B[49m\u001B[43mindex\u001B[49m\u001B[43m,\u001B[49m\u001B[43m \u001B[49m\u001B[43mstq\u001B[49m\u001B[43m,\u001B[49m\u001B[43m \u001B[49m\u001B[43mverbose\u001B[49m\u001B[43m)\u001B[49m\n\u001B[1;32m     98\u001B[0m \u001B[38;5;28;01mif\u001B[39;00m index \u001B[38;5;241m>\u001B[39m\u001B[38;5;241m=\u001B[39m \u001B[38;5;28mlen\u001B[39m(stq):\n\u001B[1;32m     99\u001B[0m     S\u001B[38;5;241m.\u001B[39madd(s)\n",
      "    \u001B[0;31m[... skipping similar frames: extend_forward at line 96 (7 times)]\u001B[0m\n",
      "File \u001B[0;32m~/Praca/Nauka/publikacje/TaSTSPM/Folder/src/TaSTSPM.py:96\u001B[0m, in \u001B[0;36mextend_forward\u001B[0;34m(S, s, D, F, R, T, theta, index, stq, verbose)\u001B[0m\n\u001B[1;32m     94\u001B[0m                 \u001B[38;5;28;01mif\u001B[39;00m s_double_star\u001B[38;5;241m.\u001B[39mPI \u001B[38;5;241m>\u001B[39m\u001B[38;5;241m=\u001B[39m theta:\n\u001B[1;32m     95\u001B[0m                     S \u001B[38;5;241m=\u001B[39m extend_forward(S, s_double_star, D, F, R, T, theta, index \u001B[38;5;241m+\u001B[39m \u001B[38;5;241m1\u001B[39m, stq, verbose)\n\u001B[0;32m---> 96\u001B[0m         S \u001B[38;5;241m=\u001B[39m \u001B[43mextend_forward\u001B[49m\u001B[43m(\u001B[49m\u001B[43mS\u001B[49m\u001B[43m,\u001B[49m\u001B[43m \u001B[49m\u001B[43ms_star\u001B[49m\u001B[43m,\u001B[49m\u001B[43m \u001B[49m\u001B[43mD\u001B[49m\u001B[43m,\u001B[49m\u001B[43m \u001B[49m\u001B[43mF\u001B[49m\u001B[43m,\u001B[49m\u001B[43m \u001B[49m\u001B[43mR\u001B[49m\u001B[43m,\u001B[49m\u001B[43m \u001B[49m\u001B[43mT\u001B[49m\u001B[43m,\u001B[49m\u001B[43m \u001B[49m\u001B[43mtheta\u001B[49m\u001B[43m,\u001B[49m\u001B[43m \u001B[49m\u001B[43mindex\u001B[49m\u001B[43m,\u001B[49m\u001B[43m \u001B[49m\u001B[43mstq\u001B[49m\u001B[43m,\u001B[49m\u001B[43m \u001B[49m\u001B[43mverbose\u001B[49m\u001B[43m)\u001B[49m\n\u001B[1;32m     98\u001B[0m \u001B[38;5;28;01mif\u001B[39;00m index \u001B[38;5;241m>\u001B[39m\u001B[38;5;241m=\u001B[39m \u001B[38;5;28mlen\u001B[39m(stq):\n\u001B[1;32m     99\u001B[0m     S\u001B[38;5;241m.\u001B[39madd(s)\n",
      "File \u001B[0;32m~/Praca/Nauka/publikacje/TaSTSPM/Folder/src/TaSTSPM.py:74\u001B[0m, in \u001B[0;36mextend_forward\u001B[0;34m(S, s, D, F, R, T, theta, index, stq, verbose)\u001B[0m\n\u001B[1;32m     72\u001B[0m s_star\u001B[38;5;241m.\u001B[39madd_element(Element(f))\n\u001B[1;32m     73\u001B[0m L \u001B[38;5;241m=\u001B[39m \u001B[38;5;28mlen\u001B[39m(s_star)\n\u001B[0;32m---> 74\u001B[0m \u001B[43ms_star\u001B[49m\u001B[38;5;241;43m.\u001B[39;49m\u001B[43mcalculate_I\u001B[49m\u001B[43m(\u001B[49m\u001B[43mL\u001B[49m\u001B[43m \u001B[49m\u001B[38;5;241;43m-\u001B[39;49m\u001B[43m \u001B[49m\u001B[38;5;241;43m1\u001B[39;49m\u001B[43m,\u001B[49m\u001B[43m \u001B[49m\u001B[43mD\u001B[49m\u001B[43m,\u001B[49m\u001B[43m \u001B[49m\u001B[43mR\u001B[49m\u001B[43m,\u001B[49m\u001B[43m \u001B[49m\u001B[43mT\u001B[49m\u001B[43m)\u001B[49m\n\u001B[1;32m     75\u001B[0m s_star\u001B[38;5;241m.\u001B[39mPI \u001B[38;5;241m=\u001B[39m \u001B[38;5;28mmin\u001B[39m(s\u001B[38;5;241m.\u001B[39mPI, PR(s_star, L \u001B[38;5;241m-\u001B[39m \u001B[38;5;241m1\u001B[39m, D))\n\u001B[1;32m     77\u001B[0m \u001B[38;5;28;01mif\u001B[39;00m verbose \u001B[38;5;241m>\u001B[39m \u001B[38;5;241m2\u001B[39m:\n",
      "File \u001B[0;32m~/Praca/Nauka/publikacje/TaSTSPM/Folder/src/Sequence.py:189\u001B[0m, in \u001B[0;36mSequence.calculate_I\u001B[0;34m(self, index, D, R, T)\u001B[0m\n\u001B[1;32m    187\u001B[0m     \u001B[38;5;28mself\u001B[39m\u001B[38;5;241m.\u001B[39melements[index]\u001B[38;5;241m.\u001B[39mI \u001B[38;5;241m=\u001B[39m D[\u001B[38;5;28mself\u001B[39m\u001B[38;5;241m.\u001B[39melements[index]\u001B[38;5;241m.\u001B[39mevent_type]\n\u001B[1;32m    188\u001B[0m \u001B[38;5;28;01melse\u001B[39;00m:\n\u001B[0;32m--> 189\u001B[0m     neighborhoods \u001B[38;5;241m=\u001B[39m [\u001B[38;5;28mself\u001B[39m\u001B[38;5;241m.\u001B[39mcalculate_neighborhood(event, index, D, R, T) \u001B[38;5;28;01mfor\u001B[39;00m event \u001B[38;5;129;01min\u001B[39;00m \u001B[38;5;28mself\u001B[39m\u001B[38;5;241m.\u001B[39melements[index \u001B[38;5;241m-\u001B[39m \u001B[38;5;241m1\u001B[39m]\u001B[38;5;241m.\u001B[39mI]\n\u001B[1;32m    190\u001B[0m     merged_neighborhood \u001B[38;5;241m=\u001B[39m \u001B[38;5;28mset\u001B[39m()\u001B[38;5;241m.\u001B[39munion(\u001B[38;5;241m*\u001B[39mneighborhoods)\n\u001B[1;32m    191\u001B[0m     \u001B[38;5;28mself\u001B[39m\u001B[38;5;241m.\u001B[39melements[index]\u001B[38;5;241m.\u001B[39mI \u001B[38;5;241m=\u001B[39m merged_neighborhood\n",
      "File \u001B[0;32m~/Praca/Nauka/publikacje/TaSTSPM/Folder/src/Sequence.py:189\u001B[0m, in \u001B[0;36m<listcomp>\u001B[0;34m(.0)\u001B[0m\n\u001B[1;32m    187\u001B[0m     \u001B[38;5;28mself\u001B[39m\u001B[38;5;241m.\u001B[39melements[index]\u001B[38;5;241m.\u001B[39mI \u001B[38;5;241m=\u001B[39m D[\u001B[38;5;28mself\u001B[39m\u001B[38;5;241m.\u001B[39melements[index]\u001B[38;5;241m.\u001B[39mevent_type]\n\u001B[1;32m    188\u001B[0m \u001B[38;5;28;01melse\u001B[39;00m:\n\u001B[0;32m--> 189\u001B[0m     neighborhoods \u001B[38;5;241m=\u001B[39m [\u001B[38;5;28;43mself\u001B[39;49m\u001B[38;5;241;43m.\u001B[39;49m\u001B[43mcalculate_neighborhood\u001B[49m\u001B[43m(\u001B[49m\u001B[43mevent\u001B[49m\u001B[43m,\u001B[49m\u001B[43m \u001B[49m\u001B[43mindex\u001B[49m\u001B[43m,\u001B[49m\u001B[43m \u001B[49m\u001B[43mD\u001B[49m\u001B[43m,\u001B[49m\u001B[43m \u001B[49m\u001B[43mR\u001B[49m\u001B[43m,\u001B[49m\u001B[43m \u001B[49m\u001B[43mT\u001B[49m\u001B[43m)\u001B[49m \u001B[38;5;28;01mfor\u001B[39;00m event \u001B[38;5;129;01min\u001B[39;00m \u001B[38;5;28mself\u001B[39m\u001B[38;5;241m.\u001B[39melements[index \u001B[38;5;241m-\u001B[39m \u001B[38;5;241m1\u001B[39m]\u001B[38;5;241m.\u001B[39mI]\n\u001B[1;32m    190\u001B[0m     merged_neighborhood \u001B[38;5;241m=\u001B[39m \u001B[38;5;28mset\u001B[39m()\u001B[38;5;241m.\u001B[39munion(\u001B[38;5;241m*\u001B[39mneighborhoods)\n\u001B[1;32m    191\u001B[0m     \u001B[38;5;28mself\u001B[39m\u001B[38;5;241m.\u001B[39melements[index]\u001B[38;5;241m.\u001B[39mI \u001B[38;5;241m=\u001B[39m merged_neighborhood\n",
      "File \u001B[0;32m~/Praca/Nauka/publikacje/TaSTSPM/Folder/src/Sequence.py:202\u001B[0m, in \u001B[0;36mSequence.calculate_neighborhood\u001B[0;34m(self, event, index, D, R, T)\u001B[0m\n\u001B[1;32m    201\u001B[0m \u001B[38;5;28;01mdef\u001B[39;00m \u001B[38;5;21mcalculate_neighborhood\u001B[39m(\u001B[38;5;28mself\u001B[39m, event, index, D, R, T):\n\u001B[0;32m--> 202\u001B[0m     \u001B[38;5;28;01mreturn\u001B[39;00m {e \u001B[38;5;28;01mfor\u001B[39;00m e \u001B[38;5;129;01min\u001B[39;00m D[\u001B[38;5;28mself\u001B[39m\u001B[38;5;241m.\u001B[39melements[index]\u001B[38;5;241m.\u001B[39mevent_type]\n\u001B[1;32m    203\u001B[0m             \u001B[38;5;28;01mif\u001B[39;00m event\u001B[38;5;241m.\u001B[39mis_within_spatiotemporal_distance(e, R, T)}\n",
      "File \u001B[0;32m~/Praca/Nauka/publikacje/TaSTSPM/Folder/src/Sequence.py:203\u001B[0m, in \u001B[0;36m<setcomp>\u001B[0;34m(.0)\u001B[0m\n\u001B[1;32m    201\u001B[0m \u001B[38;5;28;01mdef\u001B[39;00m \u001B[38;5;21mcalculate_neighborhood\u001B[39m(\u001B[38;5;28mself\u001B[39m, event, index, D, R, T):\n\u001B[1;32m    202\u001B[0m     \u001B[38;5;28;01mreturn\u001B[39;00m {e \u001B[38;5;28;01mfor\u001B[39;00m e \u001B[38;5;129;01min\u001B[39;00m D[\u001B[38;5;28mself\u001B[39m\u001B[38;5;241m.\u001B[39melements[index]\u001B[38;5;241m.\u001B[39mevent_type]\n\u001B[0;32m--> 203\u001B[0m             \u001B[38;5;28;01mif\u001B[39;00m \u001B[43mevent\u001B[49m\u001B[38;5;241;43m.\u001B[39;49m\u001B[43mis_within_spatiotemporal_distance\u001B[49m\u001B[43m(\u001B[49m\u001B[43me\u001B[49m\u001B[43m,\u001B[49m\u001B[43m \u001B[49m\u001B[43mR\u001B[49m\u001B[43m,\u001B[49m\u001B[43m \u001B[49m\u001B[43mT\u001B[49m\u001B[43m)\u001B[49m}\n",
      "File \u001B[0;32m~/Praca/Nauka/publikacje/TaSTSPM/Folder/src/Sequence.py:33\u001B[0m, in \u001B[0;36mEvent.is_within_spatiotemporal_distance\u001B[0;34m(self, e, R, T, distance_type)\u001B[0m\n\u001B[1;32m     29\u001B[0m \u001B[38;5;28;01mdef\u001B[39;00m \u001B[38;5;21mis_within_spatiotemporal_distance\u001B[39m(\u001B[38;5;28mself\u001B[39m, e, R, T, distance_type \u001B[38;5;241m=\u001B[39m\u001B[38;5;124m'\u001B[39m\u001B[38;5;124mEarth\u001B[39m\u001B[38;5;124m'\u001B[39m):\n\u001B[1;32m     30\u001B[0m     \u001B[38;5;66;03m# Calculate the spatial distance\u001B[39;00m\n\u001B[1;32m     32\u001B[0m     \u001B[38;5;28;01mif\u001B[39;00m distance_type \u001B[38;5;241m==\u001B[39m \u001B[38;5;124m'\u001B[39m\u001B[38;5;124mEarth\u001B[39m\u001B[38;5;124m'\u001B[39m:\n\u001B[0;32m---> 33\u001B[0m         spatial_distance \u001B[38;5;241m=\u001B[39m \u001B[38;5;28;43mself\u001B[39;49m\u001B[38;5;241;43m.\u001B[39;49m\u001B[43mdistanceEarth\u001B[49m\u001B[43m(\u001B[49m\u001B[43me\u001B[49m\u001B[43m)\u001B[49m\n\u001B[1;32m     34\u001B[0m     \u001B[38;5;28;01melif\u001B[39;00m distance_type \u001B[38;5;241m==\u001B[39m \u001B[38;5;124m'\u001B[39m\u001B[38;5;124mEuclidean\u001B[39m\u001B[38;5;124m'\u001B[39m:\n\u001B[1;32m     35\u001B[0m         spatial_distance \u001B[38;5;241m=\u001B[39m \u001B[38;5;28mself\u001B[39m\u001B[38;5;241m.\u001B[39mdistanceEuclidian(e)\n",
      "File \u001B[0;32m~/Praca/Nauka/publikacje/TaSTSPM/Folder/src/Sequence.py:55\u001B[0m, in \u001B[0;36mEvent.distanceEarth\u001B[0;34m(self, e)\u001B[0m\n\u001B[1;32m     53\u001B[0m lat1r \u001B[38;5;241m=\u001B[39m deg2rad(\u001B[38;5;28mself\u001B[39m\u001B[38;5;241m.\u001B[39my_location)\n\u001B[1;32m     54\u001B[0m lon1r \u001B[38;5;241m=\u001B[39m deg2rad(\u001B[38;5;28mself\u001B[39m\u001B[38;5;241m.\u001B[39mx_location)\n\u001B[0;32m---> 55\u001B[0m lat2r \u001B[38;5;241m=\u001B[39m \u001B[43mdeg2rad\u001B[49m\u001B[43m(\u001B[49m\u001B[43me\u001B[49m\u001B[38;5;241;43m.\u001B[39;49m\u001B[43my_location\u001B[49m\u001B[43m)\u001B[49m\n\u001B[1;32m     56\u001B[0m lon2r \u001B[38;5;241m=\u001B[39m deg2rad(e\u001B[38;5;241m.\u001B[39mx_location)\n\u001B[1;32m     57\u001B[0m u \u001B[38;5;241m=\u001B[39m math\u001B[38;5;241m.\u001B[39msin((lat2r \u001B[38;5;241m-\u001B[39m lat1r) \u001B[38;5;241m/\u001B[39m \u001B[38;5;241m2\u001B[39m)\n",
      "\u001B[0;31mKeyboardInterrupt\u001B[0m: "
     ]
    }
   ],
   "execution_count": 11
  },
  {
   "metadata": {
    "ExecuteTime": {
     "end_time": "2024-06-19T12:43:22.340865Z",
     "start_time": "2024-06-19T12:43:22.340811Z"
    }
   },
   "cell_type": "code",
   "source": "",
   "id": "3c23a1f3f0539925",
   "outputs": [],
   "execution_count": null
  },
  {
   "metadata": {},
   "cell_type": "code",
   "source": "",
   "id": "505e4a4870764899",
   "outputs": [],
   "execution_count": null
  }
 ],
 "metadata": {
  "kernelspec": {
   "display_name": "Python 3",
   "language": "python",
   "name": "python3"
  },
  "language_info": {
   "codemirror_mode": {
    "name": "ipython",
    "version": 2
   },
   "file_extension": ".py",
   "mimetype": "text/x-python",
   "name": "python",
   "nbconvert_exporter": "python",
   "pygments_lexer": "ipython2",
   "version": "2.7.6"
  }
 },
 "nbformat": 4,
 "nbformat_minor": 5
}
