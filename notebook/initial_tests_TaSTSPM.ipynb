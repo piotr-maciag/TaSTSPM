{
 "cells": [
  {
   "metadata": {},
   "cell_type": "markdown",
   "source": "## Initial tests with TaSTSPM",
   "id": "707fbdf03d3b3d8"
  },
  {
   "cell_type": "code",
   "id": "initial_id",
   "metadata": {
    "collapsed": true,
    "ExecuteTime": {
     "end_time": "2024-06-20T19:12:10.696714Z",
     "start_time": "2024-06-20T19:12:10.437095Z"
    }
   },
   "source": [
    "from src.Sequence import *\n",
    "from src.TaSTSPM import *\n",
    "import time"
   ],
   "outputs": [],
   "execution_count": 1
  },
  {
   "metadata": {
    "ExecuteTime": {
     "end_time": "2024-06-20T19:12:10.727183Z",
     "start_time": "2024-06-20T19:12:10.700351Z"
    }
   },
   "cell_type": "code",
   "source": [
    "import sys\n",
    "\n",
    "# Print the current maximum recursion depth\n",
    "print(\"Current recursion limit:\", sys.getrecursionlimit())\n",
    "\n",
    "# Set the maximum recursion depth to a higher value, for example, 3000\n",
    "sys.setrecursionlimit(7000)\n",
    "\n",
    "# Print the new maximum recursion depth\n",
    "print(\"New recursion limit:\", sys.getrecursionlimit())"
   ],
   "id": "bc77685f1f2c700",
   "outputs": [
    {
     "name": "stdout",
     "output_type": "stream",
     "text": [
      "Current recursion limit: 3000\n",
      "New recursion limit: 7000\n"
     ]
    }
   ],
   "execution_count": 2
  },
  {
   "metadata": {
    "ExecuteTime": {
     "end_time": "2024-06-20T19:12:10.736491Z",
     "start_time": "2024-06-20T19:12:10.733011Z"
    }
   },
   "cell_type": "code",
   "source": "stq = [Sequence(event_types=['B', 'C', 'D'])]",
   "id": "daa4dfe6fecc1f3c",
   "outputs": [],
   "execution_count": 3
  },
  {
   "metadata": {
    "ExecuteTime": {
     "end_time": "2024-06-20T19:12:10.748825Z",
     "start_time": "2024-06-20T19:12:10.738577Z"
    }
   },
   "cell_type": "code",
   "source": "D = Dataset('../data/toy_dataset.csv')\n",
   "id": "ba45c0a32bfe1b5c",
   "outputs": [
    {
     "name": "stdout",
     "output_type": "stream",
     "text": [
      "Loading data from ../data/toy_dataset.csv\n",
      "Data read successfully: 17 rows\n"
     ]
    }
   ],
   "execution_count": 4
  },
  {
   "metadata": {
    "ExecuteTime": {
     "end_time": "2024-06-20T19:12:10.757173Z",
     "start_time": "2024-06-20T19:12:10.752183Z"
    }
   },
   "cell_type": "code",
   "source": [
    "stq[0].calculate_I(0, D, 10, 20)\n",
    "stq[0].calculate_I(0, D, 10, 20)\n",
    "len(stq[0][0].I)"
   ],
   "id": "a6b43ae76cea4790",
   "outputs": [
    {
     "data": {
      "text/plain": [
       "5"
      ]
     },
     "execution_count": 5,
     "metadata": {},
     "output_type": "execute_result"
    }
   ],
   "execution_count": 5
  },
  {
   "metadata": {
    "ExecuteTime": {
     "end_time": "2024-06-20T19:12:10.763997Z",
     "start_time": "2024-06-20T19:12:10.759137Z"
    }
   },
   "cell_type": "code",
   "source": [
    "R = 10\n",
    "T = 10\n",
    "stq[0].calculate_PI(PR, D, R, T)\n",
    "stq[0].PI"
   ],
   "id": "2ffef26c3e060b06",
   "outputs": [
    {
     "data": {
      "text/plain": [
       "0.0"
      ]
     },
     "execution_count": 6,
     "metadata": {},
     "output_type": "execute_result"
    }
   ],
   "execution_count": 6
  },
  {
   "metadata": {
    "ExecuteTime": {
     "end_time": "2024-06-20T19:12:10.769852Z",
     "start_time": "2024-06-20T19:12:10.765188Z"
    }
   },
   "cell_type": "code",
   "source": "D.dataset_dict.keys()",
   "id": "2432c73631d4d22f",
   "outputs": [
    {
     "data": {
      "text/plain": [
       "dict_keys(['A', 'B', 'C', 'D'])"
      ]
     },
     "execution_count": 7,
     "metadata": {},
     "output_type": "execute_result"
    }
   ],
   "execution_count": 7
  },
  {
   "metadata": {
    "ExecuteTime": {
     "end_time": "2024-06-20T19:12:10.777391Z",
     "start_time": "2024-06-20T19:12:10.773176Z"
    }
   },
   "cell_type": "code",
   "source": [
    "R = 10\n",
    "T = 20\n",
    "stq = [Sequence(event_types=['B', 'C'])]\n",
    "TaSTSPs= tastsp_algorithm(D, D.dataset_dict.keys(), R, T, 0.2, stq)\n",
    "for s in TaSTSPs:\n",
    "    print(s)"
   ],
   "id": "c86baccf64ed1d61",
   "outputs": [],
   "execution_count": 8
  },
  {
   "metadata": {
    "ExecuteTime": {
     "end_time": "2024-06-20T19:12:10.782807Z",
     "start_time": "2024-06-20T19:12:10.779841Z"
    }
   },
   "cell_type": "code",
   "source": "# Testing on Boston reduced dataset",
   "id": "ff96ae930d93c16b",
   "outputs": [],
   "execution_count": 9
  },
  {
   "metadata": {},
   "cell_type": "markdown",
   "source": "",
   "id": "b0b4c254e03b44ee"
  },
  {
   "metadata": {
    "ExecuteTime": {
     "end_time": "2024-06-20T19:12:11.553741Z",
     "start_time": "2024-06-20T19:12:10.784895Z"
    }
   },
   "cell_type": "code",
   "source": [
    "D_boston = Dataset('../data/crimes_Boston.csv')\n",
    "D_boston.dataset_dict.keys()"
   ],
   "id": "f7854c167b5c3809",
   "outputs": [
    {
     "name": "stdout",
     "output_type": "stream",
     "text": [
      "Loading data from ../data/crimes_Boston.csv\n",
      "Data read successfully: 40544 rows\n"
     ]
    },
    {
     "data": {
      "text/plain": [
       "dict_keys(['AUTO_THEFT', 'SIMPLE_ASSAULT', 'OTHER_LARCENY', 'WEAPONS_CHARGE', 'VANDALISM', 'VIOLATION_OF_LIQUOR_LAWS', 'RESIDENTIAL_BURGLARY', 'AGGRAVATED_ASSAULT', 'LARCENY_FROM_MOTOR_VEHICLE', 'DISORDERLY', 'OTHER', 'DRUG_CHARGES', 'TOWED', 'OPERATING_UNDER_INFLUENCE', 'FIRE', 'EMBEZELLMENT', 'ROBBERY', 'Harass', 'COMMERCIAL_BURGLARY', 'Bomb', 'CRIMES_AGAINST_CHILDREN', 'FORGERY', 'HOMICIDE', 'ARSON', 'GAMBLING_OFFENSE', 'Manslaug'])"
      ]
     },
     "execution_count": 10,
     "metadata": {},
     "output_type": "execute_result"
    }
   ],
   "execution_count": 10
  },
  {
   "metadata": {
    "ExecuteTime": {
     "end_time": "2024-06-20T20:07:31.213816Z",
     "start_time": "2024-06-20T19:12:11.554470Z"
    }
   },
   "cell_type": "code",
   "source": [
    "R = 100\n",
    "T = 7000\n",
    "D_boston.dataset_dict.keys()\n",
    "stq = [Sequence(event_types=['VANDALISM','AGGRAVATED_ASSAULT'])]\n",
    "TaSTSPs= tastsp_algorithm(D_boston, D_boston.dataset_dict.keys(), R, T, 0.01, stq, distance_type = 'Earth', verbose = 3)\n",
    "for s in TaSTSPs:\n",
    "    print(s)"
   ],
   "id": "1698485b58178439",
   "outputs": [
    {
     "name": "stdout",
     "output_type": "stream",
     "text": [
      "Starting TaSTSP Algorithm\n",
      "Parameters: R=100, T=7000, theta=0.01, distance_type=Earth\n",
      "Number of sequences in stq: 1\n",
      "Calculating I and PI for sequence 0\n",
      "Sequence 0, Element 0: PI=1\n",
      "Sequence 0, Element 1: PI=0.06181619256017506\n",
      "Extending forward: Sequence=VANDALISM -> AGGRAVATED_ASSAULT, Index=1\n",
      "Extended sequence: VANDALISM -> AGGRAVATED_ASSAULT -> AUTO_THEFT, PI: 0.0006333122229259025\n",
      "Extended sequence: VANDALISM -> AGGRAVATED_ASSAULT -> SIMPLE_ASSAULT, PI: 0.00435583849891104\n",
      "Extended sequence: VANDALISM -> AGGRAVATED_ASSAULT -> OTHER_LARCENY, PI: 0.003032777324157238\n",
      "Extended sequence: VANDALISM -> AGGRAVATED_ASSAULT -> WEAPONS_CHARGE, PI: 0.0022675736961451248\n",
      "Extended sequence: VANDALISM -> AGGRAVATED_ASSAULT -> VANDALISM, PI: 0.005209566658773384\n",
      "Extended sequence: VANDALISM -> AGGRAVATED_ASSAULT -> VIOLATION_OF_LIQUOR_LAWS, PI: 0.006211180124223602\n",
      "Extended sequence: VANDALISM -> AGGRAVATED_ASSAULT -> RESIDENTIAL_BURGLARY, PI: 0.004124656278643446\n",
      "Extended sequence: VANDALISM -> AGGRAVATED_ASSAULT -> AGGRAVATED_ASSAULT, PI: 0.004923413566739606\n",
      "Extended sequence: VANDALISM -> AGGRAVATED_ASSAULT -> LARCENY_FROM_MOTOR_VEHICLE, PI: 0.006526468455402465\n",
      "Extended sequence: VANDALISM -> AGGRAVATED_ASSAULT -> DISORDERLY, PI: 0.0017271157167530224\n",
      "Extended sequence: VANDALISM -> AGGRAVATED_ASSAULT -> OTHER, PI: 0.0049504950495049506\n",
      "Extended sequence: VANDALISM -> AGGRAVATED_ASSAULT -> DRUG_CHARGES, PI: 0.0042959427207637235\n",
      "Extended sequence: VANDALISM -> AGGRAVATED_ASSAULT -> TOWED, PI: 0.006666666666666667\n",
      "Extended sequence: VANDALISM -> AGGRAVATED_ASSAULT -> OPERATING_UNDER_INFLUENCE, PI: 0.004081632653061225\n",
      "Extended sequence: VANDALISM -> AGGRAVATED_ASSAULT -> FIRE, PI: 0.0\n",
      "Extended sequence: VANDALISM -> AGGRAVATED_ASSAULT -> EMBEZELLMENT, PI: 0.014492753623188406\n",
      "Extending forward: Sequence=VANDALISM -> AGGRAVATED_ASSAULT -> EMBEZELLMENT, Index=1\n",
      "Extended sequence: VANDALISM -> AGGRAVATED_ASSAULT -> EMBEZELLMENT -> AUTO_THEFT, PI: 0.0\n",
      "Extended sequence: VANDALISM -> AGGRAVATED_ASSAULT -> EMBEZELLMENT -> SIMPLE_ASSAULT, PI: 0.0\n",
      "Extended sequence: VANDALISM -> AGGRAVATED_ASSAULT -> EMBEZELLMENT -> OTHER_LARCENY, PI: 0.0\n",
      "Extended sequence: VANDALISM -> AGGRAVATED_ASSAULT -> EMBEZELLMENT -> WEAPONS_CHARGE, PI: 0.0\n",
      "Extended sequence: VANDALISM -> AGGRAVATED_ASSAULT -> EMBEZELLMENT -> VANDALISM, PI: 0.0\n",
      "Extended sequence: VANDALISM -> AGGRAVATED_ASSAULT -> EMBEZELLMENT -> VIOLATION_OF_LIQUOR_LAWS, PI: 0.0\n",
      "Extended sequence: VANDALISM -> AGGRAVATED_ASSAULT -> EMBEZELLMENT -> RESIDENTIAL_BURGLARY, PI: 0.0\n",
      "Extended sequence: VANDALISM -> AGGRAVATED_ASSAULT -> EMBEZELLMENT -> AGGRAVATED_ASSAULT, PI: 0.0\n",
      "Extended sequence: VANDALISM -> AGGRAVATED_ASSAULT -> EMBEZELLMENT -> LARCENY_FROM_MOTOR_VEHICLE, PI: 0.0\n",
      "Extended sequence: VANDALISM -> AGGRAVATED_ASSAULT -> EMBEZELLMENT -> DISORDERLY, PI: 0.0\n",
      "Extended sequence: VANDALISM -> AGGRAVATED_ASSAULT -> EMBEZELLMENT -> OTHER, PI: 0.0\n",
      "Extended sequence: VANDALISM -> AGGRAVATED_ASSAULT -> EMBEZELLMENT -> DRUG_CHARGES, PI: 0.0\n",
      "Extended sequence: VANDALISM -> AGGRAVATED_ASSAULT -> EMBEZELLMENT -> TOWED, PI: 0.0\n",
      "Extended sequence: VANDALISM -> AGGRAVATED_ASSAULT -> EMBEZELLMENT -> OPERATING_UNDER_INFLUENCE, PI: 0.0\n",
      "Extended sequence: VANDALISM -> AGGRAVATED_ASSAULT -> EMBEZELLMENT -> FIRE, PI: 0.0\n",
      "Extended sequence: VANDALISM -> AGGRAVATED_ASSAULT -> EMBEZELLMENT -> EMBEZELLMENT, PI: 0.0\n",
      "Extended sequence: VANDALISM -> AGGRAVATED_ASSAULT -> EMBEZELLMENT -> ROBBERY, PI: 0.0\n",
      "Extended sequence: VANDALISM -> AGGRAVATED_ASSAULT -> EMBEZELLMENT -> Harass, PI: 0.0\n",
      "Extended sequence: VANDALISM -> AGGRAVATED_ASSAULT -> EMBEZELLMENT -> COMMERCIAL_BURGLARY, PI: 0.0\n",
      "Extended sequence: VANDALISM -> AGGRAVATED_ASSAULT -> EMBEZELLMENT -> Bomb, PI: 0.0\n",
      "Extended sequence: VANDALISM -> AGGRAVATED_ASSAULT -> EMBEZELLMENT -> CRIMES_AGAINST_CHILDREN, PI: 0.0\n",
      "Extended sequence: VANDALISM -> AGGRAVATED_ASSAULT -> EMBEZELLMENT -> FORGERY, PI: 0.0\n",
      "Extended sequence: VANDALISM -> AGGRAVATED_ASSAULT -> EMBEZELLMENT -> HOMICIDE, PI: 0.0\n",
      "Extended sequence: VANDALISM -> AGGRAVATED_ASSAULT -> EMBEZELLMENT -> ARSON, PI: 0.0\n",
      "Extended sequence: VANDALISM -> AGGRAVATED_ASSAULT -> EMBEZELLMENT -> GAMBLING_OFFENSE, PI: 0.0\n",
      "Extended sequence: VANDALISM -> AGGRAVATED_ASSAULT -> EMBEZELLMENT -> Manslaug, PI: 0.0\n",
      "Extended sequence: VANDALISM -> AGGRAVATED_ASSAULT -> ROBBERY, PI: 0.00439146800501882\n",
      "Extended sequence: VANDALISM -> AGGRAVATED_ASSAULT -> Harass, PI: 0.0\n",
      "Extended sequence: VANDALISM -> AGGRAVATED_ASSAULT -> COMMERCIAL_BURGLARY, PI: 0.0023923444976076554\n",
      "Extended sequence: VANDALISM -> AGGRAVATED_ASSAULT -> Bomb, PI: 0.0\n",
      "Extended sequence: VANDALISM -> AGGRAVATED_ASSAULT -> CRIMES_AGAINST_CHILDREN, PI: 0.0\n",
      "Extended sequence: VANDALISM -> AGGRAVATED_ASSAULT -> FORGERY, PI: 0.004228329809725159\n",
      "Extended sequence: VANDALISM -> AGGRAVATED_ASSAULT -> HOMICIDE, PI: 0.0\n",
      "Extended sequence: VANDALISM -> AGGRAVATED_ASSAULT -> ARSON, PI: 0.0\n",
      "Extended sequence: VANDALISM -> AGGRAVATED_ASSAULT -> GAMBLING_OFFENSE, PI: 0.0\n",
      "Extended sequence: VANDALISM -> AGGRAVATED_ASSAULT -> Manslaug, PI: 0.0\n",
      "Forward extension completed\n",
      "Extending backward: Sequence=VANDALISM -> AGGRAVATED_ASSAULT\n",
      "Extended backward sequence: AUTO_THEFT -> VANDALISM -> AGGRAVATED_ASSAULT, PI: 0.002735229759299781\n",
      "Extended backward sequence: SIMPLE_ASSAULT -> VANDALISM -> AGGRAVATED_ASSAULT, PI: 0.011487964989059081\n",
      "Extending backward: Sequence=SIMPLE_ASSAULT -> VANDALISM -> AGGRAVATED_ASSAULT\n",
      "Extended backward sequence: AUTO_THEFT -> SIMPLE_ASSAULT -> VANDALISM -> AGGRAVATED_ASSAULT, PI: 0.0\n",
      "Extended backward sequence: SIMPLE_ASSAULT -> SIMPLE_ASSAULT -> VANDALISM -> AGGRAVATED_ASSAULT, PI: 0.00437636761487965\n",
      "Extended backward sequence: OTHER_LARCENY -> SIMPLE_ASSAULT -> VANDALISM -> AGGRAVATED_ASSAULT, PI: 0.005470459518599562\n",
      "Extended backward sequence: WEAPONS_CHARGE -> SIMPLE_ASSAULT -> VANDALISM -> AGGRAVATED_ASSAULT, PI: 0.0\n",
      "Extended backward sequence: VANDALISM -> SIMPLE_ASSAULT -> VANDALISM -> AGGRAVATED_ASSAULT, PI: 0.0016411378555798686\n",
      "Extended backward sequence: VIOLATION_OF_LIQUOR_LAWS -> SIMPLE_ASSAULT -> VANDALISM -> AGGRAVATED_ASSAULT, PI: 0.0\n",
      "Extended backward sequence: RESIDENTIAL_BURGLARY -> SIMPLE_ASSAULT -> VANDALISM -> AGGRAVATED_ASSAULT, PI: 0.0016411378555798686\n",
      "Extended backward sequence: AGGRAVATED_ASSAULT -> SIMPLE_ASSAULT -> VANDALISM -> AGGRAVATED_ASSAULT, PI: 0.0010940919037199124\n",
      "Extended backward sequence: LARCENY_FROM_MOTOR_VEHICLE -> SIMPLE_ASSAULT -> VANDALISM -> AGGRAVATED_ASSAULT, PI: 0.002188183807439825\n",
      "Extended backward sequence: DISORDERLY -> SIMPLE_ASSAULT -> VANDALISM -> AGGRAVATED_ASSAULT, PI: 0.0\n",
      "Extended backward sequence: OTHER -> SIMPLE_ASSAULT -> VANDALISM -> AGGRAVATED_ASSAULT, PI: 0.0010940919037199124\n",
      "Extended backward sequence: DRUG_CHARGES -> SIMPLE_ASSAULT -> VANDALISM -> AGGRAVATED_ASSAULT, PI: 0.0038293216630196935\n",
      "Extended backward sequence: TOWED -> SIMPLE_ASSAULT -> VANDALISM -> AGGRAVATED_ASSAULT, PI: 0.0010940919037199124\n",
      "Extended backward sequence: OPERATING_UNDER_INFLUENCE -> SIMPLE_ASSAULT -> VANDALISM -> AGGRAVATED_ASSAULT, PI: 0.0005470459518599562\n",
      "Extended backward sequence: FIRE -> SIMPLE_ASSAULT -> VANDALISM -> AGGRAVATED_ASSAULT, PI: 0.0005470459518599562\n",
      "Extended backward sequence: EMBEZELLMENT -> SIMPLE_ASSAULT -> VANDALISM -> AGGRAVATED_ASSAULT, PI: 0.0\n",
      "Extended backward sequence: ROBBERY -> SIMPLE_ASSAULT -> VANDALISM -> AGGRAVATED_ASSAULT, PI: 0.0010940919037199124\n",
      "Extended backward sequence: Harass -> SIMPLE_ASSAULT -> VANDALISM -> AGGRAVATED_ASSAULT, PI: 0.0\n",
      "Extended backward sequence: COMMERCIAL_BURGLARY -> SIMPLE_ASSAULT -> VANDALISM -> AGGRAVATED_ASSAULT, PI: 0.0005470459518599562\n",
      "Extended backward sequence: Bomb -> SIMPLE_ASSAULT -> VANDALISM -> AGGRAVATED_ASSAULT, PI: 0.0\n",
      "Extended backward sequence: CRIMES_AGAINST_CHILDREN -> SIMPLE_ASSAULT -> VANDALISM -> AGGRAVATED_ASSAULT, PI: 0.0\n",
      "Extended backward sequence: FORGERY -> SIMPLE_ASSAULT -> VANDALISM -> AGGRAVATED_ASSAULT, PI: 0.0\n",
      "Extended backward sequence: HOMICIDE -> SIMPLE_ASSAULT -> VANDALISM -> AGGRAVATED_ASSAULT, PI: 0.0\n",
      "Extended backward sequence: ARSON -> SIMPLE_ASSAULT -> VANDALISM -> AGGRAVATED_ASSAULT, PI: 0.0\n",
      "Extended backward sequence: GAMBLING_OFFENSE -> SIMPLE_ASSAULT -> VANDALISM -> AGGRAVATED_ASSAULT, PI: 0.0\n",
      "Extended backward sequence: Manslaug -> SIMPLE_ASSAULT -> VANDALISM -> AGGRAVATED_ASSAULT, PI: 0.0\n",
      "Extended backward sequence: OTHER_LARCENY -> VANDALISM -> AGGRAVATED_ASSAULT, PI: 0.018052516411378557\n",
      "Extending backward: Sequence=OTHER_LARCENY -> VANDALISM -> AGGRAVATED_ASSAULT\n",
      "Extended backward sequence: AUTO_THEFT -> OTHER_LARCENY -> VANDALISM -> AGGRAVATED_ASSAULT, PI: 0.0\n",
      "Extended backward sequence: SIMPLE_ASSAULT -> OTHER_LARCENY -> VANDALISM -> AGGRAVATED_ASSAULT, PI: 0.005470459518599562\n",
      "Extended backward sequence: OTHER_LARCENY -> OTHER_LARCENY -> VANDALISM -> AGGRAVATED_ASSAULT, PI: 0.0038293216630196935\n",
      "Extended backward sequence: WEAPONS_CHARGE -> OTHER_LARCENY -> VANDALISM -> AGGRAVATED_ASSAULT, PI: 0.0\n",
      "Extended backward sequence: VANDALISM -> OTHER_LARCENY -> VANDALISM -> AGGRAVATED_ASSAULT, PI: 0.002735229759299781\n",
      "Extended backward sequence: VIOLATION_OF_LIQUOR_LAWS -> OTHER_LARCENY -> VANDALISM -> AGGRAVATED_ASSAULT, PI: 0.0005470459518599562\n",
      "Extended backward sequence: RESIDENTIAL_BURGLARY -> OTHER_LARCENY -> VANDALISM -> AGGRAVATED_ASSAULT, PI: 0.002188183807439825\n",
      "Extended backward sequence: AGGRAVATED_ASSAULT -> OTHER_LARCENY -> VANDALISM -> AGGRAVATED_ASSAULT, PI: 0.0005470459518599562\n",
      "Extended backward sequence: LARCENY_FROM_MOTOR_VEHICLE -> OTHER_LARCENY -> VANDALISM -> AGGRAVATED_ASSAULT, PI: 0.00437636761487965\n",
      "Extended backward sequence: DISORDERLY -> OTHER_LARCENY -> VANDALISM -> AGGRAVATED_ASSAULT, PI: 0.0\n",
      "Extended backward sequence: OTHER -> OTHER_LARCENY -> VANDALISM -> AGGRAVATED_ASSAULT, PI: 0.0005470459518599562\n",
      "Extended backward sequence: DRUG_CHARGES -> OTHER_LARCENY -> VANDALISM -> AGGRAVATED_ASSAULT, PI: 0.0038293216630196935\n",
      "Extended backward sequence: TOWED -> OTHER_LARCENY -> VANDALISM -> AGGRAVATED_ASSAULT, PI: 0.0038293216630196935\n",
      "Extended backward sequence: OPERATING_UNDER_INFLUENCE -> OTHER_LARCENY -> VANDALISM -> AGGRAVATED_ASSAULT, PI: 0.0\n",
      "Extended backward sequence: FIRE -> OTHER_LARCENY -> VANDALISM -> AGGRAVATED_ASSAULT, PI: 0.0\n",
      "Extended backward sequence: EMBEZELLMENT -> OTHER_LARCENY -> VANDALISM -> AGGRAVATED_ASSAULT, PI: 0.0\n",
      "Extended backward sequence: ROBBERY -> OTHER_LARCENY -> VANDALISM -> AGGRAVATED_ASSAULT, PI: 0.002735229759299781\n",
      "Extended backward sequence: Harass -> OTHER_LARCENY -> VANDALISM -> AGGRAVATED_ASSAULT, PI: 0.0\n",
      "Extended backward sequence: COMMERCIAL_BURGLARY -> OTHER_LARCENY -> VANDALISM -> AGGRAVATED_ASSAULT, PI: 0.0005470459518599562\n",
      "Extended backward sequence: Bomb -> OTHER_LARCENY -> VANDALISM -> AGGRAVATED_ASSAULT, PI: 0.0\n",
      "Extended backward sequence: CRIMES_AGAINST_CHILDREN -> OTHER_LARCENY -> VANDALISM -> AGGRAVATED_ASSAULT, PI: 0.0\n",
      "Extended backward sequence: FORGERY -> OTHER_LARCENY -> VANDALISM -> AGGRAVATED_ASSAULT, PI: 0.0\n",
      "Extended backward sequence: HOMICIDE -> OTHER_LARCENY -> VANDALISM -> AGGRAVATED_ASSAULT, PI: 0.0\n",
      "Extended backward sequence: ARSON -> OTHER_LARCENY -> VANDALISM -> AGGRAVATED_ASSAULT, PI: 0.0\n",
      "Extended backward sequence: GAMBLING_OFFENSE -> OTHER_LARCENY -> VANDALISM -> AGGRAVATED_ASSAULT, PI: 0.0\n",
      "Extended backward sequence: Manslaug -> OTHER_LARCENY -> VANDALISM -> AGGRAVATED_ASSAULT, PI: 0.0\n",
      "Extended backward sequence: WEAPONS_CHARGE -> VANDALISM -> AGGRAVATED_ASSAULT, PI: 0.0\n",
      "Extended backward sequence: VANDALISM -> VANDALISM -> AGGRAVATED_ASSAULT, PI: 0.011487964989059081\n",
      "Extending backward: Sequence=VANDALISM -> VANDALISM -> AGGRAVATED_ASSAULT\n",
      "Extended backward sequence: AUTO_THEFT -> VANDALISM -> VANDALISM -> AGGRAVATED_ASSAULT, PI: 0.0005470459518599562\n",
      "Extended backward sequence: SIMPLE_ASSAULT -> VANDALISM -> VANDALISM -> AGGRAVATED_ASSAULT, PI: 0.0032822757111597373\n",
      "Extended backward sequence: OTHER_LARCENY -> VANDALISM -> VANDALISM -> AGGRAVATED_ASSAULT, PI: 0.00437636761487965\n",
      "Extended backward sequence: WEAPONS_CHARGE -> VANDALISM -> VANDALISM -> AGGRAVATED_ASSAULT, PI: 0.0\n",
      "Extended backward sequence: VANDALISM -> VANDALISM -> VANDALISM -> AGGRAVATED_ASSAULT, PI: 0.0005470459518599562\n",
      "Extended backward sequence: VIOLATION_OF_LIQUOR_LAWS -> VANDALISM -> VANDALISM -> AGGRAVATED_ASSAULT, PI: 0.0\n",
      "Extended backward sequence: RESIDENTIAL_BURGLARY -> VANDALISM -> VANDALISM -> AGGRAVATED_ASSAULT, PI: 0.0010940919037199124\n",
      "Extended backward sequence: AGGRAVATED_ASSAULT -> VANDALISM -> VANDALISM -> AGGRAVATED_ASSAULT, PI: 0.0\n",
      "Extended backward sequence: LARCENY_FROM_MOTOR_VEHICLE -> VANDALISM -> VANDALISM -> AGGRAVATED_ASSAULT, PI: 0.002735229759299781\n",
      "Extended backward sequence: DISORDERLY -> VANDALISM -> VANDALISM -> AGGRAVATED_ASSAULT, PI: 0.0010940919037199124\n",
      "Extended backward sequence: OTHER -> VANDALISM -> VANDALISM -> AGGRAVATED_ASSAULT, PI: 0.0010940919037199124\n",
      "Extended backward sequence: DRUG_CHARGES -> VANDALISM -> VANDALISM -> AGGRAVATED_ASSAULT, PI: 0.00437636761487965\n",
      "Extended backward sequence: TOWED -> VANDALISM -> VANDALISM -> AGGRAVATED_ASSAULT, PI: 0.002735229759299781\n",
      "Extended backward sequence: OPERATING_UNDER_INFLUENCE -> VANDALISM -> VANDALISM -> AGGRAVATED_ASSAULT, PI: 0.0005470459518599562\n",
      "Extended backward sequence: FIRE -> VANDALISM -> VANDALISM -> AGGRAVATED_ASSAULT, PI: 0.0\n",
      "Extended backward sequence: EMBEZELLMENT -> VANDALISM -> VANDALISM -> AGGRAVATED_ASSAULT, PI: 0.0\n",
      "Extended backward sequence: ROBBERY -> VANDALISM -> VANDALISM -> AGGRAVATED_ASSAULT, PI: 0.0010940919037199124\n",
      "Extended backward sequence: Harass -> VANDALISM -> VANDALISM -> AGGRAVATED_ASSAULT, PI: 0.0\n",
      "Extended backward sequence: COMMERCIAL_BURGLARY -> VANDALISM -> VANDALISM -> AGGRAVATED_ASSAULT, PI: 0.0014207909069381957\n",
      "Extended backward sequence: Bomb -> VANDALISM -> VANDALISM -> AGGRAVATED_ASSAULT, PI: 0.0\n",
      "Extended backward sequence: CRIMES_AGAINST_CHILDREN -> VANDALISM -> VANDALISM -> AGGRAVATED_ASSAULT, PI: 0.0005470459518599562\n",
      "Extended backward sequence: FORGERY -> VANDALISM -> VANDALISM -> AGGRAVATED_ASSAULT, PI: 0.0005470459518599562\n",
      "Extended backward sequence: HOMICIDE -> VANDALISM -> VANDALISM -> AGGRAVATED_ASSAULT, PI: 0.0\n",
      "Extended backward sequence: ARSON -> VANDALISM -> VANDALISM -> AGGRAVATED_ASSAULT, PI: 0.0\n",
      "Extended backward sequence: GAMBLING_OFFENSE -> VANDALISM -> VANDALISM -> AGGRAVATED_ASSAULT, PI: 0.0\n",
      "Extended backward sequence: Manslaug -> VANDALISM -> VANDALISM -> AGGRAVATED_ASSAULT, PI: 0.0\n",
      "Extended backward sequence: VIOLATION_OF_LIQUOR_LAWS -> VANDALISM -> AGGRAVATED_ASSAULT, PI: 0.0\n",
      "Extended backward sequence: RESIDENTIAL_BURGLARY -> VANDALISM -> AGGRAVATED_ASSAULT, PI: 0.006017505470459519\n",
      "Extended backward sequence: AGGRAVATED_ASSAULT -> VANDALISM -> AGGRAVATED_ASSAULT, PI: 0.006017505470459519\n",
      "Extended backward sequence: LARCENY_FROM_MOTOR_VEHICLE -> VANDALISM -> AGGRAVATED_ASSAULT, PI: 0.008205689277899343\n",
      "Extended backward sequence: DISORDERLY -> VANDALISM -> AGGRAVATED_ASSAULT, PI: 0.0005470459518599562\n",
      "Extended backward sequence: OTHER -> VANDALISM -> AGGRAVATED_ASSAULT, PI: 0.0016411378555798686\n",
      "Extended backward sequence: DRUG_CHARGES -> VANDALISM -> AGGRAVATED_ASSAULT, PI: 0.010940919037199124\n",
      "Extending backward: Sequence=DRUG_CHARGES -> VANDALISM -> AGGRAVATED_ASSAULT\n",
      "Extended backward sequence: AUTO_THEFT -> DRUG_CHARGES -> VANDALISM -> AGGRAVATED_ASSAULT, PI: 0.0\n",
      "Extended backward sequence: SIMPLE_ASSAULT -> DRUG_CHARGES -> VANDALISM -> AGGRAVATED_ASSAULT, PI: 0.0032822757111597373\n",
      "Extended backward sequence: OTHER_LARCENY -> DRUG_CHARGES -> VANDALISM -> AGGRAVATED_ASSAULT, PI: 0.005470459518599562\n",
      "Extended backward sequence: WEAPONS_CHARGE -> DRUG_CHARGES -> VANDALISM -> AGGRAVATED_ASSAULT, PI: 0.0\n",
      "Extended backward sequence: VANDALISM -> DRUG_CHARGES -> VANDALISM -> AGGRAVATED_ASSAULT, PI: 0.002735229759299781\n",
      "Extended backward sequence: VIOLATION_OF_LIQUOR_LAWS -> DRUG_CHARGES -> VANDALISM -> AGGRAVATED_ASSAULT, PI: 0.0\n",
      "Extended backward sequence: RESIDENTIAL_BURGLARY -> DRUG_CHARGES -> VANDALISM -> AGGRAVATED_ASSAULT, PI: 0.0016411378555798686\n",
      "Extended backward sequence: AGGRAVATED_ASSAULT -> DRUG_CHARGES -> VANDALISM -> AGGRAVATED_ASSAULT, PI: 0.0016411378555798686\n",
      "Extended backward sequence: LARCENY_FROM_MOTOR_VEHICLE -> DRUG_CHARGES -> VANDALISM -> AGGRAVATED_ASSAULT, PI: 0.0005470459518599562\n",
      "Extended backward sequence: DISORDERLY -> DRUG_CHARGES -> VANDALISM -> AGGRAVATED_ASSAULT, PI: 0.0010940919037199124\n",
      "Extended backward sequence: OTHER -> DRUG_CHARGES -> VANDALISM -> AGGRAVATED_ASSAULT, PI: 0.0005470459518599562\n",
      "Extended backward sequence: DRUG_CHARGES -> DRUG_CHARGES -> VANDALISM -> AGGRAVATED_ASSAULT, PI: 0.0010940919037199124\n",
      "Extended backward sequence: TOWED -> DRUG_CHARGES -> VANDALISM -> AGGRAVATED_ASSAULT, PI: 0.0010940919037199124\n",
      "Extended backward sequence: OPERATING_UNDER_INFLUENCE -> DRUG_CHARGES -> VANDALISM -> AGGRAVATED_ASSAULT, PI: 0.0\n",
      "Extended backward sequence: FIRE -> DRUG_CHARGES -> VANDALISM -> AGGRAVATED_ASSAULT, PI: 0.0\n",
      "Extended backward sequence: EMBEZELLMENT -> DRUG_CHARGES -> VANDALISM -> AGGRAVATED_ASSAULT, PI: 0.00023679848448969926\n",
      "Extended backward sequence: ROBBERY -> DRUG_CHARGES -> VANDALISM -> AGGRAVATED_ASSAULT, PI: 0.0010940919037199124\n",
      "Extended backward sequence: Harass -> DRUG_CHARGES -> VANDALISM -> AGGRAVATED_ASSAULT, PI: 0.0\n",
      "Extended backward sequence: COMMERCIAL_BURGLARY -> DRUG_CHARGES -> VANDALISM -> AGGRAVATED_ASSAULT, PI: 0.0\n",
      "Extended backward sequence: Bomb -> DRUG_CHARGES -> VANDALISM -> AGGRAVATED_ASSAULT, PI: 0.0\n",
      "Extended backward sequence: CRIMES_AGAINST_CHILDREN -> DRUG_CHARGES -> VANDALISM -> AGGRAVATED_ASSAULT, PI: 0.0\n",
      "Extended backward sequence: FORGERY -> DRUG_CHARGES -> VANDALISM -> AGGRAVATED_ASSAULT, PI: 0.0\n",
      "Extended backward sequence: HOMICIDE -> DRUG_CHARGES -> VANDALISM -> AGGRAVATED_ASSAULT, PI: 0.0\n",
      "Extended backward sequence: ARSON -> DRUG_CHARGES -> VANDALISM -> AGGRAVATED_ASSAULT, PI: 0.0\n",
      "Extended backward sequence: GAMBLING_OFFENSE -> DRUG_CHARGES -> VANDALISM -> AGGRAVATED_ASSAULT, PI: 0.0\n",
      "Extended backward sequence: Manslaug -> DRUG_CHARGES -> VANDALISM -> AGGRAVATED_ASSAULT, PI: 0.0\n",
      "Extended backward sequence: TOWED -> VANDALISM -> AGGRAVATED_ASSAULT, PI: 0.007111597374179431\n",
      "Extended backward sequence: OPERATING_UNDER_INFLUENCE -> VANDALISM -> AGGRAVATED_ASSAULT, PI: 0.002188183807439825\n",
      "Extended backward sequence: FIRE -> VANDALISM -> AGGRAVATED_ASSAULT, PI: 0.0005470459518599562\n",
      "Extended backward sequence: EMBEZELLMENT -> VANDALISM -> AGGRAVATED_ASSAULT, PI: 0.0\n",
      "Extended backward sequence: ROBBERY -> VANDALISM -> AGGRAVATED_ASSAULT, PI: 0.002735229759299781\n",
      "Extended backward sequence: Harass -> VANDALISM -> AGGRAVATED_ASSAULT, PI: 0.0\n",
      "Extended backward sequence: COMMERCIAL_BURGLARY -> VANDALISM -> AGGRAVATED_ASSAULT, PI: 0.0016411378555798686\n",
      "Extended backward sequence: Bomb -> VANDALISM -> AGGRAVATED_ASSAULT, PI: 0.0\n",
      "Extended backward sequence: CRIMES_AGAINST_CHILDREN -> VANDALISM -> AGGRAVATED_ASSAULT, PI: 0.0010940919037199124\n",
      "Extended backward sequence: FORGERY -> VANDALISM -> AGGRAVATED_ASSAULT, PI: 0.0016411378555798686\n",
      "Extended backward sequence: HOMICIDE -> VANDALISM -> AGGRAVATED_ASSAULT, PI: 0.0\n",
      "Extended backward sequence: ARSON -> VANDALISM -> AGGRAVATED_ASSAULT, PI: 0.0\n",
      "Extended backward sequence: GAMBLING_OFFENSE -> VANDALISM -> AGGRAVATED_ASSAULT, PI: 0.0\n",
      "Extended backward sequence: Manslaug -> VANDALISM -> AGGRAVATED_ASSAULT, PI: 0.0\n",
      "Extending backward: Sequence=VANDALISM -> AGGRAVATED_ASSAULT -> EMBEZELLMENT\n",
      "Extended backward sequence: AUTO_THEFT -> VANDALISM -> AGGRAVATED_ASSAULT -> EMBEZELLMENT, PI: 0.0\n",
      "Extended backward sequence: SIMPLE_ASSAULT -> VANDALISM -> AGGRAVATED_ASSAULT -> EMBEZELLMENT, PI: 0.0\n",
      "Extended backward sequence: OTHER_LARCENY -> VANDALISM -> AGGRAVATED_ASSAULT -> EMBEZELLMENT, PI: 0.014492753623188406\n",
      "Extending backward: Sequence=OTHER_LARCENY -> VANDALISM -> AGGRAVATED_ASSAULT -> EMBEZELLMENT\n",
      "Extended backward sequence: AUTO_THEFT -> OTHER_LARCENY -> VANDALISM -> AGGRAVATED_ASSAULT -> EMBEZELLMENT, PI: 0.0\n",
      "Extended backward sequence: SIMPLE_ASSAULT -> OTHER_LARCENY -> VANDALISM -> AGGRAVATED_ASSAULT -> EMBEZELLMENT, PI: 0.0\n",
      "Extended backward sequence: OTHER_LARCENY -> OTHER_LARCENY -> VANDALISM -> AGGRAVATED_ASSAULT -> EMBEZELLMENT, PI: 0.0\n",
      "Extended backward sequence: WEAPONS_CHARGE -> OTHER_LARCENY -> VANDALISM -> AGGRAVATED_ASSAULT -> EMBEZELLMENT, PI: 0.0\n",
      "Extended backward sequence: VANDALISM -> OTHER_LARCENY -> VANDALISM -> AGGRAVATED_ASSAULT -> EMBEZELLMENT, PI: 0.0\n",
      "Extended backward sequence: VIOLATION_OF_LIQUOR_LAWS -> OTHER_LARCENY -> VANDALISM -> AGGRAVATED_ASSAULT -> EMBEZELLMENT, PI: 0.0\n",
      "Extended backward sequence: RESIDENTIAL_BURGLARY -> OTHER_LARCENY -> VANDALISM -> AGGRAVATED_ASSAULT -> EMBEZELLMENT, PI: 0.0\n",
      "Extended backward sequence: AGGRAVATED_ASSAULT -> OTHER_LARCENY -> VANDALISM -> AGGRAVATED_ASSAULT -> EMBEZELLMENT, PI: 0.0\n",
      "Extended backward sequence: LARCENY_FROM_MOTOR_VEHICLE -> OTHER_LARCENY -> VANDALISM -> AGGRAVATED_ASSAULT -> EMBEZELLMENT, PI: 0.0\n",
      "Extended backward sequence: DISORDERLY -> OTHER_LARCENY -> VANDALISM -> AGGRAVATED_ASSAULT -> EMBEZELLMENT, PI: 0.0\n",
      "Extended backward sequence: OTHER -> OTHER_LARCENY -> VANDALISM -> AGGRAVATED_ASSAULT -> EMBEZELLMENT, PI: 0.0\n",
      "Extended backward sequence: DRUG_CHARGES -> OTHER_LARCENY -> VANDALISM -> AGGRAVATED_ASSAULT -> EMBEZELLMENT, PI: 0.0\n",
      "Extended backward sequence: TOWED -> OTHER_LARCENY -> VANDALISM -> AGGRAVATED_ASSAULT -> EMBEZELLMENT, PI: 0.0\n",
      "Extended backward sequence: OPERATING_UNDER_INFLUENCE -> OTHER_LARCENY -> VANDALISM -> AGGRAVATED_ASSAULT -> EMBEZELLMENT, PI: 0.0\n",
      "Extended backward sequence: FIRE -> OTHER_LARCENY -> VANDALISM -> AGGRAVATED_ASSAULT -> EMBEZELLMENT, PI: 0.0\n",
      "Extended backward sequence: EMBEZELLMENT -> OTHER_LARCENY -> VANDALISM -> AGGRAVATED_ASSAULT -> EMBEZELLMENT, PI: 0.0\n",
      "Extended backward sequence: ROBBERY -> OTHER_LARCENY -> VANDALISM -> AGGRAVATED_ASSAULT -> EMBEZELLMENT, PI: 0.0\n",
      "Extended backward sequence: Harass -> OTHER_LARCENY -> VANDALISM -> AGGRAVATED_ASSAULT -> EMBEZELLMENT, PI: 0.0\n",
      "Extended backward sequence: COMMERCIAL_BURGLARY -> OTHER_LARCENY -> VANDALISM -> AGGRAVATED_ASSAULT -> EMBEZELLMENT, PI: 0.0\n",
      "Extended backward sequence: Bomb -> OTHER_LARCENY -> VANDALISM -> AGGRAVATED_ASSAULT -> EMBEZELLMENT, PI: 0.0\n",
      "Extended backward sequence: CRIMES_AGAINST_CHILDREN -> OTHER_LARCENY -> VANDALISM -> AGGRAVATED_ASSAULT -> EMBEZELLMENT, PI: 0.0\n",
      "Extended backward sequence: FORGERY -> OTHER_LARCENY -> VANDALISM -> AGGRAVATED_ASSAULT -> EMBEZELLMENT, PI: 0.0\n",
      "Extended backward sequence: HOMICIDE -> OTHER_LARCENY -> VANDALISM -> AGGRAVATED_ASSAULT -> EMBEZELLMENT, PI: 0.0\n",
      "Extended backward sequence: ARSON -> OTHER_LARCENY -> VANDALISM -> AGGRAVATED_ASSAULT -> EMBEZELLMENT, PI: 0.0\n",
      "Extended backward sequence: GAMBLING_OFFENSE -> OTHER_LARCENY -> VANDALISM -> AGGRAVATED_ASSAULT -> EMBEZELLMENT, PI: 0.0\n",
      "Extended backward sequence: Manslaug -> OTHER_LARCENY -> VANDALISM -> AGGRAVATED_ASSAULT -> EMBEZELLMENT, PI: 0.0\n",
      "Extended backward sequence: WEAPONS_CHARGE -> VANDALISM -> AGGRAVATED_ASSAULT -> EMBEZELLMENT, PI: 0.0\n",
      "Extended backward sequence: VANDALISM -> VANDALISM -> AGGRAVATED_ASSAULT -> EMBEZELLMENT, PI: 0.011487964989059081\n",
      "Extending backward: Sequence=VANDALISM -> VANDALISM -> AGGRAVATED_ASSAULT -> EMBEZELLMENT\n",
      "Extended backward sequence: AUTO_THEFT -> VANDALISM -> VANDALISM -> AGGRAVATED_ASSAULT -> EMBEZELLMENT, PI: 0.0\n",
      "Extended backward sequence: SIMPLE_ASSAULT -> VANDALISM -> VANDALISM -> AGGRAVATED_ASSAULT -> EMBEZELLMENT, PI: 0.0\n",
      "Extended backward sequence: OTHER_LARCENY -> VANDALISM -> VANDALISM -> AGGRAVATED_ASSAULT -> EMBEZELLMENT, PI: 0.00437636761487965\n",
      "Extended backward sequence: WEAPONS_CHARGE -> VANDALISM -> VANDALISM -> AGGRAVATED_ASSAULT -> EMBEZELLMENT, PI: 0.0\n",
      "Extended backward sequence: VANDALISM -> VANDALISM -> VANDALISM -> AGGRAVATED_ASSAULT -> EMBEZELLMENT, PI: 0.0\n",
      "Extended backward sequence: VIOLATION_OF_LIQUOR_LAWS -> VANDALISM -> VANDALISM -> AGGRAVATED_ASSAULT -> EMBEZELLMENT, PI: 0.0\n",
      "Extended backward sequence: RESIDENTIAL_BURGLARY -> VANDALISM -> VANDALISM -> AGGRAVATED_ASSAULT -> EMBEZELLMENT, PI: 0.0\n",
      "Extended backward sequence: AGGRAVATED_ASSAULT -> VANDALISM -> VANDALISM -> AGGRAVATED_ASSAULT -> EMBEZELLMENT, PI: 0.0\n",
      "Extended backward sequence: LARCENY_FROM_MOTOR_VEHICLE -> VANDALISM -> VANDALISM -> AGGRAVATED_ASSAULT -> EMBEZELLMENT, PI: 0.0\n",
      "Extended backward sequence: DISORDERLY -> VANDALISM -> VANDALISM -> AGGRAVATED_ASSAULT -> EMBEZELLMENT, PI: 0.0\n",
      "Extended backward sequence: OTHER -> VANDALISM -> VANDALISM -> AGGRAVATED_ASSAULT -> EMBEZELLMENT, PI: 0.0\n",
      "Extended backward sequence: DRUG_CHARGES -> VANDALISM -> VANDALISM -> AGGRAVATED_ASSAULT -> EMBEZELLMENT, PI: 0.0\n",
      "Extended backward sequence: TOWED -> VANDALISM -> VANDALISM -> AGGRAVATED_ASSAULT -> EMBEZELLMENT, PI: 0.002735229759299781\n",
      "Extended backward sequence: OPERATING_UNDER_INFLUENCE -> VANDALISM -> VANDALISM -> AGGRAVATED_ASSAULT -> EMBEZELLMENT, PI: 0.0\n",
      "Extended backward sequence: FIRE -> VANDALISM -> VANDALISM -> AGGRAVATED_ASSAULT -> EMBEZELLMENT, PI: 0.0\n",
      "Extended backward sequence: EMBEZELLMENT -> VANDALISM -> VANDALISM -> AGGRAVATED_ASSAULT -> EMBEZELLMENT, PI: 0.0\n",
      "Extended backward sequence: ROBBERY -> VANDALISM -> VANDALISM -> AGGRAVATED_ASSAULT -> EMBEZELLMENT, PI: 0.0\n",
      "Extended backward sequence: Harass -> VANDALISM -> VANDALISM -> AGGRAVATED_ASSAULT -> EMBEZELLMENT, PI: 0.0\n",
      "Extended backward sequence: COMMERCIAL_BURGLARY -> VANDALISM -> VANDALISM -> AGGRAVATED_ASSAULT -> EMBEZELLMENT, PI: 0.0\n",
      "Extended backward sequence: Bomb -> VANDALISM -> VANDALISM -> AGGRAVATED_ASSAULT -> EMBEZELLMENT, PI: 0.0\n",
      "Extended backward sequence: CRIMES_AGAINST_CHILDREN -> VANDALISM -> VANDALISM -> AGGRAVATED_ASSAULT -> EMBEZELLMENT, PI: 0.0\n",
      "Extended backward sequence: FORGERY -> VANDALISM -> VANDALISM -> AGGRAVATED_ASSAULT -> EMBEZELLMENT, PI: 0.0\n",
      "Extended backward sequence: HOMICIDE -> VANDALISM -> VANDALISM -> AGGRAVATED_ASSAULT -> EMBEZELLMENT, PI: 0.0\n",
      "Extended backward sequence: ARSON -> VANDALISM -> VANDALISM -> AGGRAVATED_ASSAULT -> EMBEZELLMENT, PI: 0.0\n",
      "Extended backward sequence: GAMBLING_OFFENSE -> VANDALISM -> VANDALISM -> AGGRAVATED_ASSAULT -> EMBEZELLMENT, PI: 0.0\n",
      "Extended backward sequence: Manslaug -> VANDALISM -> VANDALISM -> AGGRAVATED_ASSAULT -> EMBEZELLMENT, PI: 0.0\n",
      "Extended backward sequence: VIOLATION_OF_LIQUOR_LAWS -> VANDALISM -> AGGRAVATED_ASSAULT -> EMBEZELLMENT, PI: 0.0\n",
      "Extended backward sequence: RESIDENTIAL_BURGLARY -> VANDALISM -> AGGRAVATED_ASSAULT -> EMBEZELLMENT, PI: 0.0\n",
      "Extended backward sequence: AGGRAVATED_ASSAULT -> VANDALISM -> AGGRAVATED_ASSAULT -> EMBEZELLMENT, PI: 0.006017505470459519\n",
      "Extended backward sequence: LARCENY_FROM_MOTOR_VEHICLE -> VANDALISM -> AGGRAVATED_ASSAULT -> EMBEZELLMENT, PI: 0.0\n",
      "Extended backward sequence: DISORDERLY -> VANDALISM -> AGGRAVATED_ASSAULT -> EMBEZELLMENT, PI: 0.0\n",
      "Extended backward sequence: OTHER -> VANDALISM -> AGGRAVATED_ASSAULT -> EMBEZELLMENT, PI: 0.0\n",
      "Extended backward sequence: DRUG_CHARGES -> VANDALISM -> AGGRAVATED_ASSAULT -> EMBEZELLMENT, PI: 0.0\n",
      "Extended backward sequence: TOWED -> VANDALISM -> AGGRAVATED_ASSAULT -> EMBEZELLMENT, PI: 0.007111597374179431\n",
      "Extended backward sequence: OPERATING_UNDER_INFLUENCE -> VANDALISM -> AGGRAVATED_ASSAULT -> EMBEZELLMENT, PI: 0.0\n",
      "Extended backward sequence: FIRE -> VANDALISM -> AGGRAVATED_ASSAULT -> EMBEZELLMENT, PI: 0.0\n",
      "Extended backward sequence: EMBEZELLMENT -> VANDALISM -> AGGRAVATED_ASSAULT -> EMBEZELLMENT, PI: 0.0\n",
      "Extended backward sequence: ROBBERY -> VANDALISM -> AGGRAVATED_ASSAULT -> EMBEZELLMENT, PI: 0.0\n",
      "Extended backward sequence: Harass -> VANDALISM -> AGGRAVATED_ASSAULT -> EMBEZELLMENT, PI: 0.0\n",
      "Extended backward sequence: COMMERCIAL_BURGLARY -> VANDALISM -> AGGRAVATED_ASSAULT -> EMBEZELLMENT, PI: 0.0\n",
      "Extended backward sequence: Bomb -> VANDALISM -> AGGRAVATED_ASSAULT -> EMBEZELLMENT, PI: 0.0\n",
      "Extended backward sequence: CRIMES_AGAINST_CHILDREN -> VANDALISM -> AGGRAVATED_ASSAULT -> EMBEZELLMENT, PI: 0.0\n",
      "Extended backward sequence: FORGERY -> VANDALISM -> AGGRAVATED_ASSAULT -> EMBEZELLMENT, PI: 0.0\n",
      "Extended backward sequence: HOMICIDE -> VANDALISM -> AGGRAVATED_ASSAULT -> EMBEZELLMENT, PI: 0.0\n",
      "Extended backward sequence: ARSON -> VANDALISM -> AGGRAVATED_ASSAULT -> EMBEZELLMENT, PI: 0.0\n",
      "Extended backward sequence: GAMBLING_OFFENSE -> VANDALISM -> AGGRAVATED_ASSAULT -> EMBEZELLMENT, PI: 0.0\n",
      "Extended backward sequence: Manslaug -> VANDALISM -> AGGRAVATED_ASSAULT -> EMBEZELLMENT, PI: 0.0\n",
      "TaSTSPs found: 8\n",
      "VANDALISM -> AGGRAVATED_ASSAULT -> EMBEZELLMENT, PI: 0.014492753623188406\n",
      "VANDALISM -> VANDALISM -> AGGRAVATED_ASSAULT, PI: 0.011487964989059081\n",
      "DRUG_CHARGES -> VANDALISM -> AGGRAVATED_ASSAULT, PI: 0.010940919037199124\n",
      "SIMPLE_ASSAULT -> VANDALISM -> AGGRAVATED_ASSAULT, PI: 0.011487964989059081\n",
      "OTHER_LARCENY -> VANDALISM -> AGGRAVATED_ASSAULT, PI: 0.018052516411378557\n",
      "VANDALISM -> AGGRAVATED_ASSAULT, PI: 0.06181619256017506\n",
      "VANDALISM -> VANDALISM -> AGGRAVATED_ASSAULT -> EMBEZELLMENT, PI: 0.011487964989059081\n",
      "OTHER_LARCENY -> VANDALISM -> AGGRAVATED_ASSAULT -> EMBEZELLMENT, PI: 0.014492753623188406\n"
     ]
    }
   ],
   "execution_count": 11
  },
  {
   "metadata": {},
   "cell_type": "markdown",
   "source": "## Experiments for Pittsburgh",
   "id": "2935f79e91c89688"
  },
  {
   "metadata": {
    "ExecuteTime": {
     "end_time": "2024-06-20T20:07:32.556938Z",
     "start_time": "2024-06-20T20:07:31.214429Z"
    }
   },
   "cell_type": "code",
   "source": [
    "D_pittsburgh = Dataset('../data/crimes_Pittsburgh.csv')\n",
    "D_pittsburgh.dataset_dict.keys()"
   ],
   "id": "3c23a1f3f0539925",
   "outputs": [
    {
     "name": "stdout",
     "output_type": "stream",
     "text": [
      "Loading data from ../data/crimes_Pittsburgh.csv\n",
      "Data read successfully: 72867 rows\n"
     ]
    },
    {
     "data": {
      "text/plain": [
       "dict_keys(['IDENTITY_THEFT', 'THEFT_FROM_AUTO', 'WEAPONS-CARRY/POS-OTHER', 'DRIVING_UNDER_INFLUENCE', 'ROBBERY/HIGHWAY/GUN', 'RESIST_ARREST/OTHER_LAW_ENFORC', 'DISORDERLY_CONDUCT', 'PUBLIC_DRUNKENESS', 'AGG_ASSAULT/STRONGARM/INJURY', 'CRIMINAL_MISCHIEF', 'RECKLESSLY_ENDANGER_ANOTH_PER', 'AGG_ASSAULT/OTHER/INJURY', 'THEFT/PROP-LOST/MISLAID/DEL', 'AGG_ASSAULT/VEHICLE/NO_INJURY', 'THEFT_FROM_BUILDING', 'SIMPLE_ASSAULT/INJURY', 'CRIMINAL_MISCHIEF_(AUTO)', 'BURGLARY/FORCE_ENT/NON-RES', 'AGG_ASSAULT/KNIFE/INJURY', 'RETAIL_THEFT_(SHOPLIFTING)', 'THEFT_M.V._PARTS,ACCESSORIES', 'THEFT_BY_DECEPTION', 'ROBBERY/RESIDENCE/STRONGARM', 'SIMPLE_ASSAULT/NO_INJURY', 'FORGERY', 'THEFT_OF_SERVICES', 'BURGLARY/FORCE_ENT/RES', 'ROBBERY/HIGHWAY/STRONGARM', 'DRUG_PARAPHERNALIA', 'MARIJUANA-POSSESS', 'TERRORISTIC_THREATS', 'HARRASSMENT/THREAT/ATTEMPT/PHY', 'CRIMINAL_TRESPASS', 'ENDANGER_WELFARE_OF_CHILDREN', 'BURGLARY/NO_FORCE/RES', 'HARRASSMENT-OTHER', 'THEFT/ALL_OTHERS', 'ALL_OTHER_OFFENSES(EXPT_TRAFF)', 'RECEIVING_STOLEN_PROPERTY', 'FIREARMS_NOT_TO_BE_CARRIED_WO_LICENSE', 'MTR_VEH_THEFT_(AUTO)', 'OTHER_DRUG/NON-NARC-POSSESS', 'DISCHARGE_OF_FIREARM_INTO_OCC.STRUCTURE', 'THEFT_BICYCLES', 'LIQUOR_LAWS-OTHER', 'HARRASSMENT_BY_COMUN/ADDRESS', 'ROBBERY/HIGHWAY/OTHER', 'FALSE_RPT_LAW_ENFORCE_AUTH', 'OPIUM/COCAINE/DERV-POSSESS', 'LOCATED_RUNAWAY_-_OUTSIDE_CITY', 'CRIM_MISCHIEF_(GRAFFITI)', 'ROBBERY_COMMERCIAL_STRONGARM', 'MURDER/NON-NEG/MANSLTR-GUN', 'CREDIT_CARDS', 'ROBBERY_COMMERCIAL_OTHER', 'OBSTRUCT_HIGHWAYS/PUB_PASSAGES', 'MARIJUANA-SALE/MFG', 'PROTECTIVE_ORDERS', 'AGG_ASSAULT/GUN/INJURY', 'OPIUM/COCAINE/DERV(SALE/MFG)', 'RUNAWAYS_-_JUVENILE', 'SYNTHETIC_NARCS-POSSESS', 'TAMPER_WITH/FAB_PHYS_EVIDENCE', 'ROBBERY/CARJACK/STRONGARM', 'FORGERY/COUNTERFEITING/OTHER', 'MOTOR_THEFT_(AUTO)-PLATE_ONLY', 'AGG_ASSAULT/OTHER/NO_INJURY', 'AGG_ASSAULT/KNIFE/NO_INJURY', 'BAD_CHECKS', 'MOTOR_VEH_THEFT/TRUCK-BUS', 'POSSESSION_OF_FIREARM_BY_MINOR', 'UNAUTHORIZED_USE_VEHICLE/AUTO', 'THEFT/PICK_POCKET', 'MOTOR_VEH_THEFT/OTHER', 'PROSTITUTION_RELATED_OFFENSES', 'FALSE_IMPERS_PERS_PRIV._EMPLOY', 'THEFT_BY_EXTORTION', 'MTR_THFT_(TRUCK_AND_BUS)-PLATE_O', 'ALTERING/OBLITERATING_MARKS_OF_IDENTIFICATION', 'FALSE_ALARMS_AGENCIES_PUB_SAF', 'PROHIBITED_OFFENSIVE_WEAPONS', 'BURGLARY/ATTEMPT/RES', 'AGG_ASSAULT/STRONGARM/NO_INJURY', 'ARSON_(MOTOR_VEHICLE)', 'BURGLARY/NO_FORCE/NON-RES', 'CARRY_WEAPONS_ON_SCHOOL_PROP', 'BURGLARY/ATTEMPT/NON-RES', 'ROBBERY/PURSE_SNATCH/STRONGARM', 'IMPERSONATING_A_PUBLIC_SERVANT', 'ROBBERY/BANK/GUN', 'PROPULSION_OF_MISSILES_INTO_OCC_VEH/RDWY/NO_INJ', 'HARASSMENT/STALKING/OTHER', 'INSURANCE_FRAUD', 'ROBBERY_CHAIN_STORE_/_GUN', 'FALSE_EVIDENCE_OF_IDENTITY.', 'SCATTERING_RUBBISH', 'INSTITUTIONAL_VANDALISM', 'AGG_ASSAULT/DRIVEBY/GUN/INJURY', 'CRUELTY_TO_ANIMALS', 'CONVICT_NOT_TO_OWN/MAN/USE/SELL_FIREARMS', 'AGG_ASSAULT/GUN/NO_INJURY', 'FLIGHT_TO_AVOID_APPREHENSION/TRIAL/PUNISHMEN', 'AGG_ASSAULT/VEHICLE/INJURY', 'ROBBERY_CHAIN_STORE_/_OTHER', 'INTIMIDATION_WITNESS/VICTIMS', 'PUR/CON/POS/TRAN-INTOX_BEVERAG', 'ARSON_(OTHER)', 'RECKLESS-ENDANGER/DRIVEBY', 'NEGLECT_OF_CARE-DEPENDENT_PERSON', 'MOTOR_THEFT_(OTHER)-PLATE_ONLY', 'THEFT-FAIL_MAKE_DISP_FUNDS_REC', 'AGG_ASSAULT/DRIVEBY/GUN/NO_INJURY', 'THEFT/PURSE_SNATCH', 'COMPUTER_TRESSPASS_-_REMOVE_DATA', 'ROBBERY/PURSE_SNATCH/OTHER', 'ROBBERY/HIGHWAY/KNIFE', 'ROBBERY/COMMERCIAL/GUN', 'ROBBERY/RESIDENCE/GUN', 'LOITERING_PROWLING_AT_NIGHT', 'ATTEMPT_ONLY_(TRUCK_AND_BUS)', 'HARASSMENT/STALKING/THREAT/ATTMEPT/PHY', 'ROBBERY/CARJACK/GUN', 'SIMPLE_ASSAULT', 'BOMB_THREAT', 'COMPUTER_TRESSPASS_-_ALTER/ERASE_DATA', 'ROBBERY_GAS_STATION_GUN', 'POSSESS_INSTRUMENTS_OF_A_CRIME/WEAPON', 'THEFT_OF_LEASED_PROPERTY', 'ROBBERY/BANK/OTHER', 'ETHNIC_INTIM_-_RACIAL', 'PROP_MISSILE_INTO_OCC_VEHICLE/OR_ROADWAY', 'ROBBERY/MISC/STRONGARM', 'UNLAWFUL_USE_OF_COMPUTER', 'ROBBERY/PURSE_SNATCH_/_GUN', 'COMPUTER_TRESSPASS_-_CREATE/ALTER_FINANCIAL_INSTRUMENT', 'DECEPTIVE_BUSINESS_PRACTICES', 'THEFT_FROM_COIN_OPERATED_MACH', 'ROBBERY_CHAIN_STORE_/STRONGARM', 'UNAUTH_ADMIN_OF_INTOXICANT', 'MURDER/NON-NEG/MANSLTR-KNIFE', 'ROBBERY/BANK/_STRONGARM', 'AGGRAVATED_HARASSMENT_BY_PRISONER', 'ARSON_(STORAGE_BLDG-OCCUPIED)', 'FAIL_DISORD_PER_TO_DISPERSE', 'CAUSING/RISKING_CATASTROPHE/INVOL_FIRE/EXPL.', 'SALE_OR_TRANSFER_OF_FIREARMS', 'ESCAPE', 'HINDER_APPRHENSION/PROSECUTION', 'CRIM_MISCHIEF(ARSON-INVOLV)', 'POSSESS_INSTRUMENTS_OF_A_CRIME/OTHER_INSTR.', 'MOTOR_VEH_THEFT/MOTORCYCLE', 'INTERCEPTION/DISCLOSURE/USE_WIRE/ORAL_COMM', 'UNLAWFUL_RESTRAINT', 'INJURY/TAMP/FIRE_APP-HYD-ETC', 'MTR_THFT_(MOTORCYCLE)-PLATE_ON', 'INTERFER/CUSTODY_OF_CHILDREN', 'ROBBERY/CARJACK/KNIFE', 'INDUCE_MINORS_TO_BUY_LIQUOR/MALT/BREWED_BEV', 'ROBBERY/RESIDENCE/KNIFE', 'CONTRABAND', 'ROBBERY/MISC/GUN', 'UNSWORN_FALSIFI_TO_AUTHORITIES', 'OBST_ADM_LAW_/OTHR_GOVT_FUNCTN', 'ROBBERY_GAS_STATION_OTHER', 'ARSON_(OTHER_MOBILE_PROPERTY)', 'MISREP_AGE_TO_SECURE_LIQUOR/MALT/BREWED_BEV', 'ROBBERY/RESIDENCE/OTHER', 'ROBBERY_CHAIN_STORE_/_KNIFE', 'MTR_VEH_THFT_ATTEMPT_(AUTO-PASSGR)', 'ARSON_(SINGLE_OCC-NOT_OCCUPIED', 'INCENDIARY', 'ARSON_(MULTI_OCC-NOT_OCCUPIED)', 'ROBBERY/MISC/OTHER', 'ASSAULT_BY_PRISONER/OTHER/NO_INJURY', 'PROPULSION_OF_MISSILES_INTO_OCC_VEH/RDWY/INJURY', 'CRIMINAL_COERCION', 'ATTEMPT_ONLY_(OTHER_VEH_THEFT)', 'SALE/ILLEG_USE_OF_CERT_SL_POSS', 'ROBBERY_GAS_STATION_KNIFE', 'ARSON(SINGLE_OCC-OCCUPIED)', 'ROBBERY/BANK/KNIFE', 'TRADEMARK_COUNTERFEITING', 'COMPUTER_TRESSPASS_-_CAUSE_MALFUNCTION', 'UNAUTHORIZED_USE_VEHICLE/TRUCK/BUS', 'DESCRATION_OF_VENERATED_OBJECT', 'ARSON_(COMMUNITY/PUB-OCCUPIED)', 'MURDER/NON-NEG/MANSLTR-STRGARM', 'PERJURY', 'ARSON_(COMMUNITY/PUB-NOT_OCCU)', 'KIDNAPPING', 'SALE/USE_OF_AIR_RIFLES', 'AGG_ASSAULT/DRIVEBY/INJ/GUN', 'ROBBERY/PURSE_SNATCH/KNIFE', 'ARSON_(MULTI_OCC-OCCUPIED)', 'PUBLIC_NUISANCES', 'ROBBERY/CARJACK/OTHER', 'MURDER/DRIVEBY/GUN', 'MURDER/NON-NEG/MANSLTR-OTHER', 'FALSE_IMPRISONMENT', 'ROBBERY_GAS_STATION_STRONGARM', 'MURDER/NON-NEG/MANSLTR-RIF-SHT', 'UNAUTHORIZED_SCHOOL_BUS_ENTRY(OTHER)', 'OTHER_DRUG/NON-NARC_SALE/MFG', 'BIGAMY', 'STORE/CONSUM/SALE_ALCO_BEV_UNLICENSED_PREM', 'ATTEMPT_ONLY_(MOTORCYCLE_THEFT)', 'SYNTHETIC_NARCS-SALE/MFG', 'ETHNIC_INT_-_RELIGION', 'CRIM_MIS_FIRE_(ABN_ALL_OTHER)', 'DISORDERLY_CONDUCT_-_OTHER', 'CONCEALMENT_OF_WHEREABOUTS_OF_CHILD', 'FRAUD_DEST/REM/CONC_REC_INSTRU', 'AGG-ASSAULT/DRIVEBY-NOINJ/GUN', 'USE_CARTS/TRAYS/BASKETS/CO_NT', 'ASSAULT_BY_LIFE_PRISON/KNIFE', 'ROBBERY_/_COMMERCIAL/_KNIFE', 'AGG/ASSAULT/KNIFE', 'ETHNIC_INT_-_ETHNICITY', 'ETHNIC_INTIMIDATION', 'UNAUTHORIZED_USE_VEHICLE/OTHER', 'ETHNIC_INT_-_PHYSICAL/MENTAL', 'THEFT', 'DRUG_DELIVERY_RESULTING_IN_DEATH', 'ARSON_(INDUST/MFG-NOT_OCCUPIE)', 'ATTEMPTED_KIDNAPPING', 'UNAUTHORIZED_SCHOOL_BUS_ENTRY_(ATT_THEFT)', 'ASSAULT_BY_PRISONER/STRONGARM', 'SELLING/FURNISHING_NONALCOHOL_TO_MINOR', 'SALE_OF_TOBACCO', 'ARSON_(OTHER_STRUCT-NOT_OCCUP)', 'AGG-ASSAULT/OTHER', 'AGG-ASSAULT/GUN', 'AGG-ASSAULT/STRONGARM', 'WITNESS/VICTIM-RETALIATION', 'UNLAW_LISTEN_DELIB._OF_JURY', 'FRAUD_-_OTHER'])"
      ]
     },
     "execution_count": 12,
     "metadata": {},
     "output_type": "execute_result"
    }
   ],
   "execution_count": 12
  },
  {
   "metadata": {
    "ExecuteTime": {
     "end_time": "2024-06-20T20:17:25.703143Z",
     "start_time": "2024-06-20T20:07:32.557600Z"
    }
   },
   "cell_type": "code",
   "source": [
    "R = 100\n",
    "T = 7000\n",
    "stq = [Sequence(event_types=['MARIJUANA-POSSESS', 'TERRORISTIC_THREATS'])]\n",
    "TaSTSPs= tastsp_algorithm(D_pittsburgh, D_pittsburgh.dataset_dict.keys(), R, T, 0.01, stq, distance_type = 'Earth', verbose = 2)\n",
    "for s in TaSTSPs:\n",
    "    print(s)"
   ],
   "id": "505e4a4870764899",
   "outputs": [
    {
     "name": "stdout",
     "output_type": "stream",
     "text": [
      "Starting TaSTSP Algorithm\n",
      "Parameters: R=100, T=7000, theta=0.01, distance_type=Earth\n",
      "Number of sequences in stq: 1\n",
      "Calculating I and PI for sequence 0\n",
      "Extending forward: Sequence=MARIJUANA-POSSESS -> TERRORISTIC_THREATS, Index=1\n",
      "Extending forward: Sequence=MARIJUANA-POSSESS -> TERRORISTIC_THREATS -> FALSE_ALARMS_AGENCIES_PUB_SAF, Index=1\n",
      "Forward extension completed\n",
      "Extending backward: Sequence=MARIJUANA-POSSESS -> TERRORISTIC_THREATS -> FALSE_ALARMS_AGENCIES_PUB_SAF\n",
      "Extending backward: Sequence=MARIJUANA-POSSESS -> TERRORISTIC_THREATS\n",
      "TaSTSPs found: 2\n",
      "MARIJUANA-POSSESS -> TERRORISTIC_THREATS -> FALSE_ALARMS_AGENCIES_PUB_SAF, PI: 0.011096605744125326\n",
      "MARIJUANA-POSSESS -> TERRORISTIC_THREATS, PI: 0.011096605744125326\n"
     ]
    }
   ],
   "execution_count": 13
  },
  {
   "metadata": {
    "ExecuteTime": {
     "end_time": "2024-06-20T21:13:41.812156Z",
     "start_time": "2024-06-20T20:17:25.705123Z"
    }
   },
   "cell_type": "code",
   "source": [
    "R = 100\n",
    "T = 7000\n",
    "stq = [Sequence(event_types=['MARIJUANA-POSSESS'])]\n",
    "\n",
    "TaSTSPs = tastsp_algorithm(D_pittsburgh, D_pittsburgh.dataset_dict.keys(), R, T, 0.1, stq, distance_type='Earth', verbose=1)\n",
    "\n",
    "for s in TaSTSPs:\n",
    "    print(s)"
   ],
   "id": "14ae672f8af70709",
   "outputs": [
    {
     "name": "stdout",
     "output_type": "stream",
     "text": [
      "Starting TaSTSP Algorithm\n",
      "Parameters: R=100, T=7000, theta=0.1, distance_type=Earth\n",
      "Number of sequences in stq: 1\n",
      "Forward extension completed\n",
      "TaSTSPs found: 11\n",
      "MARIJUANA-POSSESS -> OTHER_DRUG/NON-NARC_SALE/MFG, PI: 0.14285714285714285\n",
      "MARIJUANA-POSSESS -> ROBBERY/PURSE_SNATCH/OTHER, PI: 0.3333333333333333\n",
      "MARIJUANA-POSSESS -> MURDER/NON-NEG/MANSLTR-RIF-SHT, PI: 1\n",
      "MARIJUANA-POSSESS -> CAUSING/RISKING_CATASTROPHE/INVOL_FIRE/EXPL., PI: 0.18181818181818182\n",
      "MARIJUANA-POSSESS -> ARSON_(COMMUNITY/PUB-OCCUPIED), PI: 0.2\n",
      "MARIJUANA-POSSESS -> CARRY_WEAPONS_ON_SCHOOL_PROP, PI: 0.10112359550561797\n",
      "MARIJUANA-POSSESS -> ROBBERY/BANK/GUN, PI: 0.1111111111111111\n",
      "MARIJUANA-POSSESS -> FAIL_DISORD_PER_TO_DISPERSE, PI: 0.14285714285714285\n",
      "MARIJUANA-POSSESS -> ETHNIC_INTIM_-_RACIAL, PI: 0.1111111111111111\n",
      "MARIJUANA-POSSESS -> BOMB_THREAT, PI: 0.1\n",
      "MARIJUANA-POSSESS, PI: 1\n"
     ]
    }
   ],
   "execution_count": 14
  },
  {
   "metadata": {
    "ExecuteTime": {
     "end_time": "2024-06-20T21:13:41.814334Z",
     "start_time": "2024-06-20T21:13:41.812804Z"
    }
   },
   "cell_type": "code",
   "source": "",
   "id": "c97c6be779528389",
   "outputs": [],
   "execution_count": 14
  }
 ],
 "metadata": {
  "kernelspec": {
   "display_name": "Python 3",
   "language": "python",
   "name": "python3"
  },
  "language_info": {
   "codemirror_mode": {
    "name": "ipython",
    "version": 2
   },
   "file_extension": ".py",
   "mimetype": "text/x-python",
   "name": "python",
   "nbconvert_exporter": "python",
   "pygments_lexer": "ipython2",
   "version": "2.7.6"
  }
 },
 "nbformat": 4,
 "nbformat_minor": 5
}
