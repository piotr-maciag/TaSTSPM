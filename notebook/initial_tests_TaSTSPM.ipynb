{
 "cells": [
  {
   "metadata": {},
   "cell_type": "markdown",
   "source": "## Initial tests with TaSTSPM",
   "id": "707fbdf03d3b3d8"
  },
  {
   "cell_type": "code",
   "id": "initial_id",
   "metadata": {
    "collapsed": true,
    "ExecuteTime": {
     "end_time": "2024-06-19T13:37:59.175779Z",
     "start_time": "2024-06-19T13:37:58.920090Z"
    }
   },
   "source": [
    "from src.Sequence import *\n",
    "from src.TaSTSPM import *"
   ],
   "outputs": [],
   "execution_count": 1
  },
  {
   "metadata": {
    "ExecuteTime": {
     "end_time": "2024-06-19T13:37:59.196268Z",
     "start_time": "2024-06-19T13:37:59.186005Z"
    }
   },
   "cell_type": "code",
   "source": [
    "import sys\n",
    "\n",
    "# Print the current maximum recursion depth\n",
    "print(\"Current recursion limit:\", sys.getrecursionlimit())\n",
    "\n",
    "# Set the maximum recursion depth to a higher value, for example, 3000\n",
    "sys.setrecursionlimit(7000)\n",
    "\n",
    "# Print the new maximum recursion depth\n",
    "print(\"New recursion limit:\", sys.getrecursionlimit())"
   ],
   "id": "bc77685f1f2c700",
   "outputs": [
    {
     "name": "stdout",
     "output_type": "stream",
     "text": [
      "Current recursion limit: 3000\n",
      "New recursion limit: 7000\n"
     ]
    }
   ],
   "execution_count": 2
  },
  {
   "metadata": {
    "ExecuteTime": {
     "end_time": "2024-06-19T13:37:59.213749Z",
     "start_time": "2024-06-19T13:37:59.204122Z"
    }
   },
   "cell_type": "code",
   "source": "stq = [Sequence(event_types=['B', 'C', 'D'])]",
   "id": "daa4dfe6fecc1f3c",
   "outputs": [],
   "execution_count": 3
  },
  {
   "metadata": {
    "ExecuteTime": {
     "end_time": "2024-06-19T13:37:59.223788Z",
     "start_time": "2024-06-19T13:37:59.215605Z"
    }
   },
   "cell_type": "code",
   "source": "D = Dataset('../data/toy_dataset.csv')\n",
   "id": "ba45c0a32bfe1b5c",
   "outputs": [
    {
     "name": "stdout",
     "output_type": "stream",
     "text": [
      "Loading data from ../data/toy_dataset.csv\n",
      "Data read successfully: 17 rows\n"
     ]
    }
   ],
   "execution_count": 4
  },
  {
   "metadata": {
    "ExecuteTime": {
     "end_time": "2024-06-19T13:37:59.231325Z",
     "start_time": "2024-06-19T13:37:59.226517Z"
    }
   },
   "cell_type": "code",
   "source": [
    "stq[0].calculate_I(0, D, 10, 20)\n",
    "stq[0].calculate_I(0, D, 10, 20)\n",
    "len(stq[0][0].I)"
   ],
   "id": "a6b43ae76cea4790",
   "outputs": [
    {
     "data": {
      "text/plain": [
       "5"
      ]
     },
     "execution_count": 5,
     "metadata": {},
     "output_type": "execute_result"
    }
   ],
   "execution_count": 5
  },
  {
   "metadata": {
    "ExecuteTime": {
     "end_time": "2024-06-19T13:37:59.236232Z",
     "start_time": "2024-06-19T13:37:59.232413Z"
    }
   },
   "cell_type": "code",
   "source": [
    "R = 10\n",
    "T = 10\n",
    "stq[0].calculate_PI(PR, D, R, T)\n",
    "stq[0].PI"
   ],
   "id": "2ffef26c3e060b06",
   "outputs": [
    {
     "data": {
      "text/plain": [
       "0.0"
      ]
     },
     "execution_count": 6,
     "metadata": {},
     "output_type": "execute_result"
    }
   ],
   "execution_count": 6
  },
  {
   "metadata": {
    "ExecuteTime": {
     "end_time": "2024-06-19T13:37:59.241138Z",
     "start_time": "2024-06-19T13:37:59.237342Z"
    }
   },
   "cell_type": "code",
   "source": "D.dataset_dict.keys()",
   "id": "2432c73631d4d22f",
   "outputs": [
    {
     "data": {
      "text/plain": [
       "dict_keys(['A', 'B', 'C', 'D'])"
      ]
     },
     "execution_count": 7,
     "metadata": {},
     "output_type": "execute_result"
    }
   ],
   "execution_count": 7
  },
  {
   "metadata": {
    "ExecuteTime": {
     "end_time": "2024-06-19T13:37:59.244868Z",
     "start_time": "2024-06-19T13:37:59.242033Z"
    }
   },
   "cell_type": "code",
   "source": [
    "R = 10\n",
    "T = 20\n",
    "stq = [Sequence(event_types=['B', 'C'])]\n",
    "TaSTSPs= tastsp_algorithm(D, D.dataset_dict.keys(), R, T, 0.2, stq)\n",
    "for s in TaSTSPs:\n",
    "    print(s)"
   ],
   "id": "c86baccf64ed1d61",
   "outputs": [],
   "execution_count": 8
  },
  {
   "metadata": {
    "ExecuteTime": {
     "end_time": "2024-06-19T13:37:59.249192Z",
     "start_time": "2024-06-19T13:37:59.246133Z"
    }
   },
   "cell_type": "code",
   "source": "# Testing on Boston reduced dataset",
   "id": "ff96ae930d93c16b",
   "outputs": [],
   "execution_count": 9
  },
  {
   "metadata": {},
   "cell_type": "markdown",
   "source": "",
   "id": "b0b4c254e03b44ee"
  },
  {
   "metadata": {
    "ExecuteTime": {
     "end_time": "2024-06-19T13:40:57.616051Z",
     "start_time": "2024-06-19T13:40:56.821240Z"
    }
   },
   "cell_type": "code",
   "source": [
    "D_boston = Dataset('../data/crimes_Boston.csv')\n",
    "D_boston.dataset_dict.keys()"
   ],
   "id": "f7854c167b5c3809",
   "outputs": [
    {
     "name": "stdout",
     "output_type": "stream",
     "text": [
      "Loading data from ../data/crimes_Boston.csv\n",
      "Data read successfully: 40544 rows\n"
     ]
    },
    {
     "data": {
      "text/plain": [
       "dict_keys(['AUTO_THEFT', 'SIMPLE_ASSAULT', 'OTHER_LARCENY', 'WEAPONS_CHARGE', 'VANDALISM', 'VIOLATION_OF_LIQUOR_LAWS', 'RESIDENTIAL_BURGLARY', 'AGGRAVATED_ASSAULT', 'LARCENY_FROM_MOTOR_VEHICLE', 'DISORDERLY', 'OTHER', 'DRUG_CHARGES', 'TOWED', 'OPERATING_UNDER_INFLUENCE', 'FIRE', 'EMBEZELLMENT', 'ROBBERY', 'Harass', 'COMMERCIAL_BURGLARY', 'Bomb', 'CRIMES_AGAINST_CHILDREN', 'FORGERY', 'HOMICIDE', 'ARSON', 'GAMBLING_OFFENSE', 'Manslaug'])"
      ]
     },
     "execution_count": 26,
     "metadata": {},
     "output_type": "execute_result"
    }
   ],
   "execution_count": 26
  },
  {
   "metadata": {
    "jupyter": {
     "is_executing": true
    },
    "ExecuteTime": {
     "start_time": "2024-06-19T13:58:02.390468Z"
    }
   },
   "cell_type": "code",
   "source": [
    "R = 500\n",
    "T = 22000\n",
    "D_boston.dataset_dict.keys()\n",
    "stq = [Sequence(event_types=['TOWED', 'SIMPLE_ASSAULT', 'VANDALISM'])]\n",
    "TaSTSPs= tastsp_algorithm(D_boston, D_boston.dataset_dict.keys(), R, T, 0.1, stq, distance_type = 'Earth', verbose = 1)\n",
    "for s in TaSTSPs:\n",
    "    print(s)"
   ],
   "id": "1698485b58178439",
   "outputs": [
    {
     "name": "stdout",
     "output_type": "stream",
     "text": [
      "Starting TaSTSP Algorithm\n",
      "Parameters: R=500, T=22000, theta=0.1, distance_type=Earth\n",
      "Number of sequences in stq: 1\n"
     ]
    }
   ],
   "execution_count": null
  },
  {
   "metadata": {
    "ExecuteTime": {
     "end_time": "2024-06-19T13:37:59.305451Z",
     "start_time": "2024-06-19T13:37:59.303943Z"
    }
   },
   "cell_type": "code",
   "source": "",
   "id": "3c23a1f3f0539925",
   "outputs": [],
   "execution_count": 11
  },
  {
   "metadata": {
    "ExecuteTime": {
     "end_time": "2024-06-19T13:37:59.307821Z",
     "start_time": "2024-06-19T13:37:59.306219Z"
    }
   },
   "cell_type": "code",
   "source": "",
   "id": "505e4a4870764899",
   "outputs": [],
   "execution_count": 11
  }
 ],
 "metadata": {
  "kernelspec": {
   "display_name": "Python 3",
   "language": "python",
   "name": "python3"
  },
  "language_info": {
   "codemirror_mode": {
    "name": "ipython",
    "version": 2
   },
   "file_extension": ".py",
   "mimetype": "text/x-python",
   "name": "python",
   "nbconvert_exporter": "python",
   "pygments_lexer": "ipython2",
   "version": "2.7.6"
  }
 },
 "nbformat": 4,
 "nbformat_minor": 5
}
