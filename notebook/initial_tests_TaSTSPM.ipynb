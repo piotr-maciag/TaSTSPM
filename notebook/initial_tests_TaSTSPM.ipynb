{
 "cells": [
  {
   "metadata": {},
   "cell_type": "markdown",
   "source": "## Initial tests with TaSTSPM",
   "id": "707fbdf03d3b3d8"
  },
  {
   "cell_type": "code",
   "id": "initial_id",
   "metadata": {
    "collapsed": true,
    "ExecuteTime": {
     "end_time": "2024-06-14T10:36:49.539768Z",
     "start_time": "2024-06-14T10:36:49.536097Z"
    }
   },
   "source": [
    "from src.Sequence import *\n",
    "from src.TaSTSPM import *"
   ],
   "outputs": [],
   "execution_count": 15
  },
  {
   "metadata": {
    "ExecuteTime": {
     "end_time": "2024-06-14T10:37:06.941136Z",
     "start_time": "2024-06-14T10:37:06.935968Z"
    }
   },
   "cell_type": "code",
   "source": [
    "stq = [Sequence(event_types='A'), Sequence(event_types=['B', 'A'])]\n",
    "stq"
   ],
   "id": "daa4dfe6fecc1f3c",
   "outputs": [
    {
     "data": {
      "text/plain": [
       "[Sequence(elements=[Element(type=A, I=None)], PI=1),\n",
       " Sequence(elements=[Element(type=B, I=None), Element(type=A, I=None)], PI=1)]"
      ]
     },
     "execution_count": 22,
     "metadata": {},
     "output_type": "execute_result"
    }
   ],
   "execution_count": 22
  },
  {
   "metadata": {
    "ExecuteTime": {
     "end_time": "2024-06-14T10:37:07.149878Z",
     "start_time": "2024-06-14T10:37:07.143701Z"
    }
   },
   "cell_type": "code",
   "source": "D = Dataset('../data/toy_dataset.csv')\n",
   "id": "ba45c0a32bfe1b5c",
   "outputs": [
    {
     "name": "stdout",
     "output_type": "stream",
     "text": [
      "Loading data from ../data/toy_dataset.csv\n",
      "Data read successfully: 17 rows\n"
     ]
    }
   ],
   "execution_count": 23
  },
  {
   "metadata": {
    "ExecuteTime": {
     "end_time": "2024-06-14T10:37:07.333874Z",
     "start_time": "2024-06-14T10:37:07.329766Z"
    }
   },
   "cell_type": "code",
   "source": [
    "stq[1].calculate_I(0, D, 10, 20)\n",
    "stq[1].calculate_I(1, D, 10, 20)\n",
    "len(stq[1][1].I)"
   ],
   "id": "a6b43ae76cea4790",
   "outputs": [
    {
     "data": {
      "text/plain": [
       "2"
      ]
     },
     "execution_count": 24,
     "metadata": {},
     "output_type": "execute_result"
    }
   ],
   "execution_count": 24
  },
  {
   "metadata": {
    "ExecuteTime": {
     "end_time": "2024-06-14T10:37:07.508112Z",
     "start_time": "2024-06-14T10:37:07.504111Z"
    }
   },
   "cell_type": "code",
   "source": [
    "R = 10\n",
    "T = 20\n",
    "stq[1].calculate_PI(PR, D, R, T)\n",
    "stq[1].PI"
   ],
   "id": "2ffef26c3e060b06",
   "outputs": [
    {
     "data": {
      "text/plain": [
       "1"
      ]
     },
     "execution_count": 25,
     "metadata": {},
     "output_type": "execute_result"
    }
   ],
   "execution_count": 25
  },
  {
   "metadata": {
    "ExecuteTime": {
     "end_time": "2024-06-14T10:37:08.019315Z",
     "start_time": "2024-06-14T10:37:08.015881Z"
    }
   },
   "cell_type": "code",
   "source": "D.dataset_dict.keys()",
   "id": "2432c73631d4d22f",
   "outputs": [
    {
     "data": {
      "text/plain": [
       "dict_keys(['A', 'B', 'C', 'D'])"
      ]
     },
     "execution_count": 26,
     "metadata": {},
     "output_type": "execute_result"
    }
   ],
   "execution_count": 26
  },
  {
   "metadata": {
    "ExecuteTime": {
     "end_time": "2024-06-14T10:37:08.315106Z",
     "start_time": "2024-06-14T10:37:08.309792Z"
    }
   },
   "cell_type": "code",
   "source": "tastsp_algorithm(D, D.dataset_dict.keys(), R, T, 0.2, stq)",
   "id": "c86baccf64ed1d61",
   "outputs": [
    {
     "data": {
      "text/plain": [
       "set()"
      ]
     },
     "execution_count": 27,
     "metadata": {},
     "output_type": "execute_result"
    }
   ],
   "execution_count": 27
  },
  {
   "metadata": {
    "ExecuteTime": {
     "end_time": "2024-06-14T10:35:05.046918Z",
     "start_time": "2024-06-14T10:35:05.044435Z"
    }
   },
   "cell_type": "code",
   "source": "",
   "id": "27f07ee4d5eee35b",
   "outputs": [],
   "execution_count": 7
  }
 ],
 "metadata": {
  "kernelspec": {
   "display_name": "Python 3",
   "language": "python",
   "name": "python3"
  },
  "language_info": {
   "codemirror_mode": {
    "name": "ipython",
    "version": 2
   },
   "file_extension": ".py",
   "mimetype": "text/x-python",
   "name": "python",
   "nbconvert_exporter": "python",
   "pygments_lexer": "ipython2",
   "version": "2.7.6"
  }
 },
 "nbformat": 4,
 "nbformat_minor": 5
}
