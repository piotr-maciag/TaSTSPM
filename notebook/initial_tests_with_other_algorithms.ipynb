{
 "cells": [
  {
   "cell_type": "code",
   "id": "initial_id",
   "metadata": {
    "collapsed": true,
    "ExecuteTime": {
     "end_time": "2024-06-26T12:58:15.986521Z",
     "start_time": "2024-06-26T12:58:15.980727Z"
    }
   },
   "source": "## This notebook performs inital tests with other algorithms for experiments purposes",
   "outputs": [],
   "execution_count": 1
  },
  {
   "metadata": {
    "ExecuteTime": {
     "end_time": "2024-06-26T12:58:16.377091Z",
     "start_time": "2024-06-26T12:58:15.988957Z"
    }
   },
   "cell_type": "code",
   "source": "from src.other_algorithms.run_algorithm import run_algorithm, print_sequences",
   "id": "913dfb0420eaef53",
   "outputs": [],
   "execution_count": 2
  },
  {
   "metadata": {
    "ExecuteTime": {
     "end_time": "2024-06-26T12:58:17.202537Z",
     "start_time": "2024-06-26T12:58:16.377764Z"
    }
   },
   "cell_type": "code",
   "source": [
    "from src.other_algorithms.load_data import Dataset\n",
    "data = Dataset('../data/crimes_Boston.csv')\n",
    "data.event_type_counts"
   ],
   "id": "2eafd00817b06d5",
   "outputs": [
    {
     "data": {
      "text/plain": [
       "{'AUTO_THEFT': 1579,\n",
       " 'SIMPLE_ASSAULT': 5969,\n",
       " 'OTHER_LARCENY': 8573,\n",
       " 'WEAPONS_CHARGE': 441,\n",
       " 'VANDALISM': 4223,\n",
       " 'VIOLATION_OF_LIQUOR_LAWS': 161,\n",
       " 'RESIDENTIAL_BURGLARY': 2182,\n",
       " 'AGGRAVATED_ASSAULT': 1828,\n",
       " 'LARCENY_FROM_MOTOR_VEHICLE': 4137,\n",
       " 'DISORDERLY': 579,\n",
       " 'OTHER': 606,\n",
       " 'DRUG_CHARGES': 4190,\n",
       " 'TOWED': 2250,\n",
       " 'OPERATING_UNDER_INFLUENCE': 245,\n",
       " 'FIRE': 606,\n",
       " 'EMBEZELLMENT': 69,\n",
       " 'ROBBERY': 1594,\n",
       " 'Harass': 91,\n",
       " 'COMMERCIAL_BURGLARY': 418,\n",
       " 'Bomb': 75,\n",
       " 'CRIMES_AGAINST_CHILDREN': 188,\n",
       " 'FORGERY': 473,\n",
       " 'HOMICIDE': 51,\n",
       " 'ARSON': 9,\n",
       " 'GAMBLING_OFFENSE': 6,\n",
       " 'Manslaug': 1}"
      ]
     },
     "execution_count": 3,
     "metadata": {},
     "output_type": "execute_result"
    }
   ],
   "execution_count": 3
  },
  {
   "metadata": {
    "jupyter": {
     "is_executing": true
    },
    "ExecuteTime": {
     "start_time": "2024-06-26T13:27:19.485296Z"
    }
   },
   "cell_type": "code",
   "source": [
    "dataset_path = '../data/crimes_Boston.csv'\n",
    "R = 100\n",
    "T = 2880\n",
    "theta = 0.01\n",
    "\n",
    "# Running CST_SPMiner\n",
    "result_CST_SPMiner = run_algorithm(dataset_path, R, T, theta, 'CST_SPMiner', verbose=1)\n",
    "print(\"CST-SPMiner Result:\")\n",
    "print_sequences(result_CST_SPMiner)\n",
    "# \n",
    "\n",
    "# Running STBFM\n",
    "result_STBFM = run_algorithm(dataset_path, R, T, theta, 'STBFM', verbose=1)\n",
    "print(\"STBFM Result:\")\n",
    "print_sequences(result_STBFM)"
   ],
   "id": "8ea0e528777abe07",
   "outputs": [
    {
     "name": "stdout",
     "output_type": "stream",
     "text": [
      "Starting CST_SPMiner Algorithm\n",
      "Created 1-length sequences\n"
     ]
    }
   ],
   "execution_count": null
  },
  {
   "metadata": {},
   "cell_type": "code",
   "source": "",
   "id": "bbb8b2ab74e2c581",
   "outputs": [],
   "execution_count": null
  }
 ],
 "metadata": {
  "kernelspec": {
   "display_name": "Python 3",
   "language": "python",
   "name": "python3"
  },
  "language_info": {
   "codemirror_mode": {
    "name": "ipython",
    "version": 2
   },
   "file_extension": ".py",
   "mimetype": "text/x-python",
   "name": "python",
   "nbconvert_exporter": "python",
   "pygments_lexer": "ipython2",
   "version": "2.7.6"
  }
 },
 "nbformat": 4,
 "nbformat_minor": 5
}
