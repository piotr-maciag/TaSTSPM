{
 "cells": [
  {
   "cell_type": "code",
   "id": "initial_id",
   "metadata": {
    "collapsed": true,
    "ExecuteTime": {
     "end_time": "2024-07-09T12:45:02.443924Z",
     "start_time": "2024-07-09T12:45:02.103022Z"
    }
   },
   "source": [
    "from src.Sequence import *\n",
    "from src.TaSTSPM import *\n",
    "import time"
   ],
   "outputs": [],
   "execution_count": 1
  },
  {
   "metadata": {},
   "cell_type": "markdown",
   "source": "## Experiments for Boston",
   "id": "e1f302b3ce64ba62"
  },
  {
   "metadata": {
    "ExecuteTime": {
     "end_time": "2024-07-09T12:45:03.215602Z",
     "start_time": "2024-07-09T12:45:02.445062Z"
    }
   },
   "cell_type": "code",
   "source": [
    "D_boston = Dataset('../data/crimes_Boston.csv')\n",
    "D_boston.dataset_dict.keys()"
   ],
   "id": "b666d64934046cde",
   "outputs": [
    {
     "name": "stdout",
     "output_type": "stream",
     "text": [
      "Loading data from ../data/crimes_Boston.csv\n",
      "Data read successfully: 40544 rows\n"
     ]
    },
    {
     "data": {
      "text/plain": [
       "dict_keys(['AUTO_THEFT', 'SIMPLE_ASSAULT', 'OTHER_LARCENY', 'WEAPONS_CHARGE', 'VANDALISM', 'VIOLATION_OF_LIQUOR_LAWS', 'RESIDENTIAL_BURGLARY', 'AGGRAVATED_ASSAULT', 'LARCENY_FROM_MOTOR_VEHICLE', 'DISORDERLY', 'OTHER', 'DRUG_CHARGES', 'TOWED', 'OPERATING_UNDER_INFLUENCE', 'FIRE', 'EMBEZELLMENT', 'ROBBERY', 'Harass', 'COMMERCIAL_BURGLARY', 'Bomb', 'CRIMES_AGAINST_CHILDREN', 'FORGERY', 'HOMICIDE', 'ARSON', 'GAMBLING_OFFENSE', 'Manslaug'])"
      ]
     },
     "execution_count": 2,
     "metadata": {},
     "output_type": "execute_result"
    }
   ],
   "execution_count": 2
  },
  {
   "metadata": {
    "ExecuteTime": {
     "end_time": "2024-07-09T08:56:51.740696Z",
     "start_time": "2024-07-09T08:53:09.324640Z"
    }
   },
   "cell_type": "code",
   "source": [
    "R = 100\n",
    "T = 4320\n",
    "D_boston.dataset_dict.keys()\n",
    "stq = [Sequence(event_types=['ROBBERY']), Sequence(event_types=['AUTO_THEFT'])]\n",
    "TaSTSPs= tastsp_algorithm(D_boston, D_boston.dataset_dict.keys(), R, T, 0.01, stq, distance_type = 'Earth', verbose = 1)\n",
    "for s in TaSTSPs:\n",
    "    print(s)"
   ],
   "id": "4211b2697faa9cda",
   "outputs": [
    {
     "name": "stdout",
     "output_type": "stream",
     "text": [
      "Starting TaSTSP Algorithm\n",
      "Parameters: R=100, T=4320, theta=0.01, distance_type=Earth\n",
      "Number of sequences in stq: 2\n",
      "Forward extension completed\n",
      "TaSTSPs found: 20\n",
      "RESIDENTIAL_BURGLARY -> ROBBERY -> AUTO_THEFT, PI: 0.013290559120073327\n",
      "VANDALISM -> ROBBERY -> AUTO_THEFT, PI: 0.014681506038361354\n",
      "VANDALISM -> ROBBERY -> AUTO_THEFT -> Bomb, PI: 0.013333333333333334\n",
      "LARCENY_FROM_MOTOR_VEHICLE -> ROBBERY -> AUTO_THEFT -> Bomb, PI: 0.013333333333333334\n",
      "SIMPLE_ASSAULT -> ROBBERY -> AUTO_THEFT, PI: 0.013905176746523706\n",
      "OTHER_LARCENY -> ROBBERY -> AUTO_THEFT, PI: 0.014347369648897702\n",
      "SIMPLE_ASSAULT -> ROBBERY -> AUTO_THEFT -> Bomb, PI: 0.013333333333333334\n",
      "DRUG_CHARGES -> ROBBERY -> AUTO_THEFT, PI: 0.018138424821002388\n",
      "OTHER_LARCENY -> ROBBERY -> AUTO_THEFT -> Bomb, PI: 0.013333333333333334\n",
      "TOWED -> ROBBERY -> AUTO_THEFT -> Bomb, PI: 0.013333333333333334\n",
      "AGGRAVATED_ASSAULT -> ROBBERY -> AUTO_THEFT, PI: 0.0175054704595186\n",
      "TOWED -> ROBBERY -> AUTO_THEFT, PI: 0.016\n",
      "ROBBERY -> AUTO_THEFT -> Bomb, PI: 0.013333333333333334\n",
      "LARCENY_FROM_MOTOR_VEHICLE -> ROBBERY -> AUTO_THEFT, PI: 0.014986705342035292\n",
      "ROBBERY -> ROBBERY -> AUTO_THEFT, PI: 0.014429109159347553\n",
      "RESIDENTIAL_BURGLARY -> ROBBERY -> AUTO_THEFT -> Bomb, PI: 0.013290559120073327\n",
      "DRUG_CHARGES -> ROBBERY -> AUTO_THEFT -> Bomb, PI: 0.013333333333333334\n",
      "ROBBERY -> AUTO_THEFT, PI: 1\n",
      "AGGRAVATED_ASSAULT -> ROBBERY -> AUTO_THEFT -> Bomb, PI: 0.013333333333333334\n",
      "ROBBERY -> ROBBERY -> AUTO_THEFT -> Bomb, PI: 0.013333333333333334\n"
     ]
    }
   ],
   "execution_count": 3
  },
  {
   "metadata": {
    "ExecuteTime": {
     "end_time": "2024-07-09T08:58:42.293684Z",
     "start_time": "2024-07-09T08:56:51.741751Z"
    }
   },
   "cell_type": "code",
   "source": [
    "R = 50\n",
    "T = 4320\n",
    "D_boston.dataset_dict.keys()\n",
    "stq = [Sequence(event_types=['ROBBERY']), Sequence(event_types=['AUTO_THEFT'])]\n",
    "TaSTSPs= tastsp_algorithm(D_boston, D_boston.dataset_dict.keys(), R, T, 0.01, stq, distance_type = 'Earth', verbose = 1)\n",
    "for s in TaSTSPs:\n",
    "    print(s)"
   ],
   "id": "a2286f884f774cc7",
   "outputs": [
    {
     "name": "stdout",
     "output_type": "stream",
     "text": [
      "Starting TaSTSP Algorithm\n",
      "Parameters: R=50, T=4320, theta=0.01, distance_type=Earth\n",
      "Number of sequences in stq: 2\n",
      "Forward extension completed\n",
      "TaSTSPs found: 1\n",
      "ROBBERY -> AUTO_THEFT, PI: 1\n"
     ]
    }
   ],
   "execution_count": 4
  },
  {
   "metadata": {
    "ExecuteTime": {
     "end_time": "2024-07-09T08:58:42.297611Z",
     "start_time": "2024-07-09T08:58:42.294861Z"
    }
   },
   "cell_type": "code",
   "source": [
    "print(len(D_boston['ROBBERY']))\n",
    "print(len(D_boston['AUTO_THEFT']))\n",
    "print(len(D_boston['VANDALISM']))"
   ],
   "id": "d177d4a238695557",
   "outputs": [
    {
     "name": "stdout",
     "output_type": "stream",
     "text": [
      "1594\n",
      "1579\n",
      "4223\n"
     ]
    }
   ],
   "execution_count": 5
  },
  {
   "metadata": {
    "ExecuteTime": {
     "end_time": "2024-07-09T09:02:58.831156Z",
     "start_time": "2024-07-09T08:58:42.298981Z"
    }
   },
   "cell_type": "code",
   "source": [
    "R = 200\n",
    "T = 2880\n",
    "D_boston.dataset_dict.keys()\n",
    "stq = [Sequence(event_types=['DRUG_CHARGES','HOMICIDE'])]\n",
    "TaSTSPs= tastsp_algorithm(D_boston, D_boston.dataset_dict.keys(), R, T, 0.01, stq, distance_type = 'Earth', verbose = 2)\n",
    "for s in TaSTSPs:\n",
    "    print(s)"
   ],
   "id": "816471c153952883",
   "outputs": [
    {
     "name": "stdout",
     "output_type": "stream",
     "text": [
      "Starting TaSTSP Algorithm\n",
      "Parameters: R=200, T=2880, theta=0.01, distance_type=Earth\n",
      "Number of sequences in stq: 1\n",
      "Calculating I and PI for sequence 0\n",
      "Extending forward: Sequence=DRUG_CHARGES -> HOMICIDE, Index=1\n",
      "Forward extension completed\n",
      "Extending backward: Sequence=DRUG_CHARGES -> HOMICIDE\n",
      "Extending backward: Sequence=AUTO_THEFT -> DRUG_CHARGES -> HOMICIDE\n",
      "Extending backward: Sequence=SIMPLE_ASSAULT -> DRUG_CHARGES -> HOMICIDE\n",
      "Extending backward: Sequence=SIMPLE_ASSAULT -> SIMPLE_ASSAULT -> DRUG_CHARGES -> HOMICIDE\n",
      "Extending backward: Sequence=OTHER_LARCENY -> SIMPLE_ASSAULT -> DRUG_CHARGES -> HOMICIDE\n",
      "Extending backward: Sequence=OTHER_LARCENY -> DRUG_CHARGES -> HOMICIDE\n",
      "Extending backward: Sequence=SIMPLE_ASSAULT -> OTHER_LARCENY -> DRUG_CHARGES -> HOMICIDE\n",
      "Extending backward: Sequence=OTHER_LARCENY -> OTHER_LARCENY -> DRUG_CHARGES -> HOMICIDE\n",
      "Extending backward: Sequence=VANDALISM -> DRUG_CHARGES -> HOMICIDE\n",
      "Extending backward: Sequence=RESIDENTIAL_BURGLARY -> DRUG_CHARGES -> HOMICIDE\n",
      "Extending backward: Sequence=AGGRAVATED_ASSAULT -> DRUG_CHARGES -> HOMICIDE\n",
      "Extending backward: Sequence=LARCENY_FROM_MOTOR_VEHICLE -> DRUG_CHARGES -> HOMICIDE\n",
      "Extending backward: Sequence=OTHER -> DRUG_CHARGES -> HOMICIDE\n",
      "Extending backward: Sequence=DRUG_CHARGES -> DRUG_CHARGES -> HOMICIDE\n",
      "Extending backward: Sequence=TOWED -> DRUG_CHARGES -> HOMICIDE\n",
      "Extending backward: Sequence=ROBBERY -> DRUG_CHARGES -> HOMICIDE\n",
      "TaSTSPs found: 16\n",
      "AUTO_THEFT -> DRUG_CHARGES -> HOMICIDE, PI: 0.023627684964200476\n",
      "SIMPLE_ASSAULT -> SIMPLE_ASSAULT -> DRUG_CHARGES -> HOMICIDE, PI: 0.010554531747361368\n",
      "DRUG_CHARGES -> HOMICIDE, PI: 0.0784313725490196\n",
      "OTHER_LARCENY -> SIMPLE_ASSAULT -> DRUG_CHARGES -> HOMICIDE, PI: 0.012947626268517438\n",
      "SIMPLE_ASSAULT -> OTHER_LARCENY -> DRUG_CHARGES -> HOMICIDE, PI: 0.010264784789455266\n",
      "OTHER_LARCENY -> DRUG_CHARGES -> HOMICIDE, PI: 0.06683774641315758\n",
      "OTHER -> DRUG_CHARGES -> HOMICIDE, PI: 0.01217183770883055\n",
      "AGGRAVATED_ASSAULT -> DRUG_CHARGES -> HOMICIDE, PI: 0.034606205250596656\n",
      "SIMPLE_ASSAULT -> DRUG_CHARGES -> HOMICIDE, PI: 0.06701289998324678\n",
      "LARCENY_FROM_MOTOR_VEHICLE -> DRUG_CHARGES -> HOMICIDE, PI: 0.06300715990453461\n",
      "OTHER_LARCENY -> OTHER_LARCENY -> DRUG_CHARGES -> HOMICIDE, PI: 0.013064271550215794\n",
      "TOWED -> DRUG_CHARGES -> HOMICIDE, PI: 0.037708830548926014\n",
      "DRUG_CHARGES -> DRUG_CHARGES -> HOMICIDE, PI: 0.06730310262529833\n",
      "ROBBERY -> DRUG_CHARGES -> HOMICIDE, PI: 0.023627684964200476\n",
      "RESIDENTIAL_BURGLARY -> DRUG_CHARGES -> HOMICIDE, PI: 0.03794749403341289\n",
      "VANDALISM -> DRUG_CHARGES -> HOMICIDE, PI: 0.0641723892967085\n"
     ]
    }
   ],
   "execution_count": 6
  },
  {
   "metadata": {
    "ExecuteTime": {
     "end_time": "2024-07-09T09:02:58.836592Z",
     "start_time": "2024-07-09T09:02:58.832555Z"
    }
   },
   "cell_type": "code",
   "source": [
    "print(len(D_boston['DRUG_CHARGES']))\n",
    "print(len(D_boston['HOMICIDE']))"
   ],
   "id": "66f6797e669e55f7",
   "outputs": [
    {
     "name": "stdout",
     "output_type": "stream",
     "text": [
      "4190\n",
      "51\n"
     ]
    }
   ],
   "execution_count": 7
  },
  {
   "metadata": {
    "ExecuteTime": {
     "end_time": "2024-07-09T09:28:23.501665Z",
     "start_time": "2024-07-09T09:02:58.838760Z"
    }
   },
   "cell_type": "code",
   "source": [
    "\n",
    "R = 200\n",
    "T = 2880\n",
    "D_boston.dataset_dict.keys()\n",
    "stq = [Sequence(event_types=['DRUG_CHARGES']), Sequence(event_types=['HOMICIDE'])]\n",
    "TaSTSPs = tastsp_algorithm(D_boston, D_boston.dataset_dict.keys(), R, T, 0.01, stq, distance_type='Earth', verbose=1)\n",
    "for s in TaSTSPs:\n",
    "    print(s)"
   ],
   "id": "a0c5ac9fba54d162",
   "outputs": [
    {
     "name": "stdout",
     "output_type": "stream",
     "text": [
      "Starting TaSTSP Algorithm\n",
      "Parameters: R=200, T=2880, theta=0.01, distance_type=Earth\n",
      "Number of sequences in stq: 2\n",
      "Forward extension completed\n",
      "TaSTSPs found: 80\n",
      "AUTO_THEFT -> DRUG_CHARGES -> HOMICIDE, PI: 0.023627684964200476\n",
      "DRUG_CHARGES -> HOMICIDE, PI: 1\n",
      "AGGRAVATED_ASSAULT -> DRUG_CHARGES -> VANDALISM -> HOMICIDE, PI: 0.0196078431372549\n",
      "SIMPLE_ASSAULT -> DRUG_CHARGES -> OTHER_LARCENY -> TOWED -> HOMICIDE, PI: 0.019555555555555555\n",
      "TOWED -> DRUG_CHARGES -> OTHER_LARCENY -> TOWED -> HOMICIDE, PI: 0.019555555555555555\n",
      "SIMPLE_ASSAULT -> SIMPLE_ASSAULT -> DRUG_CHARGES -> SIMPLE_ASSAULT -> LARCENY_FROM_MOTOR_VEHICLE -> HOMICIDE, PI: 0.010554531747361368\n",
      "SIMPLE_ASSAULT -> DRUG_CHARGES -> HOMICIDE, PI: 0.06701289998324678\n",
      "SIMPLE_ASSAULT -> SIMPLE_ASSAULT -> DRUG_CHARGES -> OTHER_LARCENY -> TOWED -> HOMICIDE, PI: 0.010554531747361368\n",
      "AGGRAVATED_ASSAULT -> DRUG_CHARGES -> SIMPLE_ASSAULT -> LARCENY_FROM_MOTOR_VEHICLE -> HOMICIDE, PI: 0.012569494802997341\n",
      "AGGRAVATED_ASSAULT -> DRUG_CHARGES -> SIMPLE_ASSAULT -> VANDALISM -> HOMICIDE, PI: 0.011366327255505565\n",
      "TOWED -> DRUG_CHARGES -> SIMPLE_ASSAULT -> VANDALISM -> HOMICIDE, PI: 0.011366327255505565\n",
      "DRUG_CHARGES -> OTHER_LARCENY -> TOWED -> HOMICIDE, PI: 1\n",
      "OTHER_LARCENY -> DRUG_CHARGES -> OTHER_LARCENY -> TOWED -> HOMICIDE, PI: 0.019555555555555555\n",
      "OTHER_LARCENY -> DRUG_CHARGES -> VANDALISM -> HOMICIDE, PI: 0.0196078431372549\n",
      "SIMPLE_ASSAULT -> OTHER_LARCENY -> DRUG_CHARGES -> OTHER_LARCENY -> TOWED -> HOMICIDE, PI: 0.010264784789455266\n",
      "ROBBERY -> DRUG_CHARGES -> SIMPLE_ASSAULT -> VANDALISM -> HOMICIDE, PI: 0.011366327255505565\n",
      "VANDALISM -> DRUG_CHARGES -> OTHER_LARCENY -> TOWED -> HOMICIDE, PI: 0.019555555555555555\n",
      "SIMPLE_ASSAULT -> OTHER_LARCENY -> DRUG_CHARGES -> SIMPLE_ASSAULT -> LARCENY_FROM_MOTOR_VEHICLE -> HOMICIDE, PI: 0.010264784789455266\n",
      "ROBBERY -> DRUG_CHARGES -> SIMPLE_ASSAULT -> LARCENY_FROM_MOTOR_VEHICLE -> HOMICIDE, PI: 0.012569494802997341\n",
      "OTHER -> DRUG_CHARGES -> OTHER_LARCENY -> TOWED -> HOMICIDE, PI: 0.01217183770883055\n",
      "DRUG_CHARGES -> DRUG_CHARGES -> VANDALISM -> HOMICIDE, PI: 0.0196078431372549\n",
      "AUTO_THEFT -> DRUG_CHARGES -> OTHER_LARCENY -> TOWED -> HOMICIDE, PI: 0.019555555555555555\n",
      "OTHER -> DRUG_CHARGES -> SIMPLE_ASSAULT -> LARCENY_FROM_MOTOR_VEHICLE -> HOMICIDE, PI: 0.01217183770883055\n",
      "LARCENY_FROM_MOTOR_VEHICLE -> DRUG_CHARGES -> OTHER_LARCENY -> TOWED -> HOMICIDE, PI: 0.019555555555555555\n",
      "AUTO_THEFT -> DRUG_CHARGES -> SIMPLE_ASSAULT -> VANDALISM -> HOMICIDE, PI: 0.011366327255505565\n",
      "AUTO_THEFT -> DRUG_CHARGES -> SIMPLE_ASSAULT -> LARCENY_FROM_MOTOR_VEHICLE -> HOMICIDE, PI: 0.012569494802997341\n",
      "VANDALISM -> DRUG_CHARGES -> VANDALISM -> HOMICIDE, PI: 0.0196078431372549\n",
      "AGGRAVATED_ASSAULT -> DRUG_CHARGES -> OTHER_LARCENY -> TOWED -> HOMICIDE, PI: 0.019555555555555555\n",
      "OTHER -> DRUG_CHARGES -> HOMICIDE, PI: 0.01217183770883055\n",
      "OTHER_LARCENY -> SIMPLE_ASSAULT -> DRUG_CHARGES -> SIMPLE_ASSAULT -> VANDALISM -> HOMICIDE, PI: 0.011366327255505565\n",
      "OTHER -> DRUG_CHARGES -> SIMPLE_ASSAULT -> VANDALISM -> HOMICIDE, PI: 0.011366327255505565\n",
      "LARCENY_FROM_MOTOR_VEHICLE -> DRUG_CHARGES -> SIMPLE_ASSAULT -> VANDALISM -> HOMICIDE, PI: 0.011366327255505565\n",
      "OTHER_LARCENY -> SIMPLE_ASSAULT -> DRUG_CHARGES -> SIMPLE_ASSAULT -> LARCENY_FROM_MOTOR_VEHICLE -> HOMICIDE, PI: 0.012569494802997341\n",
      "OTHER_LARCENY -> OTHER_LARCENY -> DRUG_CHARGES -> OTHER_LARCENY -> TOWED -> HOMICIDE, PI: 0.013064271550215794\n",
      "DRUG_CHARGES -> DRUG_CHARGES -> HOMICIDE, PI: 0.06730310262529833\n",
      "ROBBERY -> DRUG_CHARGES -> HOMICIDE, PI: 0.023627684964200476\n",
      "DRUG_CHARGES -> SIMPLE_ASSAULT -> VANDALISM -> HOMICIDE, PI: 1\n",
      "DRUG_CHARGES -> DRUG_CHARGES -> SIMPLE_ASSAULT -> VANDALISM -> HOMICIDE, PI: 0.011366327255505565\n",
      "LARCENY_FROM_MOTOR_VEHICLE -> DRUG_CHARGES -> SIMPLE_ASSAULT -> LARCENY_FROM_MOTOR_VEHICLE -> HOMICIDE, PI: 0.012569494802997341\n",
      "DRUG_CHARGES -> SIMPLE_ASSAULT -> LARCENY_FROM_MOTOR_VEHICLE -> HOMICIDE, PI: 1\n",
      "TOWED -> DRUG_CHARGES -> VANDALISM -> HOMICIDE, PI: 0.0196078431372549\n",
      "DRUG_CHARGES -> DRUG_CHARGES -> SIMPLE_ASSAULT -> LARCENY_FROM_MOTOR_VEHICLE -> HOMICIDE, PI: 0.012569494802997341\n",
      "OTHER_LARCENY -> DRUG_CHARGES -> SIMPLE_ASSAULT -> VANDALISM -> HOMICIDE, PI: 0.011366327255505565\n",
      "AUTO_THEFT -> DRUG_CHARGES -> VANDALISM -> HOMICIDE, PI: 0.0196078431372549\n",
      "OTHER_LARCENY -> DRUG_CHARGES -> SIMPLE_ASSAULT -> LARCENY_FROM_MOTOR_VEHICLE -> HOMICIDE, PI: 0.012569494802997341\n",
      "SIMPLE_ASSAULT -> SIMPLE_ASSAULT -> DRUG_CHARGES -> HOMICIDE, PI: 0.010554531747361368\n",
      "OTHER_LARCENY -> OTHER_LARCENY -> DRUG_CHARGES -> SIMPLE_ASSAULT -> VANDALISM -> HOMICIDE, PI: 0.011366327255505565\n",
      "OTHER_LARCENY -> SIMPLE_ASSAULT -> DRUG_CHARGES -> HOMICIDE, PI: 0.012947626268517438\n",
      "SIMPLE_ASSAULT -> SIMPLE_ASSAULT -> DRUG_CHARGES -> SIMPLE_ASSAULT -> VANDALISM -> HOMICIDE, PI: 0.010554531747361368\n",
      "OTHER_LARCENY -> OTHER_LARCENY -> DRUG_CHARGES -> SIMPLE_ASSAULT -> LARCENY_FROM_MOTOR_VEHICLE -> HOMICIDE, PI: 0.012569494802997341\n",
      "OTHER -> DRUG_CHARGES -> VANDALISM -> HOMICIDE, PI: 0.01217183770883055\n",
      "RESIDENTIAL_BURGLARY -> DRUG_CHARGES -> OTHER_LARCENY -> TOWED -> HOMICIDE, PI: 0.019555555555555555\n",
      "OTHER_LARCENY -> DRUG_CHARGES -> HOMICIDE, PI: 0.06683774641315758\n",
      "OTHER_LARCENY -> OTHER_LARCENY -> DRUG_CHARGES -> HOMICIDE, PI: 0.013064271550215794\n",
      "TOWED -> DRUG_CHARGES -> HOMICIDE, PI: 0.037708830548926014\n",
      "ROBBERY -> DRUG_CHARGES -> OTHER_LARCENY -> TOWED -> HOMICIDE, PI: 0.019555555555555555\n",
      "SIMPLE_ASSAULT -> DRUG_CHARGES -> SIMPLE_ASSAULT -> VANDALISM -> HOMICIDE, PI: 0.011366327255505565\n",
      "SIMPLE_ASSAULT -> SIMPLE_ASSAULT -> DRUG_CHARGES -> VANDALISM -> HOMICIDE, PI: 0.010554531747361368\n",
      "SIMPLE_ASSAULT -> OTHER_LARCENY -> DRUG_CHARGES -> VANDALISM -> HOMICIDE, PI: 0.010264784789455266\n",
      "SIMPLE_ASSAULT -> DRUG_CHARGES -> SIMPLE_ASSAULT -> LARCENY_FROM_MOTOR_VEHICLE -> HOMICIDE, PI: 0.012569494802997341\n",
      "TOWED -> DRUG_CHARGES -> SIMPLE_ASSAULT -> LARCENY_FROM_MOTOR_VEHICLE -> HOMICIDE, PI: 0.012569494802997341\n",
      "RESIDENTIAL_BURGLARY -> DRUG_CHARGES -> VANDALISM -> HOMICIDE, PI: 0.0196078431372549\n",
      "SIMPLE_ASSAULT -> OTHER_LARCENY -> DRUG_CHARGES -> SIMPLE_ASSAULT -> VANDALISM -> HOMICIDE, PI: 0.010264784789455266\n",
      "OTHER_LARCENY -> SIMPLE_ASSAULT -> DRUG_CHARGES -> OTHER_LARCENY -> TOWED -> HOMICIDE, PI: 0.012947626268517438\n",
      "ROBBERY -> DRUG_CHARGES -> VANDALISM -> HOMICIDE, PI: 0.0196078431372549\n",
      "SIMPLE_ASSAULT -> OTHER_LARCENY -> DRUG_CHARGES -> HOMICIDE, PI: 0.010264784789455266\n",
      "RESIDENTIAL_BURGLARY -> DRUG_CHARGES -> SIMPLE_ASSAULT -> VANDALISM -> HOMICIDE, PI: 0.011366327255505565\n",
      "DRUG_CHARGES -> DRUG_CHARGES -> OTHER_LARCENY -> TOWED -> HOMICIDE, PI: 0.019555555555555555\n",
      "RESIDENTIAL_BURGLARY -> DRUG_CHARGES -> SIMPLE_ASSAULT -> LARCENY_FROM_MOTOR_VEHICLE -> HOMICIDE, PI: 0.012569494802997341\n",
      "LARCENY_FROM_MOTOR_VEHICLE -> DRUG_CHARGES -> VANDALISM -> HOMICIDE, PI: 0.0196078431372549\n",
      "AGGRAVATED_ASSAULT -> DRUG_CHARGES -> HOMICIDE, PI: 0.034606205250596656\n",
      "LARCENY_FROM_MOTOR_VEHICLE -> DRUG_CHARGES -> HOMICIDE, PI: 0.06300715990453461\n",
      "VANDALISM -> DRUG_CHARGES -> SIMPLE_ASSAULT -> VANDALISM -> HOMICIDE, PI: 0.011366327255505565\n",
      "SIMPLE_ASSAULT -> DRUG_CHARGES -> VANDALISM -> HOMICIDE, PI: 0.0196078431372549\n",
      "VANDALISM -> DRUG_CHARGES -> SIMPLE_ASSAULT -> LARCENY_FROM_MOTOR_VEHICLE -> HOMICIDE, PI: 0.012569494802997341\n",
      "RESIDENTIAL_BURGLARY -> DRUG_CHARGES -> HOMICIDE, PI: 0.03794749403341289\n",
      "VANDALISM -> DRUG_CHARGES -> HOMICIDE, PI: 0.0641723892967085\n",
      "OTHER_LARCENY -> SIMPLE_ASSAULT -> DRUG_CHARGES -> VANDALISM -> HOMICIDE, PI: 0.012947626268517438\n",
      "DRUG_CHARGES -> VANDALISM -> HOMICIDE, PI: 1\n",
      "OTHER_LARCENY -> OTHER_LARCENY -> DRUG_CHARGES -> VANDALISM -> HOMICIDE, PI: 0.013064271550215794\n"
     ]
    }
   ],
   "execution_count": 8
  },
  {
   "metadata": {
    "ExecuteTime": {
     "end_time": "2024-07-09T09:30:52.918886Z",
     "start_time": "2024-07-09T09:28:23.503878Z"
    }
   },
   "cell_type": "code",
   "source": [
    "R = 100\n",
    "T = 4320\n",
    "D_boston.dataset_dict.keys()\n",
    "stq = [Sequence(event_types=['ROBBERY','AUTO_THEFT'])]\n",
    "TaSTSPs= tastsp_algorithm(D_boston, D_boston.dataset_dict.keys(), R, T, 0.01, stq, distance_type = 'Earth', verbose = 1)\n",
    "for s in TaSTSPs:\n",
    "    print(s)"
   ],
   "id": "b394b8aa4b7343c",
   "outputs": [
    {
     "name": "stdout",
     "output_type": "stream",
     "text": [
      "Starting TaSTSP Algorithm\n",
      "Parameters: R=100, T=4320, theta=0.01, distance_type=Earth\n",
      "Number of sequences in stq: 1\n",
      "Forward extension completed\n",
      "TaSTSPs found: 20\n",
      "RESIDENTIAL_BURGLARY -> ROBBERY -> AUTO_THEFT, PI: 0.013290559120073327\n",
      "VANDALISM -> ROBBERY -> AUTO_THEFT, PI: 0.014681506038361354\n",
      "VANDALISM -> ROBBERY -> AUTO_THEFT -> Bomb, PI: 0.013333333333333334\n",
      "LARCENY_FROM_MOTOR_VEHICLE -> ROBBERY -> AUTO_THEFT -> Bomb, PI: 0.013333333333333334\n",
      "SIMPLE_ASSAULT -> ROBBERY -> AUTO_THEFT, PI: 0.013905176746523706\n",
      "OTHER_LARCENY -> ROBBERY -> AUTO_THEFT, PI: 0.014347369648897702\n",
      "SIMPLE_ASSAULT -> ROBBERY -> AUTO_THEFT -> Bomb, PI: 0.013333333333333334\n",
      "DRUG_CHARGES -> ROBBERY -> AUTO_THEFT, PI: 0.018138424821002388\n",
      "OTHER_LARCENY -> ROBBERY -> AUTO_THEFT -> Bomb, PI: 0.013333333333333334\n",
      "TOWED -> ROBBERY -> AUTO_THEFT -> Bomb, PI: 0.013333333333333334\n",
      "AGGRAVATED_ASSAULT -> ROBBERY -> AUTO_THEFT, PI: 0.0175054704595186\n",
      "TOWED -> ROBBERY -> AUTO_THEFT, PI: 0.016\n",
      "ROBBERY -> AUTO_THEFT -> Bomb, PI: 0.013333333333333334\n",
      "LARCENY_FROM_MOTOR_VEHICLE -> ROBBERY -> AUTO_THEFT, PI: 0.014986705342035292\n",
      "ROBBERY -> ROBBERY -> AUTO_THEFT, PI: 0.014429109159347553\n",
      "RESIDENTIAL_BURGLARY -> ROBBERY -> AUTO_THEFT -> Bomb, PI: 0.013290559120073327\n",
      "DRUG_CHARGES -> ROBBERY -> AUTO_THEFT -> Bomb, PI: 0.013333333333333334\n",
      "ROBBERY -> AUTO_THEFT, PI: 0.02089930335655478\n",
      "AGGRAVATED_ASSAULT -> ROBBERY -> AUTO_THEFT -> Bomb, PI: 0.013333333333333334\n",
      "ROBBERY -> ROBBERY -> AUTO_THEFT -> Bomb, PI: 0.013333333333333334\n"
     ]
    }
   ],
   "execution_count": 9
  },
  {
   "metadata": {
    "ExecuteTime": {
     "end_time": "2024-07-09T12:51:29.800130Z",
     "start_time": "2024-07-09T12:45:10.517098Z"
    }
   },
   "cell_type": "code",
   "source": [
    "R = 100\n",
    "T = 4320\n",
    "D_boston.dataset_dict.keys()\n",
    "stq = [Sequence(event_types=['ROBBERY']), Sequence(event_types=['AUTO_THEFT'])]\n",
    "TaSTSPs= tastsp_algorithm(D_boston, D_boston.dataset_dict.keys(), R, T, 0.01, stq, distance_type = 'Earth', verbose = 0)\n",
    "for s in TaSTSPs:\n",
    "    print(s)\n",
    "\n",
    "R = 100\n",
    "T = 4320\n",
    "D_boston.dataset_dict.keys()\n",
    "stq = [Sequence(event_types=['ROBBERY','AUTO_THEFT'])]\n",
    "TaSTSPs= tastsp_algorithm(D_boston, D_boston.dataset_dict.keys(), R, T, 0.01, stq, distance_type = 'Earth', verbose = 0)\n",
    "for s in TaSTSPs:\n",
    "    print(s)"
   ],
   "id": "be4319a7557501a8",
   "outputs": [
    {
     "name": "stdout",
     "output_type": "stream",
     "text": [
      "OTHER_LARCENY -> ROBBERY -> AUTO_THEFT -> Bomb, PI: 0.013333333333333334\n",
      "ROBBERY -> ROBBERY -> AUTO_THEFT, PI: 0.014429109159347553\n",
      "ROBBERY -> AUTO_THEFT -> Bomb, PI: 0.013333333333333334\n",
      "DRUG_CHARGES -> ROBBERY -> AUTO_THEFT, PI: 0.018138424821002388\n",
      "ROBBERY -> AUTO_THEFT, PI: 0.02089930335655478\n",
      "DRUG_CHARGES -> ROBBERY -> AUTO_THEFT -> Bomb, PI: 0.013333333333333334\n",
      "SIMPLE_ASSAULT -> ROBBERY -> AUTO_THEFT -> Bomb, PI: 0.013333333333333334\n",
      "ROBBERY -> ROBBERY -> AUTO_THEFT -> Bomb, PI: 0.013333333333333334\n",
      "SIMPLE_ASSAULT -> ROBBERY -> AUTO_THEFT, PI: 0.013905176746523706\n",
      "RESIDENTIAL_BURGLARY -> ROBBERY -> AUTO_THEFT, PI: 0.013290559120073327\n",
      "AGGRAVATED_ASSAULT -> ROBBERY -> AUTO_THEFT -> Bomb, PI: 0.013333333333333334\n",
      "OTHER_LARCENY -> ROBBERY -> AUTO_THEFT, PI: 0.014347369648897702\n",
      "RESIDENTIAL_BURGLARY -> ROBBERY -> AUTO_THEFT -> Bomb, PI: 0.013290559120073327\n",
      "TOWED -> ROBBERY -> AUTO_THEFT, PI: 0.016\n",
      "LARCENY_FROM_MOTOR_VEHICLE -> ROBBERY -> AUTO_THEFT -> Bomb, PI: 0.013333333333333334\n",
      "VANDALISM -> ROBBERY -> AUTO_THEFT -> Bomb, PI: 0.013333333333333334\n",
      "VANDALISM -> ROBBERY -> AUTO_THEFT, PI: 0.014681506038361354\n",
      "TOWED -> ROBBERY -> AUTO_THEFT -> Bomb, PI: 0.013333333333333334\n",
      "LARCENY_FROM_MOTOR_VEHICLE -> ROBBERY -> AUTO_THEFT, PI: 0.014986705342035292\n",
      "AGGRAVATED_ASSAULT -> ROBBERY -> AUTO_THEFT, PI: 0.0175054704595186\n",
      "OTHER_LARCENY -> ROBBERY -> AUTO_THEFT -> Bomb, PI: 0.013333333333333334\n",
      "ROBBERY -> ROBBERY -> AUTO_THEFT, PI: 0.014429109159347553\n",
      "ROBBERY -> AUTO_THEFT -> Bomb, PI: 0.013333333333333334\n",
      "DRUG_CHARGES -> ROBBERY -> AUTO_THEFT, PI: 0.018138424821002388\n",
      "ROBBERY -> AUTO_THEFT, PI: 0.02089930335655478\n",
      "DRUG_CHARGES -> ROBBERY -> AUTO_THEFT -> Bomb, PI: 0.013333333333333334\n",
      "SIMPLE_ASSAULT -> ROBBERY -> AUTO_THEFT -> Bomb, PI: 0.013333333333333334\n",
      "ROBBERY -> ROBBERY -> AUTO_THEFT -> Bomb, PI: 0.013333333333333334\n",
      "SIMPLE_ASSAULT -> ROBBERY -> AUTO_THEFT, PI: 0.013905176746523706\n",
      "RESIDENTIAL_BURGLARY -> ROBBERY -> AUTO_THEFT, PI: 0.013290559120073327\n",
      "AGGRAVATED_ASSAULT -> ROBBERY -> AUTO_THEFT -> Bomb, PI: 0.013333333333333334\n",
      "OTHER_LARCENY -> ROBBERY -> AUTO_THEFT, PI: 0.014347369648897702\n",
      "RESIDENTIAL_BURGLARY -> ROBBERY -> AUTO_THEFT -> Bomb, PI: 0.013290559120073327\n",
      "TOWED -> ROBBERY -> AUTO_THEFT, PI: 0.016\n",
      "LARCENY_FROM_MOTOR_VEHICLE -> ROBBERY -> AUTO_THEFT -> Bomb, PI: 0.013333333333333334\n",
      "VANDALISM -> ROBBERY -> AUTO_THEFT -> Bomb, PI: 0.013333333333333334\n",
      "VANDALISM -> ROBBERY -> AUTO_THEFT, PI: 0.014681506038361354\n",
      "TOWED -> ROBBERY -> AUTO_THEFT -> Bomb, PI: 0.013333333333333334\n",
      "LARCENY_FROM_MOTOR_VEHICLE -> ROBBERY -> AUTO_THEFT, PI: 0.014986705342035292\n",
      "AGGRAVATED_ASSAULT -> ROBBERY -> AUTO_THEFT, PI: 0.0175054704595186\n"
     ]
    }
   ],
   "execution_count": 3
  },
  {
   "metadata": {
    "ExecuteTime": {
     "end_time": "2024-07-09T12:41:35.408481Z",
     "start_time": "2024-07-09T12:39:40.862552Z"
    }
   },
   "cell_type": "code",
   "source": [
    "R = 100\n",
    "T = 4320\n",
    "D_boston.dataset_dict.keys()\n",
    "stq = [Sequence(event_types=['ROBBERY']), Sequence(event_types=['ROBBERY'])]\n",
    "TaSTSPs= tastsp_algorithm(D_boston, D_boston.dataset_dict.keys(), R, T, 0.01, stq, distance_type = 'Earth', verbose = 2)\n",
    "for s in TaSTSPs:\n",
    "    print(s)"
   ],
   "id": "ce3b1f4dbbcfa52d",
   "outputs": [
    {
     "name": "stdout",
     "output_type": "stream",
     "text": [
      "Starting TaSTSP Algorithm\n",
      "Parameters: R=100, T=4320, theta=0.01, distance_type=Earth\n",
      "Number of sequences in stq: 2\n",
      "Calculating I and PI for sequence 0\n",
      "Skipping sequence 1 as it is a subsequence of a previously tested sequence.\n",
      "Extending forward: Sequence=ROBBERY, Index=1\n",
      "Extending forward: Sequence=ROBBERY -> AUTO_THEFT, Index=1\n",
      "Extending forward: Sequence=ROBBERY -> AUTO_THEFT -> Bomb, Index=1\n",
      "Extending forward: Sequence=ROBBERY -> SIMPLE_ASSAULT, Index=1\n",
      "Extending forward: Sequence=ROBBERY -> OTHER_LARCENY, Index=1\n",
      "Extending forward: Sequence=ROBBERY -> WEAPONS_CHARGE, Index=1\n",
      "Extending forward: Sequence=ROBBERY -> VANDALISM, Index=1\n",
      "Extending forward: Sequence=ROBBERY -> VIOLATION_OF_LIQUOR_LAWS, Index=1\n",
      "Extending forward: Sequence=ROBBERY -> RESIDENTIAL_BURGLARY, Index=1\n",
      "Extending forward: Sequence=ROBBERY -> AGGRAVATED_ASSAULT, Index=1\n",
      "Extending forward: Sequence=ROBBERY -> LARCENY_FROM_MOTOR_VEHICLE, Index=1\n",
      "Extending forward: Sequence=ROBBERY -> LARCENY_FROM_MOTOR_VEHICLE -> Bomb, Index=1\n",
      "Extending forward: Sequence=ROBBERY -> DISORDERLY, Index=1\n",
      "Extending forward: Sequence=ROBBERY -> OTHER, Index=1\n",
      "Extending forward: Sequence=ROBBERY -> OTHER -> Bomb, Index=1\n",
      "Extending forward: Sequence=ROBBERY -> DRUG_CHARGES, Index=1\n",
      "Extending forward: Sequence=ROBBERY -> TOWED, Index=1\n",
      "Extending forward: Sequence=ROBBERY -> FIRE, Index=1\n",
      "Extending forward: Sequence=ROBBERY -> EMBEZELLMENT, Index=1\n",
      "ROBBERY_PI: 0.014429109159347553\n",
      "Actual len: 1594, and 1594\n",
      "Actual len: 23, and 1594\n",
      "S_double_star.PI:0.014429109159347553\n",
      "2\n",
      "Extending forward: Sequence=ROBBERY -> ROBBERY, Index=2\n",
      "Extending forward: Sequence=ROBBERY -> ROBBERY -> Bomb, Index=2\n",
      "Extending forward: Sequence=ROBBERY -> ROBBERY, Index=1\n",
      "Extending forward: Sequence=ROBBERY -> ROBBERY -> Bomb, Index=1\n",
      "Extending forward: Sequence=ROBBERY -> Harass, Index=1\n",
      "Extending forward: Sequence=ROBBERY -> Bomb, Index=1\n",
      "Extending forward: Sequence=ROBBERY -> CRIMES_AGAINST_CHILDREN, Index=1\n",
      "Extending forward: Sequence=ROBBERY -> FORGERY, Index=1\n",
      "Forward extension completed\n",
      "Extending backward: Sequence=ROBBERY -> ROBBERY\n",
      "Extending backward: Sequence=SIMPLE_ASSAULT -> ROBBERY -> ROBBERY\n",
      "Extending backward: Sequence=OTHER_LARCENY -> ROBBERY -> ROBBERY\n",
      "Extending backward: Sequence=VANDALISM -> ROBBERY -> ROBBERY\n"
     ]
    },
    {
     "ename": "KeyboardInterrupt",
     "evalue": "",
     "output_type": "error",
     "traceback": [
      "\u001B[0;31m---------------------------------------------------------------------------\u001B[0m",
      "\u001B[0;31mKeyboardInterrupt\u001B[0m                         Traceback (most recent call last)",
      "Cell \u001B[0;32mIn[3], line 5\u001B[0m\n\u001B[1;32m      3\u001B[0m D_boston\u001B[38;5;241m.\u001B[39mdataset_dict\u001B[38;5;241m.\u001B[39mkeys()\n\u001B[1;32m      4\u001B[0m stq \u001B[38;5;241m=\u001B[39m [Sequence(event_types\u001B[38;5;241m=\u001B[39m[\u001B[38;5;124m'\u001B[39m\u001B[38;5;124mROBBERY\u001B[39m\u001B[38;5;124m'\u001B[39m]), Sequence(event_types\u001B[38;5;241m=\u001B[39m[\u001B[38;5;124m'\u001B[39m\u001B[38;5;124mROBBERY\u001B[39m\u001B[38;5;124m'\u001B[39m])]\n\u001B[0;32m----> 5\u001B[0m TaSTSPs\u001B[38;5;241m=\u001B[39m \u001B[43mtastsp_algorithm\u001B[49m\u001B[43m(\u001B[49m\u001B[43mD_boston\u001B[49m\u001B[43m,\u001B[49m\u001B[43m \u001B[49m\u001B[43mD_boston\u001B[49m\u001B[38;5;241;43m.\u001B[39;49m\u001B[43mdataset_dict\u001B[49m\u001B[38;5;241;43m.\u001B[39;49m\u001B[43mkeys\u001B[49m\u001B[43m(\u001B[49m\u001B[43m)\u001B[49m\u001B[43m,\u001B[49m\u001B[43m \u001B[49m\u001B[43mR\u001B[49m\u001B[43m,\u001B[49m\u001B[43m \u001B[49m\u001B[43mT\u001B[49m\u001B[43m,\u001B[49m\u001B[43m \u001B[49m\u001B[38;5;241;43m0.01\u001B[39;49m\u001B[43m,\u001B[49m\u001B[43m \u001B[49m\u001B[43mstq\u001B[49m\u001B[43m,\u001B[49m\u001B[43m \u001B[49m\u001B[43mdistance_type\u001B[49m\u001B[43m \u001B[49m\u001B[38;5;241;43m=\u001B[39;49m\u001B[43m \u001B[49m\u001B[38;5;124;43m'\u001B[39;49m\u001B[38;5;124;43mEarth\u001B[39;49m\u001B[38;5;124;43m'\u001B[39;49m\u001B[43m,\u001B[49m\u001B[43m \u001B[49m\u001B[43mverbose\u001B[49m\u001B[43m \u001B[49m\u001B[38;5;241;43m=\u001B[39;49m\u001B[43m \u001B[49m\u001B[38;5;241;43m2\u001B[39;49m\u001B[43m)\u001B[49m\n\u001B[1;32m      6\u001B[0m \u001B[38;5;28;01mfor\u001B[39;00m s \u001B[38;5;129;01min\u001B[39;00m TaSTSPs:\n\u001B[1;32m      7\u001B[0m     \u001B[38;5;28mprint\u001B[39m(s)\n",
      "File \u001B[0;32m~/Praca/Nauka/publikacje/TaSTSPM/Folder/src/TaSTSPM.py:62\u001B[0m, in \u001B[0;36mtastsp_algorithm\u001B[0;34m(D, F, R, T, theta, stq, distance_type, verbose)\u001B[0m\n\u001B[1;32m     60\u001B[0m     \u001B[38;5;28;01mfor\u001B[39;00m s \u001B[38;5;129;01min\u001B[39;00m S:\n\u001B[1;32m     61\u001B[0m         S_E \u001B[38;5;241m=\u001B[39m \u001B[38;5;28mset\u001B[39m()\n\u001B[0;32m---> 62\u001B[0m         s_E \u001B[38;5;241m=\u001B[39m \u001B[43mextend_backward\u001B[49m\u001B[43m(\u001B[49m\u001B[43mS_E\u001B[49m\u001B[43m,\u001B[49m\u001B[43m \u001B[49m\u001B[43ms\u001B[49m\u001B[43m,\u001B[49m\u001B[43m \u001B[49m\u001B[43mD\u001B[49m\u001B[43m,\u001B[49m\u001B[43m \u001B[49m\u001B[43mF\u001B[49m\u001B[43m,\u001B[49m\u001B[43m \u001B[49m\u001B[43mR\u001B[49m\u001B[43m,\u001B[49m\u001B[43m \u001B[49m\u001B[43mT\u001B[49m\u001B[43m,\u001B[49m\u001B[43m \u001B[49m\u001B[43mtheta\u001B[49m\u001B[43m,\u001B[49m\u001B[43m \u001B[49m\u001B[43mverbose\u001B[49m\u001B[43m)\u001B[49m\n\u001B[1;32m     63\u001B[0m         TaSTSPs\u001B[38;5;241m.\u001B[39mupdate(s_E)\n\u001B[1;32m     65\u001B[0m \u001B[38;5;28;01mif\u001B[39;00m verbose \u001B[38;5;241m>\u001B[39m \u001B[38;5;241m0\u001B[39m:\n",
      "File \u001B[0;32m~/Praca/Nauka/publikacje/TaSTSPM/Folder/src/TaSTSPM.py:123\u001B[0m, in \u001B[0;36mextend_backward\u001B[0;34m(S_E, s1, D, F, R, T, theta, verbose)\u001B[0m\n\u001B[1;32m    121\u001B[0m s \u001B[38;5;241m=\u001B[39m s1\u001B[38;5;241m.\u001B[39mcopy()\n\u001B[1;32m    122\u001B[0m s\u001B[38;5;241m.\u001B[39madd_element_at_beginning(Element(f))\n\u001B[0;32m--> 123\u001B[0m \u001B[43ms\u001B[49m\u001B[38;5;241;43m.\u001B[39;49m\u001B[43mcalculate_I_backward\u001B[49m\u001B[43m(\u001B[49m\u001B[38;5;241;43m0\u001B[39;49m\u001B[43m,\u001B[49m\u001B[43m \u001B[49m\u001B[43mD\u001B[49m\u001B[43m,\u001B[49m\u001B[43m \u001B[49m\u001B[43mR\u001B[49m\u001B[43m,\u001B[49m\u001B[43m \u001B[49m\u001B[43mT\u001B[49m\u001B[43m)\u001B[49m\n\u001B[1;32m    124\u001B[0m s\u001B[38;5;241m.\u001B[39mrecalculate_I_and_PI(PR, \u001B[38;5;241m1\u001B[39m, D, R, T)\n\u001B[1;32m    125\u001B[0m \u001B[38;5;66;03m#s.PI = min(s1.PI, PR(s, 0, D), PR(s, 1, D))\u001B[39;00m\n",
      "File \u001B[0;32m~/Praca/Nauka/publikacje/TaSTSPM/Folder/src/Sequence.py:289\u001B[0m, in \u001B[0;36mSequence.calculate_I_backward\u001B[0;34m(self, index, D, R, T)\u001B[0m\n\u001B[1;32m    287\u001B[0m \u001B[38;5;28;01mdef\u001B[39;00m \u001B[38;5;21mcalculate_I_backward\u001B[39m(\u001B[38;5;28mself\u001B[39m, index, D, R, T):\n\u001B[1;32m    288\u001B[0m     \u001B[38;5;28mself\u001B[39m\u001B[38;5;241m.\u001B[39melements[index]\u001B[38;5;241m.\u001B[39mI \u001B[38;5;241m=\u001B[39m \u001B[38;5;28mset\u001B[39m()\n\u001B[0;32m--> 289\u001B[0m     neighborhoods \u001B[38;5;241m=\u001B[39m [\u001B[38;5;28mself\u001B[39m\u001B[38;5;241m.\u001B[39mcalculate_neighborhood_backward(event, index, D, R, T) \u001B[38;5;28;01mfor\u001B[39;00m event \u001B[38;5;129;01min\u001B[39;00m \u001B[38;5;28mself\u001B[39m\u001B[38;5;241m.\u001B[39melements[index \u001B[38;5;241m+\u001B[39m \u001B[38;5;241m1\u001B[39m]\u001B[38;5;241m.\u001B[39mI]\n\u001B[1;32m    290\u001B[0m     merged_neighborhood \u001B[38;5;241m=\u001B[39m \u001B[38;5;28mset\u001B[39m()\u001B[38;5;241m.\u001B[39munion(\u001B[38;5;241m*\u001B[39mneighborhoods)\n\u001B[1;32m    291\u001B[0m     \u001B[38;5;28mself\u001B[39m\u001B[38;5;241m.\u001B[39melements[index]\u001B[38;5;241m.\u001B[39mI \u001B[38;5;241m=\u001B[39m merged_neighborhood\n",
      "File \u001B[0;32m~/Praca/Nauka/publikacje/TaSTSPM/Folder/src/Sequence.py:289\u001B[0m, in \u001B[0;36m<listcomp>\u001B[0;34m(.0)\u001B[0m\n\u001B[1;32m    287\u001B[0m \u001B[38;5;28;01mdef\u001B[39;00m \u001B[38;5;21mcalculate_I_backward\u001B[39m(\u001B[38;5;28mself\u001B[39m, index, D, R, T):\n\u001B[1;32m    288\u001B[0m     \u001B[38;5;28mself\u001B[39m\u001B[38;5;241m.\u001B[39melements[index]\u001B[38;5;241m.\u001B[39mI \u001B[38;5;241m=\u001B[39m \u001B[38;5;28mset\u001B[39m()\n\u001B[0;32m--> 289\u001B[0m     neighborhoods \u001B[38;5;241m=\u001B[39m [\u001B[38;5;28;43mself\u001B[39;49m\u001B[38;5;241;43m.\u001B[39;49m\u001B[43mcalculate_neighborhood_backward\u001B[49m\u001B[43m(\u001B[49m\u001B[43mevent\u001B[49m\u001B[43m,\u001B[49m\u001B[43m \u001B[49m\u001B[43mindex\u001B[49m\u001B[43m,\u001B[49m\u001B[43m \u001B[49m\u001B[43mD\u001B[49m\u001B[43m,\u001B[49m\u001B[43m \u001B[49m\u001B[43mR\u001B[49m\u001B[43m,\u001B[49m\u001B[43m \u001B[49m\u001B[43mT\u001B[49m\u001B[43m)\u001B[49m \u001B[38;5;28;01mfor\u001B[39;00m event \u001B[38;5;129;01min\u001B[39;00m \u001B[38;5;28mself\u001B[39m\u001B[38;5;241m.\u001B[39melements[index \u001B[38;5;241m+\u001B[39m \u001B[38;5;241m1\u001B[39m]\u001B[38;5;241m.\u001B[39mI]\n\u001B[1;32m    290\u001B[0m     merged_neighborhood \u001B[38;5;241m=\u001B[39m \u001B[38;5;28mset\u001B[39m()\u001B[38;5;241m.\u001B[39munion(\u001B[38;5;241m*\u001B[39mneighborhoods)\n\u001B[1;32m    291\u001B[0m     \u001B[38;5;28mself\u001B[39m\u001B[38;5;241m.\u001B[39melements[index]\u001B[38;5;241m.\u001B[39mI \u001B[38;5;241m=\u001B[39m merged_neighborhood\n",
      "File \u001B[0;32m~/Praca/Nauka/publikacje/TaSTSPM/Folder/src/Sequence.py:300\u001B[0m, in \u001B[0;36mSequence.calculate_neighborhood_backward\u001B[0;34m(self, event, index, D, R, T)\u001B[0m\n\u001B[1;32m    299\u001B[0m \u001B[38;5;28;01mdef\u001B[39;00m \u001B[38;5;21mcalculate_neighborhood_backward\u001B[39m(\u001B[38;5;28mself\u001B[39m, event, index, D, R, T):\n\u001B[0;32m--> 300\u001B[0m     \u001B[38;5;28;01mreturn\u001B[39;00m {e \u001B[38;5;28;01mfor\u001B[39;00m e \u001B[38;5;129;01min\u001B[39;00m D[\u001B[38;5;28mself\u001B[39m\u001B[38;5;241m.\u001B[39melements[index]\u001B[38;5;241m.\u001B[39mevent_type] \u001B[38;5;28;01mif\u001B[39;00m event\u001B[38;5;241m.\u001B[39mis_within_backward_spatiotemporal_distance(e, R, T)}\n",
      "File \u001B[0;32m~/Praca/Nauka/publikacje/TaSTSPM/Folder/src/Sequence.py:300\u001B[0m, in \u001B[0;36m<setcomp>\u001B[0;34m(.0)\u001B[0m\n\u001B[1;32m    299\u001B[0m \u001B[38;5;28;01mdef\u001B[39;00m \u001B[38;5;21mcalculate_neighborhood_backward\u001B[39m(\u001B[38;5;28mself\u001B[39m, event, index, D, R, T):\n\u001B[0;32m--> 300\u001B[0m     \u001B[38;5;28;01mreturn\u001B[39;00m {e \u001B[38;5;28;01mfor\u001B[39;00m e \u001B[38;5;129;01min\u001B[39;00m D[\u001B[38;5;28mself\u001B[39m\u001B[38;5;241m.\u001B[39melements[index]\u001B[38;5;241m.\u001B[39mevent_type] \u001B[38;5;28;01mif\u001B[39;00m \u001B[43mevent\u001B[49m\u001B[38;5;241;43m.\u001B[39;49m\u001B[43mis_within_backward_spatiotemporal_distance\u001B[49m\u001B[43m(\u001B[49m\u001B[43me\u001B[49m\u001B[43m,\u001B[49m\u001B[43m \u001B[49m\u001B[43mR\u001B[49m\u001B[43m,\u001B[49m\u001B[43m \u001B[49m\u001B[43mT\u001B[49m\u001B[43m)\u001B[49m}\n",
      "File \u001B[0;32m~/Praca/Nauka/publikacje/TaSTSPM/Folder/src/Sequence.py:22\u001B[0m, in \u001B[0;36mEvent.is_within_backward_spatiotemporal_distance\u001B[0;34m(self, e, R, T, distance_type)\u001B[0m\n\u001B[1;32m     18\u001B[0m \u001B[38;5;28;01mdef\u001B[39;00m \u001B[38;5;21mis_within_backward_spatiotemporal_distance\u001B[39m(\u001B[38;5;28mself\u001B[39m, e, R, T, distance_type \u001B[38;5;241m=\u001B[39m\u001B[38;5;124m'\u001B[39m\u001B[38;5;124mEarth\u001B[39m\u001B[38;5;124m'\u001B[39m):\n\u001B[1;32m     19\u001B[0m \n\u001B[1;32m     20\u001B[0m     \u001B[38;5;66;03m# Calculate the spatial distance\u001B[39;00m\n\u001B[1;32m     21\u001B[0m     \u001B[38;5;28;01mif\u001B[39;00m distance_type \u001B[38;5;241m==\u001B[39m \u001B[38;5;124m'\u001B[39m\u001B[38;5;124mEarth\u001B[39m\u001B[38;5;124m'\u001B[39m:\n\u001B[0;32m---> 22\u001B[0m         spatial_distance \u001B[38;5;241m=\u001B[39m \u001B[38;5;28;43mself\u001B[39;49m\u001B[38;5;241;43m.\u001B[39;49m\u001B[43mdistanceEarth\u001B[49m\u001B[43m(\u001B[49m\u001B[43me\u001B[49m\u001B[43m)\u001B[49m\n\u001B[1;32m     23\u001B[0m     \u001B[38;5;28;01melif\u001B[39;00m distance_type \u001B[38;5;241m==\u001B[39m \u001B[38;5;124m'\u001B[39m\u001B[38;5;124mEuclidean\u001B[39m\u001B[38;5;124m'\u001B[39m:\n\u001B[1;32m     24\u001B[0m         spatial_distance \u001B[38;5;241m=\u001B[39m \u001B[38;5;28mself\u001B[39m\u001B[38;5;241m.\u001B[39mdistanceEuclidian(e)\n",
      "File \u001B[0;32m~/Praca/Nauka/publikacje/TaSTSPM/Folder/src/Sequence.py:61\u001B[0m, in \u001B[0;36mEvent.distanceEarth\u001B[0;34m(self, e)\u001B[0m\n\u001B[1;32m     59\u001B[0m lon1r \u001B[38;5;241m=\u001B[39m deg2rad(\u001B[38;5;28mself\u001B[39m\u001B[38;5;241m.\u001B[39mx_location)\n\u001B[1;32m     60\u001B[0m lat2r \u001B[38;5;241m=\u001B[39m deg2rad(e\u001B[38;5;241m.\u001B[39my_location)\n\u001B[0;32m---> 61\u001B[0m lon2r \u001B[38;5;241m=\u001B[39m \u001B[43mdeg2rad\u001B[49m\u001B[43m(\u001B[49m\u001B[43me\u001B[49m\u001B[38;5;241;43m.\u001B[39;49m\u001B[43mx_location\u001B[49m\u001B[43m)\u001B[49m\n\u001B[1;32m     62\u001B[0m u \u001B[38;5;241m=\u001B[39m math\u001B[38;5;241m.\u001B[39msin((lat2r \u001B[38;5;241m-\u001B[39m lat1r) \u001B[38;5;241m/\u001B[39m \u001B[38;5;241m2\u001B[39m)\n\u001B[1;32m     63\u001B[0m v \u001B[38;5;241m=\u001B[39m math\u001B[38;5;241m.\u001B[39msin((lon2r \u001B[38;5;241m-\u001B[39m lon1r) \u001B[38;5;241m/\u001B[39m \u001B[38;5;241m2\u001B[39m)\n",
      "\u001B[0;31mKeyboardInterrupt\u001B[0m: "
     ]
    }
   ],
   "execution_count": 3
  },
  {
   "metadata": {
    "ExecuteTime": {
     "end_time": "2024-07-11T08:34:20.198818Z",
     "start_time": "2024-07-11T08:30:51.273018Z"
    }
   },
   "cell_type": "code",
   "source": [
    "R = 300\n",
    "T = 4320\n",
    "D_boston.dataset_dict.keys()\n",
    "stq = [Sequence(event_types=['CRIMES_AGAINST_CHILDREN'])]\n",
    "TaSTSPs= tastsp_algorithm(D_boston, D_boston.dataset_dict.keys(), R, T, 0.01, stq, distance_type = 'Earth', verbose = 1)\n",
    "for s in TaSTSPs:\n",
    "    print(s)"
   ],
   "id": "25b31deb5deab3a",
   "outputs": [
    {
     "name": "stdout",
     "output_type": "stream",
     "text": [
      "Starting TaSTSP Algorithm\n",
      "Parameters: R=300, T=4320, theta=0.01, distance_type=Earth\n",
      "Number of sequences in stq: 1\n",
      "Forward extension completed\n",
      "TaSTSPs found: 139\n",
      "LARCENY_FROM_MOTOR_VEHICLE -> CRIMES_AGAINST_CHILDREN -> Harass, PI: 0.010394005317863187\n",
      "Harass -> CRIMES_AGAINST_CHILDREN -> SIMPLE_ASSAULT -> HOMICIDE, PI: 0.01038699949740325\n",
      "CRIMES_AGAINST_CHILDREN -> OTHER_LARCENY -> DISORDERLY, PI: 0.012089810017271158\n",
      "LARCENY_FROM_MOTOR_VEHICLE -> CRIMES_AGAINST_CHILDREN, PI: 0.010394005317863187\n",
      "CRIMES_AGAINST_CHILDREN -> SIMPLE_ASSAULT -> HOMICIDE, PI: 0.0196078431372549\n",
      "AUTO_THEFT -> CRIMES_AGAINST_CHILDREN -> COMMERCIAL_BURGLARY, PI: 0.01266624445851805\n",
      "LARCENY_FROM_MOTOR_VEHICLE -> CRIMES_AGAINST_CHILDREN -> DISORDERLY, PI: 0.010362694300518135\n",
      "WEAPONS_CHARGE -> CRIMES_AGAINST_CHILDREN -> OTHER_LARCENY, PI: 0.010381430071153622\n",
      "WEAPONS_CHARGE -> CRIMES_AGAINST_CHILDREN -> FORGERY, PI: 0.011337868480725623\n",
      "CRIMES_AGAINST_CHILDREN -> FORGERY, PI: 0.014799154334038054\n",
      "CRIMES_AGAINST_CHILDREN -> CRIMES_AGAINST_CHILDREN -> COMMERCIAL_BURGLARY, PI: 0.010638297872340425\n",
      "LARCENY_FROM_MOTOR_VEHICLE -> CRIMES_AGAINST_CHILDREN -> OTHER_LARCENY -> CRIMES_AGAINST_CHILDREN, PI: 0.010381430071153622\n",
      "AUTO_THEFT -> CRIMES_AGAINST_CHILDREN -> OTHER_LARCENY -> VIOLATION_OF_LIQUOR_LAWS, PI: 0.010381430071153622\n",
      "LARCENY_FROM_MOTOR_VEHICLE -> CRIMES_AGAINST_CHILDREN -> Bomb, PI: 0.010394005317863187\n",
      "CRIMES_AGAINST_CHILDREN -> HOMICIDE, PI: 0.0196078431372549\n",
      "Harass -> CRIMES_AGAINST_CHILDREN -> OPERATING_UNDER_INFLUENCE, PI: 0.012244897959183673\n",
      "CRIMES_AGAINST_CHILDREN -> AUTO_THEFT, PI: 0.01013299556681444\n",
      "AUTO_THEFT -> CRIMES_AGAINST_CHILDREN -> TOWED, PI: 0.010666666666666666\n",
      "RESIDENTIAL_BURGLARY -> CRIMES_AGAINST_CHILDREN -> FORGERY, PI: 0.01008249312557287\n",
      "RESIDENTIAL_BURGLARY -> CRIMES_AGAINST_CHILDREN -> SIMPLE_ASSAULT -> HOMICIDE, PI: 0.01008249312557287\n",
      "WEAPONS_CHARGE -> CRIMES_AGAINST_CHILDREN -> CRIMES_AGAINST_CHILDREN, PI: 0.010638297872340425\n",
      "Harass -> CRIMES_AGAINST_CHILDREN -> Harass, PI: 0.015957446808510637\n",
      "CRIMES_AGAINST_CHILDREN -> FIRE, PI: 0.01155115511551155\n",
      "RESIDENTIAL_BURGLARY -> CRIMES_AGAINST_CHILDREN -> HOMICIDE, PI: 0.01008249312557287\n",
      "LARCENY_FROM_MOTOR_VEHICLE -> CRIMES_AGAINST_CHILDREN -> OPERATING_UNDER_INFLUENCE -> HOMICIDE, PI: 0.010394005317863187\n",
      "Harass -> CRIMES_AGAINST_CHILDREN -> DISORDERLY, PI: 0.010362694300518135\n",
      "RESIDENTIAL_BURGLARY -> CRIMES_AGAINST_CHILDREN -> AUTO_THEFT, PI: 0.01008249312557287\n",
      "CRIMES_AGAINST_CHILDREN -> CRIMES_AGAINST_CHILDREN -> OPERATING_UNDER_INFLUENCE -> HOMICIDE, PI: 0.010638297872340425\n",
      "Harass -> CRIMES_AGAINST_CHILDREN -> OTHER_LARCENY -> CRIMES_AGAINST_CHILDREN, PI: 0.010381430071153622\n",
      "CRIMES_AGAINST_CHILDREN -> CRIMES_AGAINST_CHILDREN -> OTHER_LARCENY -> CRIMES_AGAINST_CHILDREN, PI: 0.010381430071153622\n",
      "CRIMES_AGAINST_CHILDREN -> COMMERCIAL_BURGLARY, PI: 0.014354066985645933\n",
      "RESIDENTIAL_BURGLARY -> CRIMES_AGAINST_CHILDREN -> FIRE, PI: 0.01008249312557287\n",
      "AUTO_THEFT -> CRIMES_AGAINST_CHILDREN -> DISORDERLY, PI: 0.010362694300518135\n",
      "LARCENY_FROM_MOTOR_VEHICLE -> CRIMES_AGAINST_CHILDREN -> OTHER_LARCENY -> VIOLATION_OF_LIQUOR_LAWS, PI: 0.010381430071153622\n",
      "AUTO_THEFT -> CRIMES_AGAINST_CHILDREN, PI: 0.01266624445851805\n",
      "LARCENY_FROM_MOTOR_VEHICLE -> CRIMES_AGAINST_CHILDREN -> HOMICIDE, PI: 0.010394005317863187\n",
      "RESIDENTIAL_BURGLARY -> CRIMES_AGAINST_CHILDREN -> COMMERCIAL_BURGLARY, PI: 0.01008249312557287\n",
      "CRIMES_AGAINST_CHILDREN -> CRIMES_AGAINST_CHILDREN -> SIMPLE_ASSAULT, PI: 0.01038699949740325\n",
      "AUTO_THEFT -> CRIMES_AGAINST_CHILDREN -> Bomb, PI: 0.01266624445851805\n",
      "LARCENY_FROM_MOTOR_VEHICLE -> CRIMES_AGAINST_CHILDREN -> AUTO_THEFT, PI: 0.01013299556681444\n",
      "WEAPONS_CHARGE -> CRIMES_AGAINST_CHILDREN -> TOWED, PI: 0.010666666666666666\n",
      "CRIMES_AGAINST_CHILDREN -> TOWED, PI: 0.010666666666666666\n",
      "RESIDENTIAL_BURGLARY -> CRIMES_AGAINST_CHILDREN -> OTHER_LARCENY -> CRIMES_AGAINST_CHILDREN, PI: 0.01008249312557287\n",
      "LARCENY_FROM_MOTOR_VEHICLE -> CRIMES_AGAINST_CHILDREN -> FIRE, PI: 0.010394005317863187\n",
      "Harass -> CRIMES_AGAINST_CHILDREN -> OPERATING_UNDER_INFLUENCE -> HOMICIDE, PI: 0.012244897959183673\n",
      "WEAPONS_CHARGE -> CRIMES_AGAINST_CHILDREN, PI: 0.011337868480725623\n",
      "WEAPONS_CHARGE -> CRIMES_AGAINST_CHILDREN -> OPERATING_UNDER_INFLUENCE, PI: 0.011337868480725623\n",
      "LARCENY_FROM_MOTOR_VEHICLE -> CRIMES_AGAINST_CHILDREN -> SIMPLE_ASSAULT -> HOMICIDE, PI: 0.01038699949740325\n",
      "RESIDENTIAL_BURGLARY -> CRIMES_AGAINST_CHILDREN -> SIMPLE_ASSAULT -> EMBEZELLMENT, PI: 0.01008249312557287\n",
      "CRIMES_AGAINST_CHILDREN -> OPERATING_UNDER_INFLUENCE -> HOMICIDE, PI: 0.0196078431372549\n",
      "RESIDENTIAL_BURGLARY -> CRIMES_AGAINST_CHILDREN -> TOWED, PI: 0.01008249312557287\n",
      "AUTO_THEFT -> CRIMES_AGAINST_CHILDREN -> OTHER_LARCENY, PI: 0.010381430071153622\n",
      "Harass -> CRIMES_AGAINST_CHILDREN -> FORGERY, PI: 0.014799154334038054\n",
      "LARCENY_FROM_MOTOR_VEHICLE -> CRIMES_AGAINST_CHILDREN -> COMMERCIAL_BURGLARY, PI: 0.010394005317863187\n",
      "WEAPONS_CHARGE -> CRIMES_AGAINST_CHILDREN -> Harass, PI: 0.011337868480725623\n",
      "AUTO_THEFT -> CRIMES_AGAINST_CHILDREN -> SIMPLE_ASSAULT -> EMBEZELLMENT, PI: 0.01038699949740325\n",
      "Harass -> CRIMES_AGAINST_CHILDREN -> HOMICIDE, PI: 0.015957446808510637\n",
      "WEAPONS_CHARGE -> CRIMES_AGAINST_CHILDREN -> DISORDERLY, PI: 0.010362694300518135\n",
      "CRIMES_AGAINST_CHILDREN -> DISORDERLY, PI: 0.010362694300518135\n",
      "CRIMES_AGAINST_CHILDREN -> SIMPLE_ASSAULT, PI: 0.01038699949740325\n",
      "CRIMES_AGAINST_CHILDREN -> CRIMES_AGAINST_CHILDREN -> FORGERY, PI: 0.010638297872340425\n",
      "Harass -> CRIMES_AGAINST_CHILDREN -> AUTO_THEFT, PI: 0.01013299556681444\n",
      "CRIMES_AGAINST_CHILDREN -> OTHER_LARCENY -> VIOLATION_OF_LIQUOR_LAWS, PI: 0.012422360248447204\n",
      "WEAPONS_CHARGE -> CRIMES_AGAINST_CHILDREN -> Bomb, PI: 0.011337868480725623\n",
      "CRIMES_AGAINST_CHILDREN -> Bomb, PI: 0.013333333333333334\n",
      "AUTO_THEFT -> CRIMES_AGAINST_CHILDREN -> OTHER_LARCENY -> CRIMES_AGAINST_CHILDREN, PI: 0.010381430071153622\n",
      "Harass -> CRIMES_AGAINST_CHILDREN -> OTHER_LARCENY -> DISORDERLY, PI: 0.010381430071153622\n",
      "CRIMES_AGAINST_CHILDREN -> CRIMES_AGAINST_CHILDREN -> OTHER_LARCENY -> DISORDERLY, PI: 0.010381430071153622\n",
      "AUTO_THEFT -> CRIMES_AGAINST_CHILDREN -> HOMICIDE, PI: 0.01266624445851805\n",
      "AUTO_THEFT -> CRIMES_AGAINST_CHILDREN -> CRIMES_AGAINST_CHILDREN, PI: 0.010638297872340425\n",
      "CRIMES_AGAINST_CHILDREN -> CRIMES_AGAINST_CHILDREN -> AUTO_THEFT, PI: 0.01013299556681444\n",
      "Harass -> CRIMES_AGAINST_CHILDREN -> FIRE, PI: 0.01155115511551155\n",
      "LARCENY_FROM_MOTOR_VEHICLE -> CRIMES_AGAINST_CHILDREN -> TOWED, PI: 0.010394005317863187\n",
      "RESIDENTIAL_BURGLARY -> CRIMES_AGAINST_CHILDREN -> SIMPLE_ASSAULT, PI: 0.01008249312557287\n",
      "CRIMES_AGAINST_CHILDREN -> CRIMES_AGAINST_CHILDREN -> CRIMES_AGAINST_CHILDREN, PI: 0.010638297872340425\n",
      "CRIMES_AGAINST_CHILDREN -> CRIMES_AGAINST_CHILDREN -> FIRE, PI: 0.010638297872340425\n",
      "RESIDENTIAL_BURGLARY -> CRIMES_AGAINST_CHILDREN -> Bomb, PI: 0.01008249312557287\n",
      "Harass -> CRIMES_AGAINST_CHILDREN -> COMMERCIAL_BURGLARY, PI: 0.014354066985645933\n",
      "WEAPONS_CHARGE -> CRIMES_AGAINST_CHILDREN -> SIMPLE_ASSAULT -> HOMICIDE, PI: 0.01038699949740325\n",
      "CRIMES_AGAINST_CHILDREN -> OTHER_LARCENY, PI: 0.010381430071153622\n",
      "LARCENY_FROM_MOTOR_VEHICLE -> CRIMES_AGAINST_CHILDREN -> SIMPLE_ASSAULT -> EMBEZELLMENT, PI: 0.01038699949740325\n",
      "RESIDENTIAL_BURGLARY -> CRIMES_AGAINST_CHILDREN -> OTHER_LARCENY -> DISORDERLY, PI: 0.01008249312557287\n",
      "LARCENY_FROM_MOTOR_VEHICLE -> CRIMES_AGAINST_CHILDREN -> SIMPLE_ASSAULT, PI: 0.01038699949740325\n",
      "CRIMES_AGAINST_CHILDREN -> CRIMES_AGAINST_CHILDREN -> SIMPLE_ASSAULT -> EMBEZELLMENT, PI: 0.01038699949740325\n",
      "AUTO_THEFT -> CRIMES_AGAINST_CHILDREN -> OPERATING_UNDER_INFLUENCE -> HOMICIDE, PI: 0.012244897959183673\n",
      "Harass -> CRIMES_AGAINST_CHILDREN -> TOWED, PI: 0.010666666666666666\n",
      "RESIDENTIAL_BURGLARY -> CRIMES_AGAINST_CHILDREN -> OTHER_LARCENY, PI: 0.01008249312557287\n",
      "CRIMES_AGAINST_CHILDREN -> CRIMES_AGAINST_CHILDREN, PI: 0.010638297872340425\n",
      "WEAPONS_CHARGE -> CRIMES_AGAINST_CHILDREN -> HOMICIDE, PI: 0.011337868480725623\n",
      "CRIMES_AGAINST_CHILDREN -> CRIMES_AGAINST_CHILDREN -> TOWED, PI: 0.010638297872340425\n",
      "WEAPONS_CHARGE -> CRIMES_AGAINST_CHILDREN -> AUTO_THEFT, PI: 0.01013299556681444\n",
      "AUTO_THEFT -> CRIMES_AGAINST_CHILDREN -> OPERATING_UNDER_INFLUENCE, PI: 0.012244897959183673\n",
      "CRIMES_AGAINST_CHILDREN, PI: 1\n",
      "RESIDENTIAL_BURGLARY -> CRIMES_AGAINST_CHILDREN -> CRIMES_AGAINST_CHILDREN, PI: 0.01008249312557287\n",
      "WEAPONS_CHARGE -> CRIMES_AGAINST_CHILDREN -> FIRE, PI: 0.011337868480725623\n",
      "CRIMES_AGAINST_CHILDREN -> CRIMES_AGAINST_CHILDREN -> OPERATING_UNDER_INFLUENCE, PI: 0.010638297872340425\n",
      "WEAPONS_CHARGE -> CRIMES_AGAINST_CHILDREN -> OTHER_LARCENY -> CRIMES_AGAINST_CHILDREN, PI: 0.010381430071153622\n",
      "AUTO_THEFT -> CRIMES_AGAINST_CHILDREN -> Harass, PI: 0.01266624445851805\n",
      "AUTO_THEFT -> CRIMES_AGAINST_CHILDREN -> OTHER_LARCENY -> DISORDERLY, PI: 0.010381430071153622\n",
      "LARCENY_FROM_MOTOR_VEHICLE -> CRIMES_AGAINST_CHILDREN -> OTHER_LARCENY, PI: 0.010381430071153622\n",
      "Harass -> CRIMES_AGAINST_CHILDREN -> SIMPLE_ASSAULT -> EMBEZELLMENT, PI: 0.01038699949740325\n",
      "AUTO_THEFT -> CRIMES_AGAINST_CHILDREN -> SIMPLE_ASSAULT -> HOMICIDE, PI: 0.01038699949740325\n",
      "LARCENY_FROM_MOTOR_VEHICLE -> CRIMES_AGAINST_CHILDREN -> FORGERY, PI: 0.010394005317863187\n",
      "CRIMES_AGAINST_CHILDREN -> CRIMES_AGAINST_CHILDREN -> Harass, PI: 0.010638297872340425\n",
      "CRIMES_AGAINST_CHILDREN -> SIMPLE_ASSAULT -> EMBEZELLMENT, PI: 0.014492753623188406\n",
      "WEAPONS_CHARGE -> CRIMES_AGAINST_CHILDREN -> SIMPLE_ASSAULT -> EMBEZELLMENT, PI: 0.01038699949740325\n",
      "Harass -> CRIMES_AGAINST_CHILDREN -> SIMPLE_ASSAULT, PI: 0.01038699949740325\n",
      "WEAPONS_CHARGE -> CRIMES_AGAINST_CHILDREN -> COMMERCIAL_BURGLARY, PI: 0.011337868480725623\n",
      "CRIMES_AGAINST_CHILDREN -> CRIMES_AGAINST_CHILDREN -> DISORDERLY, PI: 0.010362694300518135\n",
      "Harass -> CRIMES_AGAINST_CHILDREN -> Bomb, PI: 0.013333333333333334\n",
      "AUTO_THEFT -> CRIMES_AGAINST_CHILDREN -> SIMPLE_ASSAULT, PI: 0.01038699949740325\n",
      "WEAPONS_CHARGE -> CRIMES_AGAINST_CHILDREN -> OPERATING_UNDER_INFLUENCE -> HOMICIDE, PI: 0.011337868480725623\n",
      "CRIMES_AGAINST_CHILDREN -> CRIMES_AGAINST_CHILDREN -> Bomb, PI: 0.010638297872340425\n",
      "LARCENY_FROM_MOTOR_VEHICLE -> CRIMES_AGAINST_CHILDREN -> CRIMES_AGAINST_CHILDREN, PI: 0.010394005317863187\n",
      "CRIMES_AGAINST_CHILDREN -> OTHER_LARCENY -> CRIMES_AGAINST_CHILDREN, PI: 0.010638297872340425\n",
      "CRIMES_AGAINST_CHILDREN -> OPERATING_UNDER_INFLUENCE, PI: 0.012244897959183673\n",
      "Harass -> CRIMES_AGAINST_CHILDREN -> OTHER_LARCENY -> VIOLATION_OF_LIQUOR_LAWS, PI: 0.010381430071153622\n",
      "CRIMES_AGAINST_CHILDREN -> CRIMES_AGAINST_CHILDREN -> OTHER_LARCENY -> VIOLATION_OF_LIQUOR_LAWS, PI: 0.010381430071153622\n",
      "Harass -> CRIMES_AGAINST_CHILDREN -> OTHER_LARCENY, PI: 0.010381430071153622\n",
      "CRIMES_AGAINST_CHILDREN -> Harass, PI: 0.02197802197802198\n",
      "WEAPONS_CHARGE -> CRIMES_AGAINST_CHILDREN -> OTHER_LARCENY -> VIOLATION_OF_LIQUOR_LAWS, PI: 0.010381430071153622\n",
      "LARCENY_FROM_MOTOR_VEHICLE -> CRIMES_AGAINST_CHILDREN -> OTHER_LARCENY -> DISORDERLY, PI: 0.010381430071153622\n",
      "Harass -> CRIMES_AGAINST_CHILDREN, PI: 0.015957446808510637\n",
      "RESIDENTIAL_BURGLARY -> CRIMES_AGAINST_CHILDREN -> OPERATING_UNDER_INFLUENCE, PI: 0.01008249312557287\n",
      "CRIMES_AGAINST_CHILDREN -> CRIMES_AGAINST_CHILDREN -> OTHER_LARCENY, PI: 0.010381430071153622\n",
      "CRIMES_AGAINST_CHILDREN -> CRIMES_AGAINST_CHILDREN -> SIMPLE_ASSAULT -> HOMICIDE, PI: 0.01038699949740325\n",
      "AUTO_THEFT -> CRIMES_AGAINST_CHILDREN -> FORGERY, PI: 0.01266624445851805\n",
      "RESIDENTIAL_BURGLARY -> CRIMES_AGAINST_CHILDREN -> Harass, PI: 0.01008249312557287\n",
      "Harass -> CRIMES_AGAINST_CHILDREN -> CRIMES_AGAINST_CHILDREN, PI: 0.010638297872340425\n",
      "RESIDENTIAL_BURGLARY -> CRIMES_AGAINST_CHILDREN, PI: 0.01008249312557287\n",
      "WEAPONS_CHARGE -> CRIMES_AGAINST_CHILDREN -> SIMPLE_ASSAULT, PI: 0.01038699949740325\n",
      "RESIDENTIAL_BURGLARY -> CRIMES_AGAINST_CHILDREN -> DISORDERLY, PI: 0.01008249312557287\n",
      "RESIDENTIAL_BURGLARY -> CRIMES_AGAINST_CHILDREN -> OTHER_LARCENY -> VIOLATION_OF_LIQUOR_LAWS, PI: 0.01008249312557287\n",
      "WEAPONS_CHARGE -> CRIMES_AGAINST_CHILDREN -> OTHER_LARCENY -> DISORDERLY, PI: 0.010381430071153622\n",
      "AUTO_THEFT -> CRIMES_AGAINST_CHILDREN -> AUTO_THEFT, PI: 0.01013299556681444\n",
      "RESIDENTIAL_BURGLARY -> CRIMES_AGAINST_CHILDREN -> OPERATING_UNDER_INFLUENCE -> HOMICIDE, PI: 0.01008249312557287\n",
      "CRIMES_AGAINST_CHILDREN -> CRIMES_AGAINST_CHILDREN -> HOMICIDE, PI: 0.010638297872340425\n",
      "LARCENY_FROM_MOTOR_VEHICLE -> CRIMES_AGAINST_CHILDREN -> OPERATING_UNDER_INFLUENCE, PI: 0.010394005317863187\n",
      "AUTO_THEFT -> CRIMES_AGAINST_CHILDREN -> FIRE, PI: 0.01155115511551155\n"
     ]
    }
   ],
   "execution_count": 49
  },
  {
   "metadata": {},
   "cell_type": "code",
   "outputs": [],
   "execution_count": null,
   "source": "",
   "id": "84e91fc4b9c4da0f"
  }
 ],
 "metadata": {
  "kernelspec": {
   "display_name": "Python 3",
   "language": "python",
   "name": "python3"
  },
  "language_info": {
   "codemirror_mode": {
    "name": "ipython",
    "version": 2
   },
   "file_extension": ".py",
   "mimetype": "text/x-python",
   "name": "python",
   "nbconvert_exporter": "python",
   "pygments_lexer": "ipython2",
   "version": "2.7.6"
  }
 },
 "nbformat": 4,
 "nbformat_minor": 5
}
