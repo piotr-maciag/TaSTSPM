{
 "cells": [
  {
   "cell_type": "raw",
   "source": [
    "The notebook converts txt files with events into comma separated csv"
   ],
   "metadata": {
    "collapsed": false
   },
   "id": "1dd3fbf886666008"
  },
  {
   "cell_type": "code",
   "source": [
    "import pandas as pd\n",
    "\n",
    "def convert_space_separated_to_csv(input_file_path, output_file_path):\n",
    "    try:\n",
    "        # Read the space-separated text file into a DataFrame\n",
    "        df = pd.read_csv(input_file_path, delimiter=' ')\n",
    "\n",
    "        # Save the DataFrame to a CSV file with comma-separated values\n",
    "        df.to_csv(output_file_path, index=False)\n",
    "        print(f\"Successfully converted {input_file_path} to {output_file_path}\")\n",
    "    except Exception as e:\n",
    "        print(f\"An error occurred: {e}\")"
   ],
   "metadata": {
    "collapsed": false,
    "ExecuteTime": {
     "end_time": "2024-06-11T18:51:49.694566Z",
     "start_time": "2024-06-11T18:51:48.446924Z"
    }
   },
   "id": "84f67e0140a38bd6",
   "outputs": [],
   "execution_count": 1
  },
  {
   "cell_type": "code",
   "source": [
    "convert_space_separated_to_csv('../data/crimes_Boston.csv', '../data/crimes_Boston.csv')\n",
    "convert_space_separated_to_csv('../data/crimes_Pittsburgh.txt', '../data/crimes_Pittsburgh.csv')"
   ],
   "metadata": {
    "collapsed": false,
    "ExecuteTime": {
     "end_time": "2024-06-11T18:52:42.825471Z",
     "start_time": "2024-06-11T18:52:42.380335Z"
    }
   },
   "id": "cb2fa6a16619111d",
   "outputs": [
    {
     "name": "stdout",
     "output_type": "stream",
     "text": [
      "Successfully converted ../data/crimes_Boston.csv to ../data/crimes_Boston.csv\n",
      "Successfully converted ../data/crimes_Pittsburgh.txt to ../data/crimes_Pittsburgh.csv\n"
     ]
    }
   ],
   "execution_count": 8
  },
  {
   "cell_type": "code",
   "source": [
    "convert_space_separated_to_csv('../data/toy_dataset.txt', '../data/toy_dataset.csv')"
   ],
   "metadata": {
    "collapsed": false,
    "ExecuteTime": {
     "end_time": "2024-06-11T18:52:31.328291Z",
     "start_time": "2024-06-11T18:52:31.320059Z"
    }
   },
   "id": "cbf045281748e2c1",
   "outputs": [
    {
     "name": "stdout",
     "output_type": "stream",
     "text": [
      "Successfully converted ../data/toy_dataset.txt to ../data/toy_dataset.csv\n"
     ]
    }
   ],
   "execution_count": 6
  },
  {
   "cell_type": "code",
   "source": [
    "convert_space_separated_to_csv('../data/crimes_Boston_reduced.txt', '../data/crimes_Boston_reduced.csv')"
   ],
   "metadata": {
    "collapsed": false,
    "ExecuteTime": {
     "end_time": "2024-06-11T18:52:31.699911Z",
     "start_time": "2024-06-11T18:52:31.690126Z"
    }
   },
   "id": "8d06b149868e7ed9",
   "outputs": [
    {
     "name": "stdout",
     "output_type": "stream",
     "text": [
      "Successfully converted ../data/crimes_Boston_reduced.txt to ../data/crimes_Boston_reduced.csv\n"
     ]
    }
   ],
   "execution_count": 7
  },
  {
   "cell_type": "code",
   "source": [],
   "metadata": {
    "collapsed": false,
    "ExecuteTime": {
     "end_time": "2024-06-11T18:51:50.170537Z",
     "start_time": "2024-06-11T18:51:50.169142Z"
    }
   },
   "id": "5aeacae2e14ecd1",
   "outputs": [],
   "execution_count": 4
  }
 ],
 "metadata": {
  "kernelspec": {
   "display_name": "Python 3",
   "language": "python",
   "name": "python3"
  },
  "language_info": {
   "codemirror_mode": {
    "name": "ipython",
    "version": 2
   },
   "file_extension": ".py",
   "mimetype": "text/x-python",
   "name": "python",
   "nbconvert_exporter": "python",
   "pygments_lexer": "ipython2",
   "version": "2.7.6"
  }
 },
 "nbformat": 4,
 "nbformat_minor": 5
}
