{
 "cells": [
  {
   "cell_type": "code",
   "id": "initial_id",
   "metadata": {
    "collapsed": true,
    "ExecuteTime": {
     "end_time": "2024-06-26T13:36:53.173451Z",
     "start_time": "2024-06-26T13:36:53.171946Z"
    }
   },
   "source": [
    ""
   ],
   "outputs": [],
   "execution_count": null
  },
  {
   "metadata": {
    "jupyter": {
     "is_executing": true
    },
    "ExecuteTime": {
     "start_time": "2024-06-26T13:36:53.174593Z"
    }
   },
   "cell_type": "code",
   "source": [
    "# Import necessary modules and algorithms\n",
    "import os\n",
    "import sys\n",
    "import time\n",
    "import pandas as pd\n",
    "import matplotlib.pyplot as plt\n",
    "import itertools\n",
    "\n",
    "sys.path.append('path/to/src')\n",
    "\n",
    "from src.other_algorithms.run_algorithm import run_algorithm, print_sequences\n",
    "from src.TaSTSPM import tastsp_algorithm\n",
    "from src.Sequence import Dataset, Sequence, Element\n",
    "\n",
    "# Define parameters\n",
    "dataset_path = '../data/crimes_Boston.csv'\n",
    "R = 50\n",
    "T = 1440\n",
    "theta = 0.1\n",
    "\n",
    "# Load dataset for CST_SPMiner and STBFM\n",
    "print(\"Loading dataset for CST_SPMiner and STBFM...\")\n",
    "cst_spminer_data = pd.read_csv(dataset_path)\n",
    "print(\"Dataset loaded.\")\n",
    "\n",
    "# Load dataset for TaSTSP\n",
    "print(\"Loading dataset for TaSTSP...\")\n",
    "dataset = Dataset(dataset_path)\n",
    "F = list(dataset.dataset_dict.keys())\n",
    "print(\"Dataset loaded.\")\n",
    "\n",
    "# Run CST_SPMiner\n",
    "print(\"Running CST_SPMiner...\")\n",
    "start_time = time.time()\n",
    "result_CST_SPMiner = run_algorithm(dataset_path, R, T, theta, 'CST_SPMiner', verbose=1)\n",
    "cst_spminer_time = time.time() - start_time\n",
    "cst_spminer_patterns = sum(len(level) for level in result_CST_SPMiner)\n",
    "print(\"CST_SPMiner completed.\")\n",
    "\n",
    "# Run STBFM\n",
    "print(\"Running STBFM...\")\n",
    "start_time = time.time()\n",
    "result_STBFM = run_algorithm(dataset_path, R, T, theta, 'STBFM', verbose=1)\n",
    "stbfm_time = time.time() - start_time\n",
    "stbfm_patterns = sum(len(level) for level in result_STBFM)\n",
    "print(\"STBFM completed.\")\n",
    "\n",
    "# Run TaSTSP multiple times with each unique event type as stq\n",
    "tastsp_times = []\n",
    "tastsp_patterns = []\n",
    "tastsp_times_two = []\n",
    "tastsp_patterns_two = []\n",
    "\n",
    "print(\"Running TaSTSP for single event types...\")\n",
    "for event_type in F:\n",
    "    stq = [Sequence([Element(event_type)])]\n",
    "    start_time = time.time()\n",
    "    result_tastsp = tastsp_algorithm(dataset, F, R, T, theta, stq)\n",
    "    tastsp_times.append(time.time() - start_time)\n",
    "    tastsp_patterns.append(len(result_tastsp))\n",
    "\n",
    "print(\"Running TaSTSP for combinations of two event types...\")\n",
    "for event_type1, event_type2 in itertools.combinations(F, 2):\n",
    "    stq = [Sequence([Element(event_type1), Element(event_type2)])]\n",
    "    start_time = time.time()\n",
    "    result_tastsp = tastsp_algorithm(dataset, F, R, T, theta, stq)\n",
    "    tastsp_times_two.append(time.time() - start_time)\n",
    "    tastsp_patterns_two.append(len(result_tastsp))\n",
    "\n",
    "# Calculate averages for TaSTSP\n",
    "average_tastsp_time = sum(tastsp_times) / len(tastsp_times)\n",
    "average_tastsp_patterns = sum(tastsp_patterns) / len(tastsp_patterns)\n",
    "average_tastsp_time_two = sum(tastsp_times_two) / len(tastsp_times_two)\n",
    "average_tastsp_patterns_two = sum(tastsp_patterns_two) / len(tastsp_patterns_two)\n",
    "print(\"TaSTSP completed.\")\n",
    "\n",
    "# Plot the execution times\n",
    "algorithms = ['CST_SPMiner', 'STBFM', 'TaSTSP (Single Event)', 'TaSTSP (Two Events)']\n",
    "execution_times = [cst_spminer_time, stbfm_time, average_tastsp_time, average_tastsp_time_two]\n",
    "\n",
    "plt.figure(figsize=(10, 6))\n",
    "plt.bar(algorithms, execution_times, color=['blue', 'green', 'orange', 'red'])\n",
    "plt.xlabel('Algorithms')\n",
    "plt.ylabel('Execution Time (seconds)')\n",
    "plt.title('Execution Times of Algorithms')\n",
    "plt.show()\n",
    "\n",
    "# Plot the number of discovered patterns\n",
    "patterns_found = [cst_spminer_patterns, stbfm_patterns, average_tastsp_patterns, average_tastsp_patterns_two]\n",
    "\n",
    "plt.figure(figsize=(10, 6))\n",
    "plt.bar(algorithms, patterns_found, color=['blue', 'green', 'orange', 'red'])\n",
    "plt.xlabel('Algorithms')\n",
    "plt.ylabel('Number of Discovered Patterns')\n",
    "plt.title('Number of Discovered Patterns by Algorithms')\n",
    "plt.show()\n",
    "\n",
    "# Plot TaSTSP individual run times and discovered patterns for single event types\n",
    "plt.figure(figsize=(15, 6))\n",
    "plt.bar(F, tastsp_times, color='orange')\n",
    "plt.xlabel('Event Types')\n",
    "plt.ylabel('Execution Time (seconds)')\n",
    "plt.title('Execution Times of TaSTSP for Each Single Event Type')\n",
    "plt.xticks(rotation=90)\n",
    "plt.show()\n",
    "\n",
    "plt.figure(figsize=(15, 6))\n",
    "plt.bar(F, tastsp_patterns, color='orange')\n",
    "plt.xlabel('Event Types')\n",
    "plt.ylabel('Number of Discovered Patterns')\n",
    "plt.title('Number of Discovered Patterns by TaSTSP for Each Single Event Type')\n",
    "plt.xticks(rotation=90)\n",
    "plt.show()\n",
    "\n",
    "# Plot TaSTSP individual run times and discovered patterns for combinations of two event types\n",
    "combination_labels = [f\"{e1} & {e2}\" for e1, e2 in itertools.combinations(F, 2)]\n",
    "\n",
    "plt.figure(figsize=(15, 6))\n",
    "plt.bar(combination_labels, tastsp_times_two, color='red')\n",
    "plt.xlabel('Event Type Combinations')\n",
    "plt.ylabel('Execution Time (seconds)')\n",
    "plt.title('Execution Times of TaSTSP for Each Combination of Two Event Types')\n",
    "plt.xticks(rotation=90)\n",
    "plt.show()\n",
    "\n",
    "plt.figure(figsize=(15, 6))\n",
    "plt.bar(combination_labels, tastsp_patterns_two, color='red')\n",
    "plt.xlabel('Event Type Combinations')\n",
    "plt.ylabel('Number of Discovered Patterns')\n",
    "plt.title('Number of Discovered Patterns by TaSTSP for Each Combination of Two Event Types')\n",
    "plt.xticks(rotation=90)\n",
    "plt.show()"
   ],
   "id": "2b6998efebfb947c",
   "outputs": [
    {
     "name": "stdout",
     "output_type": "stream",
     "text": [
      "Loading dataset for CST_SPMiner and STBFM...\n",
      "Dataset loaded.\n",
      "Loading dataset for TaSTSP...\n",
      "Loading data from ../data/crimes_Boston.csv\n",
      "Data read successfully: 40544 rows\n",
      "Dataset loaded.\n",
      "Running CST_SPMiner...\n",
      "Starting CST_SPMiner Algorithm\n",
      "Created 1-length sequences\n"
     ]
    }
   ],
   "execution_count": null
  },
  {
   "metadata": {
    "jupyter": {
     "is_executing": true
    }
   },
   "cell_type": "code",
   "source": "",
   "id": "c16b1c24b2080533",
   "outputs": [],
   "execution_count": null
  }
 ],
 "metadata": {
  "kernelspec": {
   "display_name": "Python 3",
   "language": "python",
   "name": "python3"
  },
  "language_info": {
   "codemirror_mode": {
    "name": "ipython",
    "version": 2
   },
   "file_extension": ".py",
   "mimetype": "text/x-python",
   "name": "python",
   "nbconvert_exporter": "python",
   "pygments_lexer": "ipython2",
   "version": "2.7.6"
  }
 },
 "nbformat": 4,
 "nbformat_minor": 5
}
