{
 "cells": [
  {
   "cell_type": "code",
   "id": "initial_id",
   "metadata": {
    "collapsed": true,
    "ExecuteTime": {
     "end_time": "2024-07-10T13:56:05.148775Z",
     "start_time": "2024-07-10T13:56:04.780462Z"
    }
   },
   "source": [
    "from src.Sequence import *\n",
    "from src.TaSTSPM import *\n",
    "import time"
   ],
   "outputs": [],
   "execution_count": 2
  },
  {
   "metadata": {},
   "cell_type": "markdown",
   "source": "## Experiments for SEATTLE",
   "id": "e1f302b3ce64ba62"
  },
  {
   "metadata": {
    "ExecuteTime": {
     "end_time": "2024-07-10T13:56:09.252124Z",
     "start_time": "2024-07-10T13:56:08.922020Z"
    }
   },
   "cell_type": "code",
   "source": [
    "D_seattle = Dataset('../data/collisions_Seattle_processed.csv')\n",
    "D_seattle.dataset_dict.keys()"
   ],
   "id": "b666d64934046cde",
   "outputs": [
    {
     "name": "stdout",
     "output_type": "stream",
     "text": [
      "Loading data from ../data/collisions_Seattle_processed.csv\n",
      "Data read successfully: 15352 rows\n"
     ]
    },
    {
     "data": {
      "text/plain": [
       "dict_keys(['MOTOR VEHICLE STRUCK MOTOR VEHICLE, REAR END', 'MOTOR VEHICLE STRUCK MOTOR VEHICLE, LEFT SIDE AT ANGLE', 'NOT ENOUGH INFORMATION / NOT APPLICABLE', 'MOTOR VEHICLE STRUCK OBJECT IN ROAD', 'MOTOR VEHICLE STRUCK MOTOR VEHICLE, FRONT END AT ANGLE', 'MOTOR VEHICLE RAN OFF ROAD - HIT FIXED OBJECT', 'MOTOR VEHICLE STRUCK PEDALCYCLIST, FRONT END AT ANGLE', 'MOTOR VEHCILE STRUCK PEDESTRIAN', 'MOTOR VEHICLE STRUCK TRAIN', 'MOTOR VEHICLE STRUCK MOTOR VEHICLE, LEFT SIDE SIDESWIPE', 'MOTOR VEHICLE STRUCK MOTOR VEHICLE, RIGHT SIDE AT ANGLE', 'MOTOR VEHICLE OVERTURNED IN ROAD', 'MOTOR VEHICLE STRUCK MOTOR VEHICLE, RIGHT SIDE SIDESWIPE', 'MOTOR VEHICLE STRUCK PEDALCYCLIST, REAR END', 'PEDALCYCLIST STRUCK MOTOR VEHICLE FRONT END AT ANGLE', 'PEDALCYCLIST STRUCK MOTOR VEHICLE REAR END', 'MOTOR VEHICLE RAN OFF ROAD - NO COLLISION', 'DRIVERLESS VEHICLE RAN OFF ROAD - HIT FIXED OBJECT', 'PEDALCYCLIST STRUCK MOTOR VEHICLE LEFT SIDE SIDESWIPE', 'DRIVERLESS VEHICLE STRUCK MOTOR VEHICLE FRONT END AT ANGLE', 'DRIVERLESS VEHICLE STRUCK MOTOR VEHICLE REAR END', 'PEDALCYCLIST STRUCK MOTOR VEHICLE RIGHT SIDE SIDESWIPE', 'PEDALCYCLIST STRUCK PEDESTRIAN', 'MOTOR VEHICLE STRUCK PEDALCYCLIST, LEFT SIDE SIDESWIPE', 'DRIVERLESS VEHICLE STRUCK MOTOR VEHICLE RIGHT SIDE AT ANGLE ', 'DRIVERLESS VEHICLE STRUCK PEDESTRIAN', 'DRIVERLESS VEHICLE STRUCK MOTOR VEHICLE LEFT SIDE AT ANGLE', 'PEDALCYCLIST STRUCK PEDALCYCLIST FRONT END AT ANGLE', 'PEDALCYCLIST STRUCK OBJECT IN ROAD', 'MOTORIZED SCOOTER COLLISION: COLLISION INVOLVING A MOTORIZED SCOOTER'])"
      ]
     },
     "execution_count": 3,
     "metadata": {},
     "output_type": "execute_result"
    }
   ],
   "execution_count": 3
  },
  {
   "metadata": {
    "ExecuteTime": {
     "end_time": "2024-07-10T14:03:37.125401Z",
     "start_time": "2024-07-10T14:02:51.544490Z"
    }
   },
   "cell_type": "code",
   "source": [
    "R = 200\n",
    "T = 20160\n",
    "D_seattle.dataset_dict.keys()\n",
    "stq = [Sequence(event_types=['MOTOR VEHICLE STRUCK OBJECT IN ROAD'])]\n",
    "TaSTSPs= tastsp_algorithm(D_seattle, D_seattle.dataset_dict.keys(), R, T, 0.1, stq, distance_type = 'Earth', verbose = 1)\n",
    "for s in TaSTSPs:\n",
    "    print(s)"
   ],
   "id": "4211b2697faa9cda",
   "outputs": [
    {
     "name": "stdout",
     "output_type": "stream",
     "text": [
      "Starting TaSTSP Algorithm\n",
      "Parameters: R=200, T=20160, theta=0.1, distance_type=Earth\n",
      "Number of sequences in stq: 1\n",
      "Forward extension completed\n",
      "TaSTSPs found: 9\n",
      "MOTOR VEHICLE STRUCK OBJECT IN ROAD -> PEDALCYCLIST STRUCK PEDESTRIAN, PI: 0.16666666666666666\n",
      "MOTOR VEHICLE STRUCK OBJECT IN ROAD -> MOTOR VEHICLE RAN OFF ROAD - NO COLLISION, PI: 0.18181818181818182\n",
      "MOTOR VEHICLE STRUCK OBJECT IN ROAD -> MOTOR VEHICLE STRUCK OBJECT IN ROAD -> PEDALCYCLIST STRUCK PEDESTRIAN, PI: 0.11568627450980393\n",
      "MOTOR VEHICLE STRUCK OBJECT IN ROAD -> DRIVERLESS VEHICLE RAN OFF ROAD - HIT FIXED OBJECT, PI: 0.1\n",
      "MOTOR VEHICLE STRUCK OBJECT IN ROAD -> MOTOR VEHICLE STRUCK OBJECT IN ROAD -> MOTOR VEHICLE RAN OFF ROAD - NO COLLISION, PI: 0.11568627450980393\n",
      "MOTOR VEHICLE STRUCK OBJECT IN ROAD -> MOTOR VEHICLE STRUCK OBJECT IN ROAD, PI: 0.11568627450980393\n",
      "MOTOR VEHICLE STRUCK OBJECT IN ROAD, PI: 1\n",
      "MOTOR VEHICLE STRUCK OBJECT IN ROAD -> MOTOR VEHICLE STRUCK OBJECT IN ROAD -> DRIVERLESS VEHICLE RAN OFF ROAD - HIT FIXED OBJECT, PI: 0.1\n",
      "MOTOR VEHICLE STRUCK OBJECT IN ROAD -> MOTOR VEHICLE STRUCK OBJECT IN ROAD -> MOTOR VEHICLE STRUCK OBJECT IN ROAD, PI: 0.11568627450980393\n"
     ]
    }
   ],
   "execution_count": 18
  },
  {
   "metadata": {
    "ExecuteTime": {
     "end_time": "2024-07-10T14:10:06.847778Z",
     "start_time": "2024-07-10T14:10:06.845135Z"
    }
   },
   "cell_type": "code",
   "source": [
    "print(len(D_seattle['MOTOR VEHCILE STRUCK PEDESTRIAN']))\n",
    "print(len(D_seattle['DRIVERLESS VEHICLE RAN OFF ROAD - HIT FIXED OBJECT']))\n"
   ],
   "id": "c80773c16e944bc9",
   "outputs": [
    {
     "name": "stdout",
     "output_type": "stream",
     "text": [
      "706\n",
      "10\n"
     ]
    }
   ],
   "execution_count": 21
  },
  {
   "metadata": {},
   "cell_type": "code",
   "outputs": [],
   "execution_count": null,
   "source": "",
   "id": "1a58bbbe7531dcdc"
  }
 ],
 "metadata": {
  "kernelspec": {
   "display_name": "Python 3",
   "language": "python",
   "name": "python3"
  },
  "language_info": {
   "codemirror_mode": {
    "name": "ipython",
    "version": 2
   },
   "file_extension": ".py",
   "mimetype": "text/x-python",
   "name": "python",
   "nbconvert_exporter": "python",
   "pygments_lexer": "ipython2",
   "version": "2.7.6"
  }
 },
 "nbformat": 4,
 "nbformat_minor": 5
}
