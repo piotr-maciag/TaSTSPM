{
 "cells": [
  {
   "metadata": {},
   "cell_type": "markdown",
   "source": " the Jupyter Notebook code to compare the average execution time and the number of discovered patterns for TaSTSP with varying lengths of stq, starting from sequences containing a single event type up to sequences containing 10 event types. The experiments are repeated for four different theta values (0.15, 0.1, 0.05, 0.01) and the results are plotted using two line plots.",
   "id": "2d888078bc883d4f"
  },
  {
   "cell_type": "code",
   "id": "initial_id",
   "metadata": {
    "collapsed": true,
    "ExecuteTime": {
     "end_time": "2024-06-28T04:52:38.127426Z",
     "start_time": "2024-06-27T19:37:26.885424Z"
    }
   },
   "source": [
    "import os\n",
    "import sys\n",
    "import time\n",
    "import random\n",
    "import pandas as pd\n",
    "import matplotlib.pyplot as plt\n",
    "\n",
    "sys.path.append('path/to/src')\n",
    "\n",
    "from src.TaSTSPM import tastsp_algorithm\n",
    "from src.Sequence import Dataset, Sequence, Element\n",
    "\n",
    "# Define parameters\n",
    "dataset_path = '../data/collisions_Seattle_processed.csv'\n",
    "R = 200.0\n",
    "T = 8640\n",
    "thetas = [round(x * 0.01, 2) for x in range(1, 11)]\n",
    "sequence_lengths = [1, 2, 3]\n",
    "num_repeats = 10\n",
    "\n",
    "# Load dataset for TaSTSP\n",
    "print(\"Loading dataset for TaSTSP...\")\n",
    "dataset_tastsp = Dataset(dataset_path)\n",
    "F = list(dataset_tastsp.dataset_dict.keys())\n",
    "print(\"Dataset loaded.\")\n",
    "\n",
    "# Function to generate random sequences\n",
    "def generate_random_sequences(event_types, num_sequences):\n",
    "    sequences = []\n",
    "    for _ in range(num_sequences):\n",
    "        random_event = random.choice(event_types)\n",
    "        sequence = Sequence([Element(random_event)])\n",
    "        sequences.append(sequence)\n",
    "    return sequences\n",
    "\n",
    "# Initialize results storage\n",
    "execution_times = {length: [] for length in sequence_lengths}\n",
    "pattern_counts = {length: [] for length in sequence_lengths}\n",
    "\n",
    "# Perform experiments\n",
    "for length in sequence_lengths:\n",
    "    for theta in thetas:\n",
    "        total_time = 0\n",
    "        total_patterns = 0\n",
    "        for _ in range(num_repeats):\n",
    "            stq = generate_random_sequences(F, length)\n",
    "            start_time = time.time()\n",
    "            result_tastsp = tastsp_algorithm(dataset_tastsp, F, R, T, theta, stq)\n",
    "            total_time += time.time() - start_time\n",
    "            total_patterns += len(result_tastsp)\n",
    "        average_time = total_time / num_repeats\n",
    "        average_patterns = total_patterns / num_repeats\n",
    "        execution_times[length].append(average_time)\n",
    "        pattern_counts[length].append(average_patterns)\n",
    "        print(f\"Length: {length}, Theta: {theta}, Avg Time: {average_time}, Avg Patterns: {average_patterns}\")\n"
   ],
   "outputs": [
    {
     "name": "stdout",
     "output_type": "stream",
     "text": [
      "Loading dataset for TaSTSP...\n",
      "Loading data from ../data/collisions_Seattle_processed.csv\n",
      "Data read successfully: 15352 rows\n",
      "Dataset loaded.\n"
     ]
    },
    {
     "ename": "KeyboardInterrupt",
     "evalue": "",
     "output_type": "error",
     "traceback": [
      "\u001B[0;31m---------------------------------------------------------------------------\u001B[0m",
      "\u001B[0;31mKeyboardInterrupt\u001B[0m                         Traceback (most recent call last)",
      "Cell \u001B[0;32mIn[15], line 48\u001B[0m\n\u001B[1;32m     46\u001B[0m stq \u001B[38;5;241m=\u001B[39m generate_random_sequences(F, length)\n\u001B[1;32m     47\u001B[0m start_time \u001B[38;5;241m=\u001B[39m time\u001B[38;5;241m.\u001B[39mtime()\n\u001B[0;32m---> 48\u001B[0m result_tastsp \u001B[38;5;241m=\u001B[39m \u001B[43mtastsp_algorithm\u001B[49m\u001B[43m(\u001B[49m\u001B[43mdataset_tastsp\u001B[49m\u001B[43m,\u001B[49m\u001B[43m \u001B[49m\u001B[43mF\u001B[49m\u001B[43m,\u001B[49m\u001B[43m \u001B[49m\u001B[43mR\u001B[49m\u001B[43m,\u001B[49m\u001B[43m \u001B[49m\u001B[43mT\u001B[49m\u001B[43m,\u001B[49m\u001B[43m \u001B[49m\u001B[43mtheta\u001B[49m\u001B[43m,\u001B[49m\u001B[43m \u001B[49m\u001B[43mstq\u001B[49m\u001B[43m)\u001B[49m\n\u001B[1;32m     49\u001B[0m total_time \u001B[38;5;241m+\u001B[39m\u001B[38;5;241m=\u001B[39m time\u001B[38;5;241m.\u001B[39mtime() \u001B[38;5;241m-\u001B[39m start_time\n\u001B[1;32m     50\u001B[0m total_patterns \u001B[38;5;241m+\u001B[39m\u001B[38;5;241m=\u001B[39m \u001B[38;5;28mlen\u001B[39m(result_tastsp)\n",
      "File \u001B[0;32m~/Praca/Nauka/publikacje/TaSTSPM/Folder/src/TaSTSPM.py:62\u001B[0m, in \u001B[0;36mtastsp_algorithm\u001B[0;34m(D, F, R, T, theta, stq, distance_type, verbose)\u001B[0m\n\u001B[1;32m     60\u001B[0m     \u001B[38;5;28;01mfor\u001B[39;00m s \u001B[38;5;129;01min\u001B[39;00m S:\n\u001B[1;32m     61\u001B[0m         S_E \u001B[38;5;241m=\u001B[39m \u001B[38;5;28mset\u001B[39m()\n\u001B[0;32m---> 62\u001B[0m         s_E \u001B[38;5;241m=\u001B[39m \u001B[43mextend_backward\u001B[49m\u001B[43m(\u001B[49m\u001B[43mS_E\u001B[49m\u001B[43m,\u001B[49m\u001B[43m \u001B[49m\u001B[43ms\u001B[49m\u001B[43m,\u001B[49m\u001B[43m \u001B[49m\u001B[43mD\u001B[49m\u001B[43m,\u001B[49m\u001B[43m \u001B[49m\u001B[43mF\u001B[49m\u001B[43m,\u001B[49m\u001B[43m \u001B[49m\u001B[43mR\u001B[49m\u001B[43m,\u001B[49m\u001B[43m \u001B[49m\u001B[43mT\u001B[49m\u001B[43m,\u001B[49m\u001B[43m \u001B[49m\u001B[43mtheta\u001B[49m\u001B[43m,\u001B[49m\u001B[43m \u001B[49m\u001B[43mverbose\u001B[49m\u001B[43m)\u001B[49m\n\u001B[1;32m     63\u001B[0m         TaSTSPs\u001B[38;5;241m.\u001B[39mupdate(s_E)\n\u001B[1;32m     65\u001B[0m \u001B[38;5;28;01mif\u001B[39;00m verbose \u001B[38;5;241m>\u001B[39m \u001B[38;5;241m0\u001B[39m:\n",
      "File \u001B[0;32m~/Praca/Nauka/publikacje/TaSTSPM/Folder/src/TaSTSPM.py:121\u001B[0m, in \u001B[0;36mextend_backward\u001B[0;34m(S_E, s1, D, F, R, T, theta, verbose)\u001B[0m\n\u001B[1;32m    118\u001B[0m         \u001B[38;5;28mprint\u001B[39m(\u001B[38;5;124mf\u001B[39m\u001B[38;5;124m\"\u001B[39m\u001B[38;5;124mExtended backward sequence: \u001B[39m\u001B[38;5;132;01m{\u001B[39;00ms\u001B[38;5;132;01m}\u001B[39;00m\u001B[38;5;124m\"\u001B[39m)\n\u001B[1;32m    120\u001B[0m     \u001B[38;5;28;01mif\u001B[39;00m s\u001B[38;5;241m.\u001B[39mPI \u001B[38;5;241m>\u001B[39m\u001B[38;5;241m=\u001B[39m theta:\n\u001B[0;32m--> 121\u001B[0m         S_E \u001B[38;5;241m=\u001B[39m \u001B[43mextend_backward\u001B[49m\u001B[43m(\u001B[49m\u001B[43mS_E\u001B[49m\u001B[43m,\u001B[49m\u001B[43m \u001B[49m\u001B[43ms\u001B[49m\u001B[43m,\u001B[49m\u001B[43m \u001B[49m\u001B[43mD\u001B[49m\u001B[43m,\u001B[49m\u001B[43m \u001B[49m\u001B[43mF\u001B[49m\u001B[43m,\u001B[49m\u001B[43m \u001B[49m\u001B[43mR\u001B[49m\u001B[43m,\u001B[49m\u001B[43m \u001B[49m\u001B[43mT\u001B[49m\u001B[43m,\u001B[49m\u001B[43m \u001B[49m\u001B[43mtheta\u001B[49m\u001B[43m,\u001B[49m\u001B[43m \u001B[49m\u001B[43mverbose\u001B[49m\u001B[43m)\u001B[49m\n\u001B[1;32m    123\u001B[0m S_E\u001B[38;5;241m.\u001B[39madd(s1)\n\u001B[1;32m    124\u001B[0m \u001B[38;5;28;01mreturn\u001B[39;00m S_E\n",
      "File \u001B[0;32m~/Praca/Nauka/publikacje/TaSTSPM/Folder/src/TaSTSPM.py:121\u001B[0m, in \u001B[0;36mextend_backward\u001B[0;34m(S_E, s1, D, F, R, T, theta, verbose)\u001B[0m\n\u001B[1;32m    118\u001B[0m         \u001B[38;5;28mprint\u001B[39m(\u001B[38;5;124mf\u001B[39m\u001B[38;5;124m\"\u001B[39m\u001B[38;5;124mExtended backward sequence: \u001B[39m\u001B[38;5;132;01m{\u001B[39;00ms\u001B[38;5;132;01m}\u001B[39;00m\u001B[38;5;124m\"\u001B[39m)\n\u001B[1;32m    120\u001B[0m     \u001B[38;5;28;01mif\u001B[39;00m s\u001B[38;5;241m.\u001B[39mPI \u001B[38;5;241m>\u001B[39m\u001B[38;5;241m=\u001B[39m theta:\n\u001B[0;32m--> 121\u001B[0m         S_E \u001B[38;5;241m=\u001B[39m \u001B[43mextend_backward\u001B[49m\u001B[43m(\u001B[49m\u001B[43mS_E\u001B[49m\u001B[43m,\u001B[49m\u001B[43m \u001B[49m\u001B[43ms\u001B[49m\u001B[43m,\u001B[49m\u001B[43m \u001B[49m\u001B[43mD\u001B[49m\u001B[43m,\u001B[49m\u001B[43m \u001B[49m\u001B[43mF\u001B[49m\u001B[43m,\u001B[49m\u001B[43m \u001B[49m\u001B[43mR\u001B[49m\u001B[43m,\u001B[49m\u001B[43m \u001B[49m\u001B[43mT\u001B[49m\u001B[43m,\u001B[49m\u001B[43m \u001B[49m\u001B[43mtheta\u001B[49m\u001B[43m,\u001B[49m\u001B[43m \u001B[49m\u001B[43mverbose\u001B[49m\u001B[43m)\u001B[49m\n\u001B[1;32m    123\u001B[0m S_E\u001B[38;5;241m.\u001B[39madd(s1)\n\u001B[1;32m    124\u001B[0m \u001B[38;5;28;01mreturn\u001B[39;00m S_E\n",
      "File \u001B[0;32m~/Praca/Nauka/publikacje/TaSTSPM/Folder/src/TaSTSPM.py:113\u001B[0m, in \u001B[0;36mextend_backward\u001B[0;34m(S_E, s1, D, F, R, T, theta, verbose)\u001B[0m\n\u001B[1;32m    111\u001B[0m s \u001B[38;5;241m=\u001B[39m s1\u001B[38;5;241m.\u001B[39mcopy()\n\u001B[1;32m    112\u001B[0m s\u001B[38;5;241m.\u001B[39madd_element_at_beginning(Element(f))\n\u001B[0;32m--> 113\u001B[0m \u001B[43ms\u001B[49m\u001B[38;5;241;43m.\u001B[39;49m\u001B[43mcalculate_I_backward\u001B[49m\u001B[43m(\u001B[49m\u001B[38;5;241;43m0\u001B[39;49m\u001B[43m,\u001B[49m\u001B[43m \u001B[49m\u001B[43mD\u001B[49m\u001B[43m,\u001B[49m\u001B[43m \u001B[49m\u001B[43mR\u001B[49m\u001B[43m,\u001B[49m\u001B[43m \u001B[49m\u001B[43mT\u001B[49m\u001B[43m)\u001B[49m\n\u001B[1;32m    114\u001B[0m s\u001B[38;5;241m.\u001B[39mrecalculate_I_and_PI(PR, \u001B[38;5;241m1\u001B[39m, D, R, T)\n\u001B[1;32m    115\u001B[0m \u001B[38;5;66;03m#s.PI = min(s1.PI, PR(s, 0, D), PR(s, 1, D))\u001B[39;00m\n",
      "File \u001B[0;32m~/Praca/Nauka/publikacje/TaSTSPM/Folder/src/Sequence.py:195\u001B[0m, in \u001B[0;36mSequence.calculate_I_backward\u001B[0;34m(self, index, D, R, T)\u001B[0m\n\u001B[1;32m    193\u001B[0m \u001B[38;5;28;01mdef\u001B[39;00m \u001B[38;5;21mcalculate_I_backward\u001B[39m(\u001B[38;5;28mself\u001B[39m, index, D, R, T):\n\u001B[1;32m    194\u001B[0m     \u001B[38;5;28mself\u001B[39m\u001B[38;5;241m.\u001B[39melements[index]\u001B[38;5;241m.\u001B[39mI \u001B[38;5;241m=\u001B[39m \u001B[38;5;28mset\u001B[39m()\n\u001B[0;32m--> 195\u001B[0m     neighborhoods \u001B[38;5;241m=\u001B[39m [\u001B[38;5;28mself\u001B[39m\u001B[38;5;241m.\u001B[39mcalculate_neighborhood_backward(event, index, D, R, T) \u001B[38;5;28;01mfor\u001B[39;00m event \u001B[38;5;129;01min\u001B[39;00m \u001B[38;5;28mself\u001B[39m\u001B[38;5;241m.\u001B[39melements[index \u001B[38;5;241m+\u001B[39m \u001B[38;5;241m1\u001B[39m]\u001B[38;5;241m.\u001B[39mI]\n\u001B[1;32m    196\u001B[0m     merged_neighborhood \u001B[38;5;241m=\u001B[39m \u001B[38;5;28mset\u001B[39m()\u001B[38;5;241m.\u001B[39munion(\u001B[38;5;241m*\u001B[39mneighborhoods)\n\u001B[1;32m    197\u001B[0m     \u001B[38;5;28mself\u001B[39m\u001B[38;5;241m.\u001B[39melements[index]\u001B[38;5;241m.\u001B[39mI \u001B[38;5;241m=\u001B[39m merged_neighborhood\n",
      "File \u001B[0;32m~/Praca/Nauka/publikacje/TaSTSPM/Folder/src/Sequence.py:195\u001B[0m, in \u001B[0;36m<listcomp>\u001B[0;34m(.0)\u001B[0m\n\u001B[1;32m    193\u001B[0m \u001B[38;5;28;01mdef\u001B[39;00m \u001B[38;5;21mcalculate_I_backward\u001B[39m(\u001B[38;5;28mself\u001B[39m, index, D, R, T):\n\u001B[1;32m    194\u001B[0m     \u001B[38;5;28mself\u001B[39m\u001B[38;5;241m.\u001B[39melements[index]\u001B[38;5;241m.\u001B[39mI \u001B[38;5;241m=\u001B[39m \u001B[38;5;28mset\u001B[39m()\n\u001B[0;32m--> 195\u001B[0m     neighborhoods \u001B[38;5;241m=\u001B[39m [\u001B[38;5;28;43mself\u001B[39;49m\u001B[38;5;241;43m.\u001B[39;49m\u001B[43mcalculate_neighborhood_backward\u001B[49m\u001B[43m(\u001B[49m\u001B[43mevent\u001B[49m\u001B[43m,\u001B[49m\u001B[43m \u001B[49m\u001B[43mindex\u001B[49m\u001B[43m,\u001B[49m\u001B[43m \u001B[49m\u001B[43mD\u001B[49m\u001B[43m,\u001B[49m\u001B[43m \u001B[49m\u001B[43mR\u001B[49m\u001B[43m,\u001B[49m\u001B[43m \u001B[49m\u001B[43mT\u001B[49m\u001B[43m)\u001B[49m \u001B[38;5;28;01mfor\u001B[39;00m event \u001B[38;5;129;01min\u001B[39;00m \u001B[38;5;28mself\u001B[39m\u001B[38;5;241m.\u001B[39melements[index \u001B[38;5;241m+\u001B[39m \u001B[38;5;241m1\u001B[39m]\u001B[38;5;241m.\u001B[39mI]\n\u001B[1;32m    196\u001B[0m     merged_neighborhood \u001B[38;5;241m=\u001B[39m \u001B[38;5;28mset\u001B[39m()\u001B[38;5;241m.\u001B[39munion(\u001B[38;5;241m*\u001B[39mneighborhoods)\n\u001B[1;32m    197\u001B[0m     \u001B[38;5;28mself\u001B[39m\u001B[38;5;241m.\u001B[39melements[index]\u001B[38;5;241m.\u001B[39mI \u001B[38;5;241m=\u001B[39m merged_neighborhood\n",
      "File \u001B[0;32m~/Praca/Nauka/publikacje/TaSTSPM/Folder/src/Sequence.py:206\u001B[0m, in \u001B[0;36mSequence.calculate_neighborhood_backward\u001B[0;34m(self, event, index, D, R, T)\u001B[0m\n\u001B[1;32m    205\u001B[0m \u001B[38;5;28;01mdef\u001B[39;00m \u001B[38;5;21mcalculate_neighborhood_backward\u001B[39m(\u001B[38;5;28mself\u001B[39m, event, index, D, R, T):\n\u001B[0;32m--> 206\u001B[0m     \u001B[38;5;28;01mreturn\u001B[39;00m {e \u001B[38;5;28;01mfor\u001B[39;00m e \u001B[38;5;129;01min\u001B[39;00m D[\u001B[38;5;28mself\u001B[39m\u001B[38;5;241m.\u001B[39melements[index]\u001B[38;5;241m.\u001B[39mevent_type] \u001B[38;5;28;01mif\u001B[39;00m event\u001B[38;5;241m.\u001B[39mis_within_backward_spatiotemporal_distance(e, R, T)}\n",
      "File \u001B[0;32m~/Praca/Nauka/publikacje/TaSTSPM/Folder/src/Sequence.py:206\u001B[0m, in \u001B[0;36m<setcomp>\u001B[0;34m(.0)\u001B[0m\n\u001B[1;32m    205\u001B[0m \u001B[38;5;28;01mdef\u001B[39;00m \u001B[38;5;21mcalculate_neighborhood_backward\u001B[39m(\u001B[38;5;28mself\u001B[39m, event, index, D, R, T):\n\u001B[0;32m--> 206\u001B[0m     \u001B[38;5;28;01mreturn\u001B[39;00m {e \u001B[38;5;28;01mfor\u001B[39;00m e \u001B[38;5;129;01min\u001B[39;00m D[\u001B[38;5;28mself\u001B[39m\u001B[38;5;241m.\u001B[39melements[index]\u001B[38;5;241m.\u001B[39mevent_type] \u001B[38;5;28;01mif\u001B[39;00m \u001B[43mevent\u001B[49m\u001B[38;5;241;43m.\u001B[39;49m\u001B[43mis_within_backward_spatiotemporal_distance\u001B[49m\u001B[43m(\u001B[49m\u001B[43me\u001B[49m\u001B[43m,\u001B[49m\u001B[43m \u001B[49m\u001B[43mR\u001B[49m\u001B[43m,\u001B[49m\u001B[43m \u001B[49m\u001B[43mT\u001B[49m\u001B[43m)\u001B[49m}\n",
      "File \u001B[0;32m~/Praca/Nauka/publikacje/TaSTSPM/Folder/src/Sequence.py:19\u001B[0m, in \u001B[0;36mEvent.is_within_backward_spatiotemporal_distance\u001B[0;34m(self, e, R, T, distance_type)\u001B[0m\n\u001B[1;32m     15\u001B[0m \u001B[38;5;28;01mdef\u001B[39;00m \u001B[38;5;21mis_within_backward_spatiotemporal_distance\u001B[39m(\u001B[38;5;28mself\u001B[39m, e, R, T, distance_type \u001B[38;5;241m=\u001B[39m\u001B[38;5;124m'\u001B[39m\u001B[38;5;124mEarth\u001B[39m\u001B[38;5;124m'\u001B[39m):\n\u001B[1;32m     16\u001B[0m \n\u001B[1;32m     17\u001B[0m     \u001B[38;5;66;03m# Calculate the spatial distance\u001B[39;00m\n\u001B[1;32m     18\u001B[0m     \u001B[38;5;28;01mif\u001B[39;00m distance_type \u001B[38;5;241m==\u001B[39m \u001B[38;5;124m'\u001B[39m\u001B[38;5;124mEarth\u001B[39m\u001B[38;5;124m'\u001B[39m:\n\u001B[0;32m---> 19\u001B[0m         spatial_distance \u001B[38;5;241m=\u001B[39m \u001B[38;5;28;43mself\u001B[39;49m\u001B[38;5;241;43m.\u001B[39;49m\u001B[43mdistanceEarth\u001B[49m\u001B[43m(\u001B[49m\u001B[43me\u001B[49m\u001B[43m)\u001B[49m\n\u001B[1;32m     20\u001B[0m     \u001B[38;5;28;01melif\u001B[39;00m distance_type \u001B[38;5;241m==\u001B[39m \u001B[38;5;124m'\u001B[39m\u001B[38;5;124mEuclidean\u001B[39m\u001B[38;5;124m'\u001B[39m:\n\u001B[1;32m     21\u001B[0m         spatial_distance \u001B[38;5;241m=\u001B[39m \u001B[38;5;28mself\u001B[39m\u001B[38;5;241m.\u001B[39mdistanceEuclidian(e)\n",
      "File \u001B[0;32m~/Praca/Nauka/publikacje/TaSTSPM/Folder/src/Sequence.py:58\u001B[0m, in \u001B[0;36mEvent.distanceEarth\u001B[0;34m(self, e)\u001B[0m\n\u001B[1;32m     56\u001B[0m lon1r \u001B[38;5;241m=\u001B[39m deg2rad(\u001B[38;5;28mself\u001B[39m\u001B[38;5;241m.\u001B[39mx_location)\n\u001B[1;32m     57\u001B[0m lat2r \u001B[38;5;241m=\u001B[39m deg2rad(e\u001B[38;5;241m.\u001B[39my_location)\n\u001B[0;32m---> 58\u001B[0m lon2r \u001B[38;5;241m=\u001B[39m \u001B[43mdeg2rad\u001B[49m\u001B[43m(\u001B[49m\u001B[43me\u001B[49m\u001B[38;5;241;43m.\u001B[39;49m\u001B[43mx_location\u001B[49m\u001B[43m)\u001B[49m\n\u001B[1;32m     59\u001B[0m u \u001B[38;5;241m=\u001B[39m math\u001B[38;5;241m.\u001B[39msin((lat2r \u001B[38;5;241m-\u001B[39m lat1r) \u001B[38;5;241m/\u001B[39m \u001B[38;5;241m2\u001B[39m)\n\u001B[1;32m     60\u001B[0m v \u001B[38;5;241m=\u001B[39m math\u001B[38;5;241m.\u001B[39msin((lon2r \u001B[38;5;241m-\u001B[39m lon1r) \u001B[38;5;241m/\u001B[39m \u001B[38;5;241m2\u001B[39m)\n",
      "\u001B[0;31mKeyboardInterrupt\u001B[0m: "
     ]
    }
   ],
   "execution_count": 15
  },
  {
   "metadata": {},
   "cell_type": "code",
   "source": [
    "# Plot the execution times\n",
    "plt.figure(figsize=(10, 6))\n",
    "for length in sequence_lengths:\n",
    "    plt.plot(thetas, execution_times[length], label=f'Sequence Length={length}')\n",
    "plt.xlabel('Theta')\n",
    "plt.ylabel('Average Execution Time (seconds)')\n",
    "plt.title('Average Execution Time for TaSTSP')\n",
    "plt.legend()\n",
    "plt.grid(True)\n",
    "plt.show()\n",
    "\n",
    "# Plot the number of discovered patterns\n",
    "plt.figure(figsize=(10, 6))\n",
    "width = 0.2  # width of the bars\n",
    "x = range(len(thetas))\n",
    "\n",
    "for i, length in enumerate(sequence_lengths):\n",
    "    plt.bar([p + width * i for p in x], pattern_counts[length], width, label=f'Sequence Length={length}')\n",
    "\n",
    "plt.xlabel('Theta')\n",
    "plt.ylabel('Average Number of Discovered Patterns')\n",
    "plt.title('Average Number of Discovered Patterns for TaSTSP')\n",
    "plt.xticks([p + 1.5 * width for p in x], thetas)\n",
    "plt.legend()\n",
    "plt.grid(True)\n",
    "plt.show()"
   ],
   "id": "fee0e9e739e38eb3",
   "outputs": [],
   "execution_count": null
  },
  {
   "metadata": {},
   "cell_type": "code",
   "source": "",
   "id": "8cdeff62a3a32de8",
   "outputs": [],
   "execution_count": null
  }
 ],
 "metadata": {
  "kernelspec": {
   "display_name": "Python 3",
   "language": "python",
   "name": "python3"
  },
  "language_info": {
   "codemirror_mode": {
    "name": "ipython",
    "version": 2
   },
   "file_extension": ".py",
   "mimetype": "text/x-python",
   "name": "python",
   "nbconvert_exporter": "python",
   "pygments_lexer": "ipython2",
   "version": "2.7.6"
  }
 },
 "nbformat": 4,
 "nbformat_minor": 5
}
