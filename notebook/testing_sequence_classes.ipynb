{
 "cells": [
  {
   "cell_type": "markdown",
   "source": [
    "## Notebook in order to test Sequence.py module classes."
   ],
   "metadata": {
    "collapsed": false
   },
   "id": "3c5268566b594b05"
  },
  {
   "cell_type": "code",
   "execution_count": 1,
   "id": "initial_id",
   "metadata": {
    "collapsed": true,
    "ExecuteTime": {
     "end_time": "2024-06-11T10:24:00.536640Z",
     "start_time": "2024-06-11T10:24:00.527190Z"
    }
   },
   "outputs": [],
   "source": [
    "from src.Sequence import *"
   ]
  },
  {
   "cell_type": "code",
   "execution_count": 2,
   "outputs": [
    {
     "data": {
      "text/plain": "True"
     },
     "execution_count": 2,
     "metadata": {},
     "output_type": "execute_result"
    }
   ],
   "source": [
    "e1 = Event(1, 'A', 10, 20, 30)\n",
    "e2 = Event(2, 'B', 10, 15, 40)\n",
    "e1.is_within_spatiotemporal_distance(e2, 10, 20)\n"
   ],
   "metadata": {
    "collapsed": false,
    "ExecuteTime": {
     "end_time": "2024-06-11T10:24:00.547963Z",
     "start_time": "2024-06-11T10:24:00.537044Z"
    }
   },
   "id": "8246c7465b716482"
  },
  {
   "cell_type": "code",
   "execution_count": 3,
   "outputs": [
    {
     "name": "stdout",
     "output_type": "stream",
     "text": [
      "Event Type: A, Number of Events: 1\n",
      "\tEvent ID: 1, Time: 30, Location: (10, 20)\n",
      "Event Type: B, Number of Events: 2\n",
      "\tEvent ID: 3, Time: 90, Location: (1, 0)\n",
      "\tEvent ID: 2, Time: 40, Location: (10, 15)\n",
      "\n",
      "Time Ranges:\n",
      "Event Type: A, Time Range: (30, 30)\n",
      "Event Type: B, Time Range: (40, 90)\n"
     ]
    }
   ],
   "source": [
    "d1 = Dataset()\n",
    "\n",
    "d1.add_event(e1)\n",
    "d1.add_event(e2)\n",
    "d1.add_event(Event(3, 'B', 1, 0, 90))\n",
    "\n",
    "print(d1)\n"
   ],
   "metadata": {
    "collapsed": false,
    "ExecuteTime": {
     "end_time": "2024-06-11T10:24:00.552273Z",
     "start_time": "2024-06-11T10:24:00.548324Z"
    }
   },
   "id": "9013a539ef2b5b48"
  },
  {
   "cell_type": "code",
   "execution_count": 4,
   "outputs": [],
   "source": [
    "el1 = Element('A', 0, 10, {e1, e2})\n",
    "el2 = Element('B', 0, 10, {e1})\n"
   ],
   "metadata": {
    "collapsed": false,
    "ExecuteTime": {
     "end_time": "2024-06-11T10:24:00.556661Z",
     "start_time": "2024-06-11T10:24:00.553222Z"
    }
   },
   "id": "1f06c6f3837c28be"
  },
  {
   "cell_type": "code",
   "execution_count": 5,
   "outputs": [
    {
     "name": "stdout",
     "output_type": "stream",
     "text": [
      "Sequence:\n",
      "Element(type=A, T_min=0, T_max=10, I={<src.Sequence.Event object at 0x10834c6a0>, <src.Sequence.Event object at 0x10834ce50>})\n",
      "Element(type=B, T_min=0, T_max=10, I={<src.Sequence.Event object at 0x10834c6a0>})\n",
      "PI: 0\n"
     ]
    }
   ],
   "source": [
    "s1 = Sequence([el1,el2])\n",
    "print(s1)\n",
    "#s1.add_element(Element('C', 0, 10, {e2}))\n",
    "#print(s1)"
   ],
   "metadata": {
    "collapsed": false,
    "ExecuteTime": {
     "end_time": "2024-06-11T10:24:00.584480Z",
     "start_time": "2024-06-11T10:24:00.558232Z"
    }
   },
   "id": "ef35f2d65355604f"
  },
  {
   "cell_type": "code",
   "execution_count": 6,
   "outputs": [
    {
     "name": "stdout",
     "output_type": "stream",
     "text": [
      "False\n",
      "True\n"
     ]
    }
   ],
   "source": [
    "s2 = Sequence([el1, el1, el2])\n",
    "print(s1.is_supersequence_of(s2))\n",
    "print(s1.is_subsequence_of(s2))"
   ],
   "metadata": {
    "collapsed": false,
    "ExecuteTime": {
     "end_time": "2024-06-11T10:24:00.585103Z",
     "start_time": "2024-06-11T10:24:00.560672Z"
    }
   },
   "id": "4008a6bb28041e0"
  },
  {
   "cell_type": "code",
   "execution_count": 6,
   "outputs": [],
   "source": [],
   "metadata": {
    "collapsed": false,
    "ExecuteTime": {
     "end_time": "2024-06-11T10:24:00.585367Z",
     "start_time": "2024-06-11T10:24:00.564116Z"
    }
   },
   "id": "5dfd1c54ece18219"
  }
 ],
 "metadata": {
  "kernelspec": {
   "display_name": "Python 3",
   "language": "python",
   "name": "python3"
  },
  "language_info": {
   "codemirror_mode": {
    "name": "ipython",
    "version": 2
   },
   "file_extension": ".py",
   "mimetype": "text/x-python",
   "name": "python",
   "nbconvert_exporter": "python",
   "pygments_lexer": "ipython2",
   "version": "2.7.6"
  }
 },
 "nbformat": 4,
 "nbformat_minor": 5
}
