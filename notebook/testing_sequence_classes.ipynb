{
 "cells": [
  {
   "cell_type": "markdown",
   "source": [
    "## Notebook in order to test Sequence.py module classes."
   ],
   "metadata": {
    "collapsed": false
   },
   "id": "3c5268566b594b05"
  },
  {
   "cell_type": "code",
   "execution_count": 1,
   "id": "initial_id",
   "metadata": {
    "collapsed": true,
    "ExecuteTime": {
     "end_time": "2024-06-11T13:36:09.703992Z",
     "start_time": "2024-06-11T13:36:09.428141Z"
    }
   },
   "outputs": [],
   "source": [
    "from src.Sequence import *"
   ]
  },
  {
   "cell_type": "code",
   "execution_count": 2,
   "outputs": [
    {
     "data": {
      "text/plain": "True"
     },
     "execution_count": 2,
     "metadata": {},
     "output_type": "execute_result"
    }
   ],
   "source": [
    "e1 = Event(1, 'A', 10, 20, 30)\n",
    "e2 = Event(2, 'B', 10, 15, 40)\n",
    "e1.is_within_spatiotemporal_distance(e2, 10, 20)\n"
   ],
   "metadata": {
    "collapsed": false,
    "ExecuteTime": {
     "end_time": "2024-06-11T13:36:09.721293Z",
     "start_time": "2024-06-11T13:36:09.715957Z"
    }
   },
   "id": "8246c7465b716482"
  },
  {
   "cell_type": "code",
   "execution_count": 3,
   "outputs": [
    {
     "name": "stdout",
     "output_type": "stream",
     "text": [
      "Event Type: A, Number of Events: 1\n",
      "\tEvent ID: 1, Time: 30, Location: (10, 20)\n",
      "Event Type: B, Number of Events: 2\n",
      "\tEvent ID: 3, Time: 90, Location: (1, 0)\n",
      "\tEvent ID: 2, Time: 40, Location: (10, 15)\n",
      "\n",
      "Time Ranges:\n",
      "Event Type: A, Time Range: (30, 30)\n",
      "Event Type: B, Time Range: (40, 90)\n"
     ]
    }
   ],
   "source": [
    "d1 = Dataset()\n",
    "\n",
    "d1.add_event(e1)\n",
    "d1.add_event(e2)\n",
    "d1.add_event(Event(3, 'B', 1, 0, 90))\n",
    "\n",
    "print(d1)\n"
   ],
   "metadata": {
    "collapsed": false,
    "ExecuteTime": {
     "end_time": "2024-06-11T13:36:09.724560Z",
     "start_time": "2024-06-11T13:36:09.720632Z"
    }
   },
   "id": "9013a539ef2b5b48"
  },
  {
   "cell_type": "code",
   "execution_count": 4,
   "outputs": [
    {
     "ename": "TypeError",
     "evalue": "Element.__init__() takes from 2 to 3 positional arguments but 5 were given",
     "output_type": "error",
     "traceback": [
      "\u001B[0;31m---------------------------------------------------------------------------\u001B[0m",
      "\u001B[0;31mTypeError\u001B[0m                                 Traceback (most recent call last)",
      "Cell \u001B[0;32mIn[4], line 1\u001B[0m\n\u001B[0;32m----> 1\u001B[0m el1 \u001B[38;5;241m=\u001B[39m \u001B[43mElement\u001B[49m\u001B[43m(\u001B[49m\u001B[38;5;124;43m'\u001B[39;49m\u001B[38;5;124;43mA\u001B[39;49m\u001B[38;5;124;43m'\u001B[39;49m\u001B[43m,\u001B[49m\u001B[43m \u001B[49m\u001B[38;5;241;43m0\u001B[39;49m\u001B[43m,\u001B[49m\u001B[43m \u001B[49m\u001B[38;5;241;43m10\u001B[39;49m\u001B[43m,\u001B[49m\u001B[43m \u001B[49m\u001B[43m{\u001B[49m\u001B[43me1\u001B[49m\u001B[43m,\u001B[49m\u001B[43m \u001B[49m\u001B[43me2\u001B[49m\u001B[43m}\u001B[49m\u001B[43m)\u001B[49m\n\u001B[1;32m      2\u001B[0m el2 \u001B[38;5;241m=\u001B[39m Element(\u001B[38;5;124m'\u001B[39m\u001B[38;5;124mB\u001B[39m\u001B[38;5;124m'\u001B[39m, \u001B[38;5;241m0\u001B[39m, \u001B[38;5;241m10\u001B[39m, {e1})\n",
      "\u001B[0;31mTypeError\u001B[0m: Element.__init__() takes from 2 to 3 positional arguments but 5 were given"
     ]
    }
   ],
   "source": [
    "el1 = Element('A', 0, 10, {e1, e2})\n",
    "el2 = Element('B', 0, 10, {e1})\n"
   ],
   "metadata": {
    "collapsed": false,
    "ExecuteTime": {
     "end_time": "2024-06-11T13:36:09.976319Z",
     "start_time": "2024-06-11T13:36:09.725447Z"
    }
   },
   "id": "1f06c6f3837c28be"
  },
  {
   "cell_type": "code",
   "execution_count": null,
   "outputs": [],
   "source": [
    "s1 = Sequence([el1,el2])\n",
    "print(s1)\n",
    "#s1.add_element(Element('C', 0, 10, {e2}))\n",
    "#print(s1)"
   ],
   "metadata": {
    "collapsed": false,
    "ExecuteTime": {
     "start_time": "2024-06-11T13:36:09.975251Z"
    }
   },
   "id": "ef35f2d65355604f"
  },
  {
   "cell_type": "code",
   "execution_count": null,
   "outputs": [],
   "source": [
    "s2 = Sequence([el1, el1, el2])\n",
    "print(s1.is_supersequence_of(s2))\n",
    "print(s1.is_subsequence_of(s2))"
   ],
   "metadata": {
    "collapsed": false,
    "ExecuteTime": {
     "start_time": "2024-06-11T13:36:09.976652Z"
    }
   },
   "id": "4008a6bb28041e0"
  },
  {
   "cell_type": "code",
   "execution_count": null,
   "outputs": [],
   "source": "",
   "metadata": {
    "collapsed": false,
    "ExecuteTime": {
     "start_time": "2024-06-11T13:36:09.977515Z"
    }
   },
   "id": "5dfd1c54ece18219"
  }
 ],
 "metadata": {
  "kernelspec": {
   "display_name": "Python 3",
   "language": "python",
   "name": "python3"
  },
  "language_info": {
   "codemirror_mode": {
    "name": "ipython",
    "version": 2
   },
   "file_extension": ".py",
   "mimetype": "text/x-python",
   "name": "python",
   "nbconvert_exporter": "python",
   "pygments_lexer": "ipython2",
   "version": "2.7.6"
  }
 },
 "nbformat": 4,
 "nbformat_minor": 5
}
